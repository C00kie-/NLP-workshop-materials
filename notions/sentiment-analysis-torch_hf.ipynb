{
  "nbformat": 4,
  "nbformat_minor": 0,
  "metadata": {
    "colab": {
      "provenance": [],
      "authorship_tag": "ABX9TyMUuhWF9MHsGk5ZaLq+V0Fy",
      "include_colab_link": true
    },
    "kernelspec": {
      "name": "python3",
      "display_name": "Python 3"
    },
    "language_info": {
      "name": "python"
    }
  },
  "cells": [
    {
      "cell_type": "markdown",
      "metadata": {
        "id": "view-in-github",
        "colab_type": "text"
      },
      "source": [
        "<a href=\"https://colab.research.google.com/github/C00kie-/nlp/blob/main/sentiment_analysis_torch_hf.ipynb\" target=\"_parent\"><img src=\"https://colab.research.google.com/assets/colab-badge.svg\" alt=\"Open In Colab\"/></a>"
      ]
    },
    {
      "cell_type": "code",
      "source": [
        "!pip install transformers > /dev/null"
      ],
      "metadata": {
        "id": "_VrdtTg-4zHd"
      },
      "execution_count": 1,
      "outputs": []
    },
    {
      "cell_type": "code",
      "source": [
        "#Imports: Load the PyTorch library and specific classes from Hugging Face's transformers.\n",
        "import torch\n",
        "#Tokenizer Initialization: Load the DistilBERT tokenizer with uncased vocabulary.\n",
        "from transformers import DistilBertTokenizer, DistilBertForSequenceClassification"
      ],
      "metadata": {
        "id": "zAH2Y00S5Fw-"
      },
      "execution_count": 2,
      "outputs": []
    },
    {
      "cell_type": "code",
      "source": [
        "#Model Initialization: Load the DistilBERT model for sequence classification.\n",
        "tokenizer = DistilBertTokenizer.from_pretrained(\"distilbert-base-uncased\")\n",
        "#Model Initialization: Load the DistilBERT model for sequence classification.\n",
        "model = DistilBertForSequenceClassification.from_pretrained(\"distilbert-base-uncased\")\n",
        "#Tokenization: Convert the input text to model-friendly tokens and format as PyTorch tensor.\n",
        "inputs = tokenizer(\"I feel bad\", return_tensors=\"pt\")"
      ],
      "metadata": {
        "colab": {
          "base_uri": "https://localhost:8080/"
        },
        "id": "elwG_Uus5KbJ",
        "outputId": "db3a0c7f-f15e-48bb-9236-a1190d935125"
      },
      "execution_count": 7,
      "outputs": [
        {
          "output_type": "stream",
          "name": "stderr",
          "text": [
            "Some weights of DistilBertForSequenceClassification were not initialized from the model checkpoint at distilbert-base-uncased and are newly initialized: ['pre_classifier.weight', 'classifier.bias', 'pre_classifier.bias', 'classifier.weight']\n",
            "You should probably TRAIN this model on a down-stream task to be able to use it for predictions and inference.\n"
          ]
        }
      ]
    },
    {
      "cell_type": "code",
      "execution_count": 8,
      "metadata": {
        "colab": {
          "base_uri": "https://localhost:8080/",
          "height": 34
        },
        "id": "yWi8uskd3oVh",
        "outputId": "dca1dcb2-dbe1-4cc4-cd2e-2436b6f99c6f"
      },
      "outputs": [
        {
          "output_type": "execute_result",
          "data": {
            "text/plain": [
              "'LABEL_1'"
            ],
            "application/vnd.google.colaboratory.intrinsic+json": {
              "type": "string"
            }
          },
          "metadata": {},
          "execution_count": 8
        }
      ],
      "source": [
        "#Make predictions\n",
        "#Inference: Pass tokenized input through the model without computing gradients and get logits\n",
        "with torch.no_grad():\n",
        "    logits = model(**inputs).logits\n",
        "#Prediction: Find the most probable class ID and translate it to its corresponding label\n",
        "predicted_class_id = logits.argmax().item()\n",
        "model.config.id2label[predicted_class_id]"
      ]
    }
  ]
}