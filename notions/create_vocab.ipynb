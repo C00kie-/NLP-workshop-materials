{
 "cells": [
  {
   "cell_type": "code",
   "execution_count": 81,
   "id": "0411a4aa-78aa-4938-a944-e63642b6b891",
   "metadata": {},
   "outputs": [],
   "source": [
    "#create vocab, two sets: positive and negative reviews; from IMDB dataset"
   ]
  },
  {
   "cell_type": "code",
   "execution_count": 82,
   "id": "8a9bd7ae-4ebe-437f-8bf1-917d4e7686cb",
   "metadata": {},
   "outputs": [],
   "source": [
    "import re\n",
    "from datasets import load_dataset\n",
    "from itertools import islice"
   ]
  },
  {
   "cell_type": "code",
   "execution_count": 83,
   "id": "4d392130-fab7-4cd1-816e-d44afea5f5d4",
   "metadata": {},
   "outputs": [
    {
     "name": "stderr",
     "output_type": "stream",
     "text": [
      "Using the latest cached version of the module from /Users/mprotect/.cache/huggingface/modules/datasets_modules/datasets/imdb/d613c88cf8fa3bab83b4ded3713f1f74830d1100e171db75bbddb80b3345c9c0 (last modified on Mon Aug 28 23:39:44 2023) since it couldn't be found locally at imdb, or remotely on the Hugging Face Hub.\n"
     ]
    },
    {
     "data": {
      "text/plain": [
       "Dataset({\n",
       "    features: ['text', 'label'],\n",
       "    num_rows: 25000\n",
       "})"
      ]
     },
     "execution_count": 83,
     "metadata": {},
     "output_type": "execute_result"
    }
   ],
   "source": [
    "#loading a text from hf datasets\n",
    "dataset = load_dataset('imdb', split='train')\n",
    "dataset"
   ]
  },
  {
   "cell_type": "code",
   "execution_count": 84,
   "id": "4668cba9-99ff-4cfe-94ed-db18baeeaa5d",
   "metadata": {},
   "outputs": [
    {
     "name": "stdout",
     "output_type": "stream",
     "text": [
      "I rented I AM CURIOUS-YELLOW from my video store because of all the controversy that surrounded it when it was first released in 1967. I also heard that at first it was seized by U.S. customs if it ever tried to enter this country, therefore being a fan of films considered \"controversial\" I really had to see this for myself.<br /><br />The plot is centered around a young Swedish drama student named Lena who wants to learn everything she can about life. In particular she wants to focus her attentions to making some sort of documentary on what the average Swede thought about certain political issues such as the Vietnam War and race issues in the United States. In between asking politicians and ordinary denizens of Stockholm about their opinions on politics, she has sex with her drama teacher, classmates, and married men.<br /><br />What kills me about I AM CURIOUS-YELLOW is that 40 years ago, this was considered pornographic. Really, the sex and nudity scenes are few and far between, even then it's not shot like some cheaply made porno. While my countrymen mind find it shocking, in reality sex and nudity are a major staple in Swedish cinema. Even Ingmar Bergman, arguably their answer to good old boy John Ford, had sex scenes in his films.<br /><br />I do commend the filmmakers for the fact that any sex shown in the film is shown for artistic purposes rather than just to shock people and make money to be shown in pornographic theaters in America. I AM CURIOUS-YELLOW is a good film for anyone wanting to study the meat and potatoes (no pun intended) of Swedish cinema. But really, this film doesn't have much of a plot.\n"
     ]
    }
   ],
   "source": [
    "print(dataset[0]['text'])"
   ]
  },
  {
   "cell_type": "code",
   "execution_count": 85,
   "id": "b7d684a1-e25a-4a56-9d41-ea8af4e44823",
   "metadata": {},
   "outputs": [
    {
     "name": "stdout",
     "output_type": "stream",
     "text": [
      "0\n"
     ]
    }
   ],
   "source": [
    "print(dataset[0]['label'])"
   ]
  },
  {
   "cell_type": "code",
   "execution_count": 86,
   "id": "b6356129-4e23-4eef-992b-f94f73b43d50",
   "metadata": {},
   "outputs": [
    {
     "data": {
      "text/plain": [
       "['I rented I AM CURIOUS-YELLOW from my video store because of all the controversy that surrounded it when it was first released in 1967. I also heard that at first it was seized by U.S. customs if it ever tried to enter this country, therefore being a fan of films considered \"controversial\" I really had to see this for myself.<br /><br />The plot is centered around a young Swedish drama student named Lena who wants to learn everything she can about life. In particular she wants to focus her attentions to making some sort of documentary on what the average Swede thought about certain political issues such as the Vietnam War and race issues in the United States. In between asking politicians and ordinary denizens of Stockholm about their opinions on politics, she has sex with her drama teacher, classmates, and married men.<br /><br />What kills me about I AM CURIOUS-YELLOW is that 40 years ago, this was considered pornographic. Really, the sex and nudity scenes are few and far between, even then it\\'s not shot like some cheaply made porno. While my countrymen mind find it shocking, in reality sex and nudity are a major staple in Swedish cinema. Even Ingmar Bergman, arguably their answer to good old boy John Ford, had sex scenes in his films.<br /><br />I do commend the filmmakers for the fact that any sex shown in the film is shown for artistic purposes rather than just to shock people and make money to be shown in pornographic theaters in America. I AM CURIOUS-YELLOW is a good film for anyone wanting to study the meat and potatoes (no pun intended) of Swedish cinema. But really, this film doesn\\'t have much of a plot.',\n",
       " '\"I Am Curious: Yellow\" is a risible and pretentious steaming pile. It doesn\\'t matter what one\\'s political views are because this film can hardly be taken seriously on any level. As for the claim that frontal male nudity is an automatic NC-17, that isn\\'t true. I\\'ve seen R-rated films with male nudity. Granted, they only offer some fleeting views, but where are the R-rated films with gaping vulvas and flapping labia? Nowhere, because they don\\'t exist. The same goes for those crappy cable shows: schlongs swinging in the breeze but not a clitoris in sight. And those pretentious indie movies like The Brown Bunny, in which we\\'re treated to the site of Vincent Gallo\\'s throbbing johnson, but not a trace of pink visible on Chloe Sevigny. Before crying (or implying) \"double-standard\" in matters of nudity, the mentally obtuse should take into account one unavoidably obvious anatomical difference between men and women: there are no genitals on display when actresses appears nude, and the same cannot be said for a man. In fact, you generally won\\'t see female genitals in an American film in anything short of porn or explicit erotica. This alleged double-standard is less a double standard than an admittedly depressing ability to come to terms culturally with the insides of women\\'s bodies.',\n",
       " \"If only to avoid making this type of film in the future. This film is interesting as an experiment but tells no cogent story.<br /><br />One might feel virtuous for sitting thru it because it touches on so many IMPORTANT issues but it does so without any discernable motive. The viewer comes away with no new perspectives (unless one comes up with one while one's mind wanders, as it will invariably do during this pointless film).<br /><br />One might better spend one's time staring out a window at a tree growing.<br /><br />\",\n",
       " \"This film was probably inspired by Godard's Masculin, féminin and I urge you to see that film instead.<br /><br />The film has two strong elements and those are, (1) the realistic acting (2) the impressive, undeservedly good, photo. Apart from that, what strikes me most is the endless stream of silliness. Lena Nyman has to be most annoying actress in the world. She acts so stupid and with all the nudity in this film,...it's unattractive. Comparing to Godard's film, intellectuality has been replaced with stupidity. Without going too far on this subject, I would say that follows from the difference in ideals between the French and the Swedish society.<br /><br />A movie of its time, and place. 2/10.\",\n",
       " 'Oh, brother...after hearing about this ridiculous film for umpteen years all I can think of is that old Peggy Lee song..<br /><br />\"Is that all there is??\" ...I was just an early teen when this smoked fish hit the U.S. I was too young to get in the theater (although I did manage to sneak into \"Goodbye Columbus\"). Then a screening at a local film museum beckoned - Finally I could see this film, except now I was as old as my parents were when they schlepped to see it!!<br /><br />The ONLY reason this film was not condemned to the anonymous sands of time was because of the obscenity case sparked by its U.S. release. MILLIONS of people flocked to this stinker, thinking they were going to see a sex film...Instead, they got lots of closeups of gnarly, repulsive Swedes, on-street interviews in bland shopping malls, asinie political pretension...and feeble who-cares simulated sex scenes with saggy, pale actors.<br /><br />Cultural icon, holy grail, historic artifact..whatever this thing was, shred it, burn it, then stuff the ashes in a lead box!<br /><br />Elite esthetes still scrape to find value in its boring pseudo revolutionary political spewings..But if it weren\\'t for the censorship scandal, it would have been ignored, then forgotten.<br /><br />Instead, the \"I Am Blank, Blank\" rhythymed title was repeated endlessly for years as a titilation for porno films (I am Curious, Lavender - for gay films, I Am Curious, Black - for blaxploitation films, etc..) and every ten years or so the thing rises from the dead, to be viewed by a new generation of suckers who want to see that \"naughty sex film\" that \"revolutionized the film industry\"...<br /><br />Yeesh, avoid like the plague..Or if you MUST see it - rent the video and fast forward to the \"dirty\" parts, just to get it over with.<br /><br />']"
      ]
     },
     "execution_count": 86,
     "metadata": {},
     "output_type": "execute_result"
    }
   ],
   "source": [
    "all_review = list((review['text'] for review in dataset))\n",
    "all_review[:5]"
   ]
  },
  {
   "cell_type": "code",
   "execution_count": 87,
   "id": "de794473",
   "metadata": {},
   "outputs": [
    {
     "data": {
      "text/plain": [
       "list"
      ]
     },
     "execution_count": 87,
     "metadata": {},
     "output_type": "execute_result"
    }
   ],
   "source": [
    "type(all_review)"
   ]
  },
  {
   "cell_type": "code",
   "execution_count": 104,
   "id": "ced8e47b-cd07-4599-873a-2609fc4e290f",
   "metadata": {},
   "outputs": [],
   "source": [
    "# Assuming positive reviews are labeled with 1, limit to 10 reviews\n",
    "pos_review = list(islice((review['text'] for review in dataset if review['label']), 2))\n",
    "# pos_review"
   ]
  },
  {
   "cell_type": "code",
   "execution_count": 89,
   "id": "b64ff2f0",
   "metadata": {},
   "outputs": [
    {
     "data": {
      "text/plain": [
       "list"
      ]
     },
     "execution_count": 89,
     "metadata": {},
     "output_type": "execute_result"
    }
   ],
   "source": [
    "type(pos_review)"
   ]
  },
  {
   "cell_type": "code",
   "execution_count": 105,
   "id": "eea07b01-aaaa-43b5-ab8b-b23665a86d4e",
   "metadata": {},
   "outputs": [],
   "source": [
    "neg_review = list(islice((review['text'] for review in dataset if review['label'] == 0), 2))\n",
    "# neg_review"
   ]
  },
  {
   "cell_type": "code",
   "execution_count": 98,
   "id": "556cad56",
   "metadata": {},
   "outputs": [],
   "source": [
    "import re\n",
    "\n",
    "def process_data(text):\n",
    "    # Convert the text to lower case\n",
    "    text = text.lower()\n",
    "    # Use a regular expression to find all word characters\n",
    "    words = re.findall(r'\\w+', text)\n",
    "    return words"
   ]
  },
  {
   "cell_type": "code",
   "execution_count": 106,
   "id": "a7bcff7f",
   "metadata": {},
   "outputs": [
    {
     "name": "stdout",
     "output_type": "stream",
     "text": [
      "157\n",
      "{'but', 'in', 's', 'storyline', 'never', 'perhaps', 'theaters', 'unrelentingly', 'ups', 'noir', 'grim', 'perfect', 'seen', 'hollywood', 'much', 'there', 'crafted', 'were', 'away', 'by', 'summer', 'man', 'presented', 'effect', 'work', 'woman', 'whose', 'most', 'cameras', 'and', 'sense', 'distracting', 'then', 'too', 'bit', 'from', 'best', 'everyone', 'of', 'years', 'has', 'is', 'instead', 'd', 'this', 'emotionally', 'exhibits', 'american', 'spoil', 'cure', 'follow', 'offers', 'among', 'just', 'it', 'thrillers', 'theoretical', 'well', 'suspense', 'contrast', 'dream', 'for', 'coherent', 'frightening', 'are', 'understand', 'as', 'involved', 'third', 'set', 'gotten', 'his', 'gets', 'talked', 'future', 'without', 'who', 'striking', 'natives', 'you', 'loss', 'clogging', 'being', 'direction', 'with', 'acclaim', 'influenced', 'making', 'here', 'heavily', 'doesn', 'combination', 've', 'hard', 'flashy', 'camera', 'one', 'dogma', 'like', 'waves', 'have', 'would', 'postwar', 'movie', 'disjointed', 'than', 'innocent', 'wave', 'the', 'original', 'him', 'if', 'he', 'sees', 'von', 'inventive', 'went', 'say', 'sun', 'common', 'nightmare', 'really', 'humor', 'decided', 'style', 'naivety', 'intriguing', 'zentropa', 'to', 'those', 'blockbusters', 'europe', 'respect', 'film', 'handheld', 'ttm', 'days', 'all', 'right', 'bad', 'these', 'i', 't', 'dark', 'another', 'rubble', 'a', 'breaking', 'br', 'an', 'shine', 'more', 'trier', 'unique', 'that', 'intentional', 'into'}\n"
     ]
    }
   ],
   "source": [
    "vocab = set()\n",
    "\n",
    "# Iterate over each review in the dataset\n",
    "for review in pos_review:\n",
    "    # Process each review to get a list of words\n",
    "    word_list = process_data(review)\n",
    "    # Update the vocab set with new words from this review\n",
    "    vocab.update(word_list)\n",
    "\n",
    "# Now vocab contains all unique words from all reviews\n",
    "print(len(vocab))\n",
    "print(vocab)"
   ]
  },
  {
   "cell_type": "code",
   "execution_count": null,
   "id": "e0f8fc34",
   "metadata": {},
   "outputs": [],
   "source": []
  }
 ],
 "metadata": {
  "kernelspec": {
   "display_name": "Python 3 (ipykernel)",
   "language": "python",
   "name": "python3"
  },
  "language_info": {
   "codemirror_mode": {
    "name": "ipython",
    "version": 3
   },
   "file_extension": ".py",
   "mimetype": "text/x-python",
   "name": "python",
   "nbconvert_exporter": "python",
   "pygments_lexer": "ipython3",
   "version": "3.12.2"
  }
 },
 "nbformat": 4,
 "nbformat_minor": 5
}
