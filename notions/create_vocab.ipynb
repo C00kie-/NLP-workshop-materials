{
 "cells": [
  {
   "cell_type": "code",
   "execution_count": null,
   "id": "0411a4aa-78aa-4938-a944-e63642b6b891",
   "metadata": {},
   "outputs": [],
   "source": [
    "#create vocab, two sets: positive and negative reviews; from IMDB dataset"
   ]
  },
  {
   "cell_type": "code",
   "execution_count": null,
   "id": "8a9bd7ae-4ebe-437f-8bf1-917d4e7686cb",
   "metadata": {},
   "outputs": [],
   "source": [
    "import re\n",
    "from datasets import load_dataset\n",
    "from itertools import islice"
   ]
  },
  {
   "cell_type": "code",
   "execution_count": null,
   "id": "4d392130-fab7-4cd1-816e-d44afea5f5d4",
   "metadata": {},
   "outputs": [],
   "source": [
    "#loading a text from hf datasets\n",
    "dataset = load_dataset('imdb', split='train')\n",
    "dataset"
   ]
  },
  {
   "cell_type": "code",
   "execution_count": null,
   "id": "4668cba9-99ff-4cfe-94ed-db18baeeaa5d",
   "metadata": {},
   "outputs": [],
   "source": [
    "print(dataset[0]['text'])"
   ]
  },
  {
   "cell_type": "code",
   "execution_count": null,
   "id": "b7d684a1-e25a-4a56-9d41-ea8af4e44823",
   "metadata": {},
   "outputs": [],
   "source": [
    "print(dataset[0]['label'])"
   ]
  },
  {
   "cell_type": "code",
   "execution_count": null,
   "id": "b6356129-4e23-4eef-992b-f94f73b43d50",
   "metadata": {},
   "outputs": [],
   "source": [
    "all_review = list((review['text'] for review in dataset))\n",
    "all_review[:5]"
   ]
  },
  {
   "cell_type": "code",
   "execution_count": null,
   "id": "ced8e47b-cd07-4599-873a-2609fc4e290f",
   "metadata": {},
   "outputs": [],
   "source": [
    "# Assuming positive reviews are labeled with 1, limit to 10 reviews\n",
    "pos_review = list(islice((review['text'] for review in dataset if review['label']), 10))\n",
    "pos_review"
   ]
  },
  {
   "cell_type": "code",
   "execution_count": null,
   "id": "eea07b01-aaaa-43b5-ab8b-b23665a86d4e",
   "metadata": {},
   "outputs": [],
   "source": [
    "neg_review = list(islice((review['text'] for review in dataset if review['label'] == 0), 10))\n",
    "neg_review"
   ]
  },
  {
   "cell_type": "code",
   "execution_count": null,
   "id": "b71e5726-aca9-4737-bf05-87d99f108e58",
   "metadata": {},
   "outputs": [],
   "source": [
    "def process_data(text):\n",
    "    words = []\n",
    "    for seq in text:\n",
    "        seq = seq.lower()\n",
    "    words = re.findall('\\w+', seq)\n",
    "    return words"
   ]
  },
  {
   "cell_type": "code",
   "execution_count": null,
   "id": "956ae67c-2a5d-4359-a31e-1c3e1adee718",
   "metadata": {},
   "outputs": [],
   "source": [
    "word_list = process_data(pos_review)\n",
    "vocab = set(word_list)\n",
    "print(vocab)\n",
    "print(len(vocab))"
   ]
  }
 ],
 "metadata": {
  "kernelspec": {
   "display_name": "Python 3 (ipykernel)",
   "language": "python",
   "name": "python3"
  },
  "language_info": {
   "codemirror_mode": {
    "name": "ipython",
    "version": 3
   },
   "file_extension": ".py",
   "mimetype": "text/x-python",
   "name": "python",
   "nbconvert_exporter": "python",
   "pygments_lexer": "ipython3",
   "version": "3.10.12"
  }
 },
 "nbformat": 4,
 "nbformat_minor": 5
}
