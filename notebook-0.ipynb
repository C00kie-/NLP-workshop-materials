{
 "cells": [
  {
   "cell_type": "markdown",
   "id": "65042940",
   "metadata": {},
   "source": [
    "Before starting with the nlp code, a quick guide on how to setup a first development environment for your project:\n",
    "\n",
    "Use conda to create your virtual environments and manage your packages. You can also use venv ou pyenv.\n",
    "\n",
    "Run these commands from your terminal, not from the jupyter-lab interface."
   ]
  },
  {
   "cell_type": "code",
   "execution_count": null,
   "id": "5302a7a8",
   "metadata": {
    "vscode": {
     "languageId": "shellscript"
    }
   },
   "outputs": [],
   "source": [
    "#conda create -n my_project python=3.10\n",
    "#conda activate my_project"
   ]
  },
  {
   "cell_type": "markdown",
   "id": "53b9a500",
   "metadata": {},
   "source": [
    "Once you activate your environment, upgrade pip package manager:"
   ]
  },
  {
   "cell_type": "code",
   "execution_count": null,
   "id": "9e1c7843",
   "metadata": {
    "vscode": {
     "languageId": "shellscript"
    }
   },
   "outputs": [],
   "source": [
    "#!pip install --upgrade pip"
   ]
  },
  {
   "cell_type": "markdown",
   "id": "afa86dc9",
   "metadata": {},
   "source": [
    "Then run jupyter-lab for this session:"
   ]
  },
  {
   "cell_type": "code",
   "execution_count": null,
   "id": "47269930",
   "metadata": {
    "vscode": {
     "languageId": "shellscript"
    }
   },
   "outputs": [],
   "source": [
    "#jupyter-lab"
   ]
  },
  {
   "cell_type": "markdown",
   "id": "34ac639b-a646-4fe6-a3b1-ecd24f38a832",
   "metadata": {
    "canvas": {
     "comments": [],
     "componentType": "CodeCell",
     "copiedOriginId": null,
     "diskcache": false,
     "headerColor": "transparent",
     "id": "fa256e3d-84b9-4205-a7b3-5687c46b8bae",
     "isComponent": false,
     "name": "",
     "parents": []
    }
   },
   "source": [
    "Before running this notebook, check if you have transformers library installed. If it is not installed, uncomment the following cell:"
   ]
  },
  {
   "cell_type": "code",
   "execution_count": null,
   "id": "9982cd90-0d15-4667-b74b-f908ee569a93",
   "metadata": {
    "canvas": {
     "comments": [],
     "componentType": "CodeCell",
     "copiedOriginId": null,
     "diskcache": false,
     "headerColor": "transparent",
     "id": "e75b6a04-13d1-4980-9716-ab050985921c",
     "isComponent": false,
     "name": "",
     "parents": []
    },
    "vscode": {
     "languageId": "shellscript"
    }
   },
   "outputs": [],
   "source": [
    "#!pip install transformers"
   ]
  },
  {
   "cell_type": "markdown",
   "id": "75174da0",
   "metadata": {},
   "source": [
    "Now let's start. We do a quick test by creating a default transformers pipeline for sentiment analysis."
   ]
  },
  {
   "cell_type": "code",
   "execution_count": 6,
   "id": "4a7d96e0-52b1-4f06-b482-dd07b42f5d61",
   "metadata": {
    "canvas": {
     "comments": [],
     "componentType": "CodeCell",
     "copiedOriginId": null,
     "diskcache": false,
     "headerColor": "transparent",
     "id": "c35e0f2a-b57d-4281-b3ce-b8ed7e9cf706",
     "isComponent": false,
     "name": "",
     "parents": []
    },
    "tags": []
   },
   "outputs": [],
   "source": [
    "from transformers import pipeline"
   ]
  },
  {
   "cell_type": "code",
   "execution_count": 7,
   "id": "acea961a-ed4b-47a5-830a-8e5fa02bc22d",
   "metadata": {
    "canvas": {
     "comments": [],
     "componentType": "CodeCell",
     "copiedOriginId": null,
     "diskcache": false,
     "headerColor": "transparent",
     "id": "4fcd73da-a1b6-4598-921f-0d417502e8ae",
     "isComponent": false,
     "name": "",
     "parents": []
    }
   },
   "outputs": [
    {
     "name": "stderr",
     "output_type": "stream",
     "text": [
      "No model was supplied, defaulted to distilbert-base-uncased-finetuned-sst-2-english and revision af0f99b (https://huggingface.co/distilbert-base-uncased-finetuned-sst-2-english).\n",
      "Using a pipeline without specifying a model name and revision in production is not recommended.\n"
     ]
    }
   ],
   "source": [
    "classifier = pipeline(\"sentiment-analysis\")"
   ]
  },
  {
   "cell_type": "code",
   "execution_count": 9,
   "id": "236db1b7-cb7d-4903-a8a9-896909443d8f",
   "metadata": {
    "canvas": {
     "comments": [],
     "componentType": "CodeCell",
     "copiedOriginId": null,
     "diskcache": false,
     "headerColor": "transparent",
     "id": "c5c877d3-55b8-487a-b0cc-f489a3baa8ee",
     "isComponent": false,
     "name": "",
     "parents": []
    }
   },
   "outputs": [
    {
     "name": "stdout",
     "output_type": "stream",
     "text": [
      "[{'label': 'POSITIVE', 'score': 0.9997522234916687}]\n"
     ]
    }
   ],
   "source": [
    "results = classifier(\"hello world\")\n",
    "print(results)"
   ]
  },
  {
   "cell_type": "markdown",
   "id": "1faf4792-eb1a-4160-8c7e-513a0ec92162",
   "metadata": {
    "canvas": {
     "comments": [],
     "componentType": "CodeCell",
     "copiedOriginId": null,
     "diskcache": false,
     "headerColor": "transparent",
     "id": "1ea97809-f27c-40c3-a157-e708fb9d90ec",
     "isComponent": false,
     "name": "",
     "parents": []
    }
   },
   "source": []
  }
 ],
 "metadata": {
  "canvas": {
   "colorPalette": [
    "inherit",
    "inherit",
    "inherit",
    "inherit",
    "inherit",
    "inherit",
    "inherit",
    "inherit",
    "inherit",
    "inherit"
   ],
   "parameters": []
  },
  "kernelspec": {
   "display_name": "Python 3 (ipykernel)",
   "language": "python",
   "name": "python3"
  },
  "language_info": {
   "codemirror_mode": {
    "name": "ipython",
    "version": 3
   },
   "file_extension": ".py",
   "mimetype": "text/x-python",
   "name": "python",
   "nbconvert_exporter": "python",
   "pygments_lexer": "ipython3",
   "version": "3.10.12"
  }
 },
 "nbformat": 4,
 "nbformat_minor": 5
}
