{
  "cells": [
    {
      "cell_type": "markdown",
      "metadata": {
        "canvas": {
          "comments": [],
          "componentType": "CodeCell",
          "copiedOriginId": null,
          "diskcache": false,
          "headerColor": "transparent",
          "id": "63a8ca91-77f7-42a0-98ab-3da963b0ede7",
          "isComponent": false,
          "name": "",
          "parents": []
        },
        "tags": [],
        "id": "rsUHHHSC5FTb"
      },
      "source": [
        "# Sentiment analysis pipeline with the transformers library"
      ]
    },
    {
      "cell_type": "code",
      "execution_count": 28,
      "metadata": {
        "canvas": {
          "comments": [],
          "componentType": "CodeCell",
          "copiedOriginId": null,
          "diskcache": false,
          "headerColor": "transparent",
          "id": "f4933072-dee2-4616-82c1-99f4fd97aea4",
          "isComponent": false,
          "name": "",
          "parents": []
        },
        "tags": [],
        "id": "RgIOFwK55FTd"
      },
      "outputs": [],
      "source": [
        "#for colab\n",
        "!pip install transformers datasets >> /dev/null"
      ]
    },
    {
      "cell_type": "code",
      "execution_count": 2,
      "metadata": {
        "canvas": {
          "comments": [],
          "componentType": "CodeCell",
          "copiedOriginId": null,
          "diskcache": false,
          "headerColor": "transparent",
          "id": "6916f834-04b9-4f75-a3bb-00709ef41168",
          "isComponent": false,
          "name": "",
          "parents": []
        },
        "id": "WPvYisky5FTd"
      },
      "outputs": [],
      "source": [
        "from transformers import pipeline\n",
        "import torch\n",
        "from pprint import pprint"
      ]
    },
    {
      "cell_type": "markdown",
      "metadata": {
        "id": "FbyYvDbZ5FTe"
      },
      "source": [
        "\n",
        "## Natural language processing tasks"
      ]
    },
    {
      "cell_type": "markdown",
      "metadata": {
        "id": "DtNbt1G55FTe"
      },
      "source": [
        "### An example of previous generation of language model GPT-2"
      ]
    },
    {
      "cell_type": "code",
      "execution_count": 3,
      "metadata": {
        "id": "CVhqe3ge5FTe",
        "outputId": "a3af69fb-998b-4d4b-b17d-cb4f55eb88b2",
        "colab": {
          "base_uri": "https://localhost:8080/"
        }
      },
      "outputs": [
        {
          "output_type": "stream",
          "name": "stderr",
          "text": [
            "/usr/local/lib/python3.10/dist-packages/huggingface_hub/utils/_token.py:89: UserWarning: \n",
            "The secret `HF_TOKEN` does not exist in your Colab secrets.\n",
            "To authenticate with the Hugging Face Hub, create a token in your settings tab (https://huggingface.co/settings/tokens), set it as secret in your Google Colab and restart your session.\n",
            "You will be able to reuse this secret in all of your notebooks.\n",
            "Please note that authentication is recommended but still optional to access public models or datasets.\n",
            "  warnings.warn(\n",
            "Truncation was not explicitly activated but `max_length` is provided a specific value, please use `truncation=True` to explicitly truncate examples to max length. Defaulting to 'longest_first' truncation strategy. If you encode pairs of sequences (GLUE-style) with the tokenizer you can select this strategy more precisely by providing a specific strategy to `truncation`.\n",
            "Setting `pad_token_id` to `eos_token_id`:50256 for open-end generation.\n"
          ]
        },
        {
          "output_type": "execute_result",
          "data": {
            "text/plain": [
              "[{'generated_text': 'I am a unicorn in a financial office, but what I do in that office is different—I\\'m dealing with people with a lot of stress and the fact that I\\'m afraid to let myself get down on my guard when I\\'m not working,\" Kelly said. \"How much can I lose from'},\n",
              " {'generated_text': 'I am a unicorn in a financial office, and a huge one!\" and he got the best of them, and they didn\\'t understand why.\\n\\n\"We still have work to do!\" the girls cheered, and they knew that when they could get away with it. Everyone took it as a'},\n",
              " {'generated_text': 'I am a unicorn in a financial office, and I will do anything in my power to help you.\"\\n\\nTo her credit, she was kind and supportive after a bit, but she knew that there were lots of young women out there she couldn\\'t count on to care about anything. Then she'},\n",
              " {'generated_text': \"I am a unicorn in a financial office, not one of my clients.\\n\\nIf my manager's name doesn't look right on the invoice, I might end up getting sued because I think she really likes my company\\n\\nThat's what happened to us. When we started offering refunds on our\"},\n",
              " {'generated_text': 'I am a unicorn in a financial office, she said.\"\\n\\n\"That doesn\\'t make her a unicorn, she\\'s not even a unicorn. What she does, though, is she puts a bit of a limit to what a unicorn can do. The unicorn thing is, if she has this'}]"
            ]
          },
          "metadata": {},
          "execution_count": 3
        }
      ],
      "source": [
        "# Dummy model\n",
        "from transformers import set_seed\n",
        "generator = pipeline('text-generation', model='gpt2')\n",
        "set_seed(42)\n",
        "generator(\"I am a unicorn in a financial office,\", max_length=60, num_return_sequences=5)\n"
      ]
    },
    {
      "cell_type": "code",
      "execution_count": 4,
      "metadata": {
        "id": "daeE5tVu5FTf",
        "outputId": "bb602ba8-ad44-4922-d098-881bb4f1e997",
        "colab": {
          "base_uri": "https://localhost:8080/"
        }
      },
      "outputs": [
        {
          "output_type": "stream",
          "name": "stderr",
          "text": [
            "Setting `pad_token_id` to `eos_token_id`:50256 for open-end generation.\n"
          ]
        },
        {
          "output_type": "execute_result",
          "data": {
            "text/plain": [
              "[{'generated_text': 'To bake cookies I need, you can always leave mine in the fridge.\\n\\nIngredients\\n\\n1 cup coconut oil\\n\\n3 oz chocolate chips\\n\\n1/4 cup coconut sugar\\n\\n2 oz chocolate chips and optional toppings\\n\\n\\nPreheat the oven to 225ºF (150'},\n",
              " {'generated_text': 'To bake cookies I need, you have to find the right place first so you can have that perfect, perfect idea.\"\\n\\nShe did a bit of a mini-batch last night by putting a piece of butter to the top of her cake and, with the help of her assistant who was also'},\n",
              " {'generated_text': 'To bake cookies I need, my dough comes together as a ball so you can scoop everything into that shape. Here I will show you how to prepare your new dough so you can make the perfect one.\\n\\nMaking your own cookies\\n\\n2. Preheat oven to 375 degrees F* with'},\n",
              " {'generated_text': \"To bake cookies I need, which is just a matter of taking them out with a fork and using them to remove the baking oil and other toppings, which I'd rather not cook, so I cut these to pieces.\\n\\nAs a first step, this dough will become less and less sticky\"},\n",
              " {'generated_text': \"To bake cookies I need, using my own food processor, which is not very cheap, I was told. In fact, I'm hoping to use this as an excuse to bake whole and unsalted whole eggs with the help of a cheese crust, which is not such a good thing. The egg\"}]"
            ]
          },
          "metadata": {},
          "execution_count": 4
        }
      ],
      "source": [
        "generator(\"To bake cookies I need,\", max_length=60, num_return_sequences=5)\n"
      ]
    },
    {
      "cell_type": "code",
      "execution_count": 5,
      "metadata": {
        "id": "xYMXofdS5FTf",
        "outputId": "0476cd12-313a-4589-f7ed-27af195f14b9",
        "colab": {
          "base_uri": "https://localhost:8080/"
        }
      },
      "outputs": [
        {
          "output_type": "stream",
          "name": "stderr",
          "text": [
            "Setting `pad_token_id` to `eos_token_id`:50256 for open-end generation.\n"
          ]
        },
        {
          "output_type": "execute_result",
          "data": {
            "text/plain": [
              "[{'generated_text': 'I want to kill a kitten, because I want to kill the kitten. That\\'s what I\\'m up against in life.\"\\n\\nJared was clearly shocked when the teen asked for a piece of paper and asked if there were any other options in the world. \"A kitten, or a person'},\n",
              " {'generated_text': 'I want to kill a kitten, I want to kill a baby…\"'},\n",
              " {'generated_text': 'I want to kill a kitten, too. I need to get rid of that awful cat in my garden. Why aren\\'t you helping me out? Why aren\\'t you killing a kitten that I\\'m really sick of?\"\\n\\nPerez watched the cat through a slit from a small window with'},\n",
              " {'generated_text': \"I want to kill a kitten, or a dog. We believe in human rights, and I respect that. But right now, we're trying for a more humane approach to dealing with people who commit crimes, the most serious crimes. Why does my party oppose the use of drones? Because it's\"},\n",
              " {'generated_text': \"I want to kill a kitten, so I kill the kitten and turn it into a meat eater. I can also kill a kitten that's only like 6 years old and try to kill it. It's like, 'You're going to kill me when I go to the vet and I can take\"}]"
            ]
          },
          "metadata": {},
          "execution_count": 5
        }
      ],
      "source": [
        "generator(\"I want to kill a kitten,\", max_length=60, num_return_sequences=5)\n"
      ]
    },
    {
      "cell_type": "markdown",
      "metadata": {
        "id": "NTg3GohV5FTg"
      },
      "source": [
        "### Text classification"
      ]
    },
    {
      "cell_type": "code",
      "execution_count": 6,
      "metadata": {
        "id": "eCwISgrI5FTg",
        "outputId": "80b5b913-d716-42c6-b770-68eda5b46ddf",
        "colab": {
          "base_uri": "https://localhost:8080/"
        }
      },
      "outputs": [
        {
          "output_type": "execute_result",
          "data": {
            "text/plain": [
              "{'sequence': 'I have a problem with my iphone that needs to be resolved asap!!',\n",
              " 'labels': ['urgent', 'phone', 'computer', 'not urgent', 'tablet'],\n",
              " 'scores': [0.503635585308075,\n",
              "  0.47879981994628906,\n",
              "  0.012600085698068142,\n",
              "  0.002655789954587817,\n",
              "  0.0023087512236088514]}"
            ]
          },
          "metadata": {},
          "execution_count": 6
        }
      ],
      "source": [
        "from transformers import pipeline\n",
        "\n",
        "# This model is a `zero-shot-classification` model.\n",
        "# It will classify text, except you are free to choose any label you might imagine\n",
        "classifier = pipeline(model=\"facebook/bart-large-mnli\")\n",
        "classifier(\n",
        "    \"I have a problem with my iphone that needs to be resolved asap!!\",\n",
        "    candidate_labels=[\"urgent\", \"not urgent\", \"phone\", \"tablet\", \"computer\"],\n",
        ")"
      ]
    },
    {
      "cell_type": "markdown",
      "metadata": {
        "id": "BRaMacx45FTg"
      },
      "source": [
        "## Build a sentiment analysis classifier"
      ]
    },
    {
      "cell_type": "markdown",
      "metadata": {
        "id": "TjsXzxUC5FTg"
      },
      "source": [
        "### Instantiate a pipeline"
      ]
    },
    {
      "cell_type": "markdown",
      "source": [
        "A pipeline is composed of a tokenizer and a model."
      ],
      "metadata": {
        "id": "TceGEV5mYkwP"
      }
    },
    {
      "cell_type": "code",
      "execution_count": 7,
      "metadata": {
        "canvas": {
          "comments": [],
          "componentType": "CodeCell",
          "copiedOriginId": null,
          "diskcache": false,
          "headerColor": "transparent",
          "id": "c249cd90-0f87-4826-86f0-fcdfa52de07c",
          "isComponent": false,
          "name": "",
          "parents": []
        },
        "colab": {
          "base_uri": "https://localhost:8080/"
        },
        "id": "pBNiKxgU5FTg",
        "outputId": "a10263f7-ec94-427a-d1e8-52da1a4b635a"
      },
      "outputs": [
        {
          "output_type": "stream",
          "name": "stderr",
          "text": [
            "No model was supplied, defaulted to distilbert/distilbert-base-uncased-finetuned-sst-2-english and revision af0f99b (https://huggingface.co/distilbert/distilbert-base-uncased-finetuned-sst-2-english).\n",
            "Using a pipeline without specifying a model name and revision in production is not recommended.\n",
            "/usr/local/lib/python3.10/dist-packages/huggingface_hub/file_download.py:1132: FutureWarning: `resume_download` is deprecated and will be removed in version 1.0.0. Downloads always resume when possible. If you want to force a new download, use `force_download=True`.\n",
            "  warnings.warn(\n"
          ]
        }
      ],
      "source": [
        "classifier = pipeline(\"sentiment-analysis\")"
      ]
    },
    {
      "cell_type": "markdown",
      "metadata": {
        "canvas": {
          "comments": [],
          "componentType": "CodeCell",
          "copiedOriginId": null,
          "diskcache": false,
          "headerColor": "transparent",
          "id": "a7054925-11a8-49e0-b82b-288370705251",
          "isComponent": false,
          "name": "",
          "parents": []
        },
        "id": "SQy-yl5i5FTh"
      },
      "source": [
        "We start by creating a \"Sentiment Analysis\" **classifier** using the pipeline function provided by the Hugging Face Transformers library. This function allows us to easily use pre-trained models for various natural language processing (NLP) tasks, like sentiment analysis."
      ]
    },
    {
      "cell_type": "markdown",
      "metadata": {
        "id": "QWxmAR205FTh"
      },
      "source": [
        "### Run the classifier"
      ]
    },
    {
      "cell_type": "code",
      "execution_count": 8,
      "metadata": {
        "canvas": {
          "comments": [],
          "componentType": "CodeCell",
          "copiedOriginId": null,
          "diskcache": false,
          "headerColor": "transparent",
          "id": "4780dc98-f54e-4e58-a994-aeed4be58112",
          "isComponent": false,
          "name": "",
          "parents": []
        },
        "id": "WKt4tOVY5FTh",
        "outputId": "17453a54-f6eb-4fe9-a8b8-60ce2fd42ba6",
        "colab": {
          "base_uri": "https://localhost:8080/"
        }
      },
      "outputs": [
        {
          "output_type": "execute_result",
          "data": {
            "text/plain": [
              "[{'label': 'POSITIVE', 'score': 0.9998584985733032}]"
            ]
          },
          "metadata": {},
          "execution_count": 8
        }
      ],
      "source": [
        "results = classifier(\"This is cool\")\n",
        "results"
      ]
    },
    {
      "cell_type": "markdown",
      "metadata": {
        "canvas": {
          "comments": [],
          "componentType": "CodeCell",
          "copiedOriginId": null,
          "diskcache": false,
          "headerColor": "transparent",
          "id": "dad47359-7b77-48e9-86e7-688131771618",
          "isComponent": false,
          "name": "",
          "parents": []
        },
        "id": "ymEdp1mT5FTh"
      },
      "source": [
        "The model takes this text as input and predicts the sentiment associated with it."
      ]
    },
    {
      "cell_type": "markdown",
      "metadata": {
        "canvas": {
          "comments": [],
          "componentType": "CodeCell",
          "copiedOriginId": null,
          "diskcache": false,
          "headerColor": "transparent",
          "id": "2941d163-b6ca-4104-942a-5fec644bc51b",
          "isComponent": false,
          "name": "",
          "parents": []
        },
        "id": "5ICXCs9n5FTh"
      },
      "source": [
        "Pipeline on Huggingface [documentation](https://huggingface.co/docs/transformers/main_classes/pipelines)"
      ]
    },
    {
      "cell_type": "markdown",
      "source": [
        "Your turn: Try to find replace the send to have a score the closest to 50 you can."
      ],
      "metadata": {
        "id": "0MwubT7M-xAH"
      }
    },
    {
      "cell_type": "markdown",
      "metadata": {
        "canvas": {
          "comments": [],
          "componentType": "CodeCell",
          "copiedOriginId": null,
          "diskcache": false,
          "headerColor": "transparent",
          "id": "0964179b-e8a5-45aa-a3b7-59128f8fa223",
          "isComponent": false,
          "name": "",
          "parents": []
        },
        "id": "KRXkyYPZ5FTh"
      },
      "source": [
        "### Multiple input"
      ]
    },
    {
      "cell_type": "code",
      "execution_count": 9,
      "metadata": {
        "canvas": {
          "comments": [],
          "componentType": "CodeCell",
          "copiedOriginId": null,
          "diskcache": false,
          "headerColor": "transparent",
          "id": "b3bc4c14-bb49-4c77-9c00-8ebd3000d617",
          "isComponent": false,
          "name": "",
          "parents": []
        },
        "id": "HrcS8RJa5FTh",
        "outputId": "90b7b7ce-6b9c-49dd-f939-3acc788b65c1",
        "colab": {
          "base_uri": "https://localhost:8080/"
        }
      },
      "outputs": [
        {
          "output_type": "execute_result",
          "data": {
            "text/plain": [
              "[{'label': 'POSITIVE', 'score': 0.9997960925102234},\n",
              " {'label': 'NEGATIVE', 'score': 0.9968776702880859}]"
            ]
          },
          "metadata": {},
          "execution_count": 9
        }
      ],
      "source": [
        "# We give a list to the classifier now\n",
        "results = classifier([\"NLP is nice\", \"I don't like NLP\"])\n",
        "results"
      ]
    },
    {
      "cell_type": "markdown",
      "metadata": {
        "canvas": {
          "comments": [],
          "componentType": "CodeCell",
          "copiedOriginId": null,
          "diskcache": false,
          "headerColor": "transparent",
          "id": "6240273b-eade-4316-9c21-31e381f4cc80",
          "isComponent": false,
          "name": "",
          "parents": []
        },
        "id": "lSiAfaG15FTh"
      },
      "source": [
        "**Exercise:**\n",
        "\n",
        "Add different text inputs with varying sentiments, run it, check the model's sentiment predictions, and explore how it assigns labels."
      ]
    },
    {
      "cell_type": "markdown",
      "metadata": {
        "canvas": {
          "comments": [],
          "componentType": "CodeCell",
          "copiedOriginId": null,
          "diskcache": false,
          "headerColor": "transparent",
          "id": "f079bdb6-56bf-4f1b-a14f-9f06e4bb716e",
          "isComponent": false,
          "name": "",
          "parents": []
        },
        "id": "WGctdQW95FTh"
      },
      "source": [
        "### Use a specific model"
      ]
    },
    {
      "cell_type": "markdown",
      "source": [
        "By default transformers library uses a distilbert model for the pipelines we have created. Let's change this and work with another model."
      ],
      "metadata": {
        "id": "dFktvUTW_MMW"
      }
    },
    {
      "cell_type": "code",
      "source": [
        "# we create another generation pipeline\n",
        "\n",
        "completion = pipeline(\"text-generation\", model=\"distilgpt2\")\n",
        "generator(\n",
        "    \"I travel by plane I\",\n",
        "    max_length=30,\n",
        "    num_return_sequences=2,\n",
        ")"
      ],
      "metadata": {
        "colab": {
          "base_uri": "https://localhost:8080/"
        },
        "id": "AfP25uBVB0Jq",
        "outputId": "bdd703df-322f-4112-8ccd-c1b0d70e5efa"
      },
      "execution_count": 10,
      "outputs": [
        {
          "output_type": "stream",
          "name": "stderr",
          "text": [
            "Setting `pad_token_id` to `eos_token_id`:50256 for open-end generation.\n"
          ]
        },
        {
          "output_type": "execute_result",
          "data": {
            "text/plain": [
              "[{'generated_text': \"I travel by plane I've got all this baggage you need as an excuse to be on the trip out to see the country! And when I go\"},\n",
              " {'generated_text': \"I travel by plane I have no idea they used to use such a thing. It's just an archaic term and I only call it the MASS\"}]"
            ]
          },
          "metadata": {},
          "execution_count": 10
        }
      ]
    },
    {
      "cell_type": "markdown",
      "source": [
        "### Find more models"
      ],
      "metadata": {
        "id": "mkb1j-_mC_NH"
      }
    },
    {
      "cell_type": "markdown",
      "source": [
        "**Exercise:**\n",
        "\n",
        "Find more model on Huggingface [hub](https://huggingface.co/models?sort=trending)."
      ],
      "metadata": {
        "id": "IXTmCBMuCvAp"
      }
    },
    {
      "cell_type": "markdown",
      "source": [
        "### Models cards\n"
      ],
      "metadata": {
        "id": "G0_o6rh7DCo1"
      }
    },
    {
      "cell_type": "markdown",
      "source": [
        "Models cards provide information about the model, code examples, demos and most of the time information about how the models has been trained.\n",
        "[Mistral model card](https://huggingface.co/mistralai/Mistral-7B-v0.3)"
      ],
      "metadata": {
        "id": "J6aqAdjFDGXt"
      }
    },
    {
      "cell_type": "markdown",
      "source": [
        "### Get information about the model"
      ],
      "metadata": {
        "id": "JVYxT39O6o1y"
      }
    },
    {
      "cell_type": "code",
      "execution_count": 11,
      "metadata": {
        "canvas": {
          "comments": [],
          "componentType": "CodeCell",
          "copiedOriginId": null,
          "diskcache": false,
          "headerColor": "transparent",
          "id": "76c24da8-19b3-4d9b-8f28-2a24baf24609",
          "isComponent": false,
          "name": "",
          "parents": []
        },
        "id": "YoEI9fD95FTi"
      },
      "outputs": [],
      "source": [
        "model = \"distilbert-base-uncased-finetuned-sst-2-english\""
      ]
    },
    {
      "cell_type": "code",
      "execution_count": 12,
      "metadata": {
        "id": "6FFIThlt5FTi",
        "outputId": "cd827eff-bc1e-46a6-d27a-24f1fc7d7a42",
        "colab": {
          "base_uri": "https://localhost:8080/"
        }
      },
      "outputs": [
        {
          "output_type": "stream",
          "name": "stdout",
          "text": [
            "DistilBertConfig {\n",
            "  \"_name_or_path\": \"distilbert-base-uncased-finetuned-sst-2-english\",\n",
            "  \"activation\": \"gelu\",\n",
            "  \"architectures\": [\n",
            "    \"DistilBertForSequenceClassification\"\n",
            "  ],\n",
            "  \"attention_dropout\": 0.1,\n",
            "  \"dim\": 768,\n",
            "  \"dropout\": 0.1,\n",
            "  \"finetuning_task\": \"sst-2\",\n",
            "  \"hidden_dim\": 3072,\n",
            "  \"id2label\": {\n",
            "    \"0\": \"NEGATIVE\",\n",
            "    \"1\": \"POSITIVE\"\n",
            "  },\n",
            "  \"initializer_range\": 0.02,\n",
            "  \"label2id\": {\n",
            "    \"NEGATIVE\": 0,\n",
            "    \"POSITIVE\": 1\n",
            "  },\n",
            "  \"max_position_embeddings\": 512,\n",
            "  \"model_type\": \"distilbert\",\n",
            "  \"n_heads\": 12,\n",
            "  \"n_layers\": 6,\n",
            "  \"output_past\": true,\n",
            "  \"pad_token_id\": 0,\n",
            "  \"qa_dropout\": 0.1,\n",
            "  \"seq_classif_dropout\": 0.2,\n",
            "  \"sinusoidal_pos_embds\": false,\n",
            "  \"tie_weights_\": true,\n",
            "  \"transformers_version\": \"4.41.0\",\n",
            "  \"vocab_size\": 30522\n",
            "}\n",
            "\n"
          ]
        }
      ],
      "source": [
        "from transformers import AutoConfig\n",
        "config = AutoConfig.from_pretrained(model)\n",
        "print(config)"
      ]
    },
    {
      "cell_type": "markdown",
      "metadata": {
        "canvas": {
          "comments": [],
          "componentType": "CodeCell",
          "copiedOriginId": null,
          "diskcache": false,
          "headerColor": "transparent",
          "id": "e43026de-6123-46bc-97a4-a324d9c4ed3b",
          "isComponent": false,
          "name": "",
          "parents": []
        },
        "id": "KqDK3P9Q5FTi"
      },
      "source": [
        "The model_name variable holds the name of the pre-trained model. In this case, it's \"distilbert-base-uncased-finetuned-sst-2-english\""
      ]
    },
    {
      "cell_type": "markdown",
      "metadata": {
        "canvas": {
          "comments": [],
          "componentType": "CodeCell",
          "copiedOriginId": null,
          "diskcache": false,
          "headerColor": "transparent",
          "id": "00508051-33da-4c2a-b7fe-9df6caa3ee29",
          "isComponent": false,
          "name": "",
          "parents": []
        },
        "id": "fvSdty2U5FTi"
      },
      "source": [
        "Let's have a look at the model [card on Hugginface.co](https://huggingface.co/distilbert/distilbert-base-uncased-finetuned-sst-2-english)"
      ]
    },
    {
      "cell_type": "markdown",
      "source": [
        "**Exercise:**\n",
        "\n",
        "Look at different models and pick up one that is the most adapted to your use case and language."
      ],
      "metadata": {
        "id": "qpIde1jII6ne"
      }
    },
    {
      "cell_type": "markdown",
      "metadata": {
        "canvas": {
          "comments": [],
          "componentType": "CodeCell",
          "copiedOriginId": null,
          "diskcache": false,
          "headerColor": "transparent",
          "id": "333402f2-aff3-40df-a760-df4eaea2ac72",
          "isComponent": false,
          "name": "",
          "parents": []
        },
        "id": "utfVEDXE5FTi"
      },
      "source": [
        "## Tokenizer"
      ]
    },
    {
      "cell_type": "markdown",
      "source": [
        "### What is a tokenizer"
      ],
      "metadata": {
        "id": "EZg6UtLt6-AJ"
      }
    },
    {
      "cell_type": "markdown",
      "metadata": {
        "canvas": {
          "comments": [],
          "componentType": "CodeCell",
          "copiedOriginId": null,
          "diskcache": false,
          "headerColor": "transparent",
          "id": "40adb757-7599-4416-b922-7da1860b29e8",
          "isComponent": false,
          "name": "",
          "parents": []
        },
        "id": "VkFbqwnz5FTi"
      },
      "source": [
        "- Tokenization is the process of breaking down text into smaller **units** called **tokens**. In order to process text the computer needs first to transform it into numbers.\n",
        "\n",
        "- Tokens are the basic building blocks used by Transformers models to understand and process text.\n",
        "\n",
        "- Tokens can represent **words, subwords, or even individual characters**, depending on the model's vocabulary."
      ]
    },
    {
      "cell_type": "markdown",
      "metadata": {
        "canvas": {
          "comments": [],
          "componentType": "CodeCell",
          "copiedOriginId": null,
          "diskcache": false,
          "headerColor": "transparent",
          "id": "97cdbe58-cc6e-4e85-b169-8477fd18749a",
          "isComponent": false,
          "name": "",
          "parents": []
        },
        "id": "uy1HGCt65FTi"
      },
      "source": [
        "![Pipeline](https://huggingface.co/datasets/huggingface-course/documentation-images/resolve/main/en/chapter2/full_nlp_pipeline.svg)"
      ]
    },
    {
      "cell_type": "markdown",
      "metadata": {
        "canvas": {
          "comments": [],
          "componentType": "CodeCell",
          "copiedOriginId": null,
          "diskcache": false,
          "headerColor": "transparent",
          "id": "2ea1022b-9c16-43eb-939c-d8efd48b1706",
          "isComponent": false,
          "name": "",
          "parents": []
        },
        "id": "ghmiNCf35FTi"
      },
      "source": [
        "Source [image](https://huggingface.co/learn/nlp-course/chapter2/2?fw=pt)"
      ]
    },
    {
      "cell_type": "markdown",
      "source": [
        "### Instanciate a tokenizer"
      ],
      "metadata": {
        "id": "s6PKD_vN7OAs"
      }
    },
    {
      "cell_type": "code",
      "execution_count": 13,
      "metadata": {
        "canvas": {
          "comments": [],
          "componentType": "CodeCell",
          "copiedOriginId": null,
          "diskcache": false,
          "headerColor": "transparent",
          "id": "35a540c1-e743-441b-890f-0df2bf11ffef",
          "isComponent": false,
          "name": "",
          "parents": []
        },
        "id": "6eNtRvg_5FTj"
      },
      "outputs": [],
      "source": [
        "from transformers import BertTokenizer\n",
        "\n",
        "tokenizer = BertTokenizer.from_pretrained(\"nlptown/bert-base-multilingual-uncased-sentiment\")\n"
      ]
    },
    {
      "cell_type": "markdown",
      "metadata": {
        "canvas": {
          "comments": [],
          "componentType": "CodeCell",
          "copiedOriginId": null,
          "diskcache": false,
          "headerColor": "transparent",
          "id": "b9ef988f-bdfe-4e6f-94c6-2633114b841f",
          "isComponent": false,
          "name": "",
          "parents": []
        },
        "id": "ZItAz6g25FTj"
      },
      "source": [
        "When using from_pretrained, we are loading a pre-trained model and tokenizer specified by the model_name."
      ]
    },
    {
      "cell_type": "markdown",
      "metadata": {
        "canvas": {
          "comments": [],
          "componentType": "CodeCell",
          "copiedOriginId": null,
          "diskcache": false,
          "headerColor": "transparent",
          "id": "15188336-ee64-426c-bcb3-5c701eea1ffb",
          "isComponent": false,
          "name": "",
          "parents": []
        },
        "id": "ojFjw6rA5FTk"
      },
      "source": [
        "We added our tokenizer to our pipeline:\n"
      ]
    },
    {
      "cell_type": "code",
      "execution_count": 14,
      "metadata": {
        "canvas": {
          "comments": [],
          "componentType": "CodeCell",
          "copiedOriginId": null,
          "diskcache": false,
          "headerColor": "transparent",
          "id": "c05116ad-ab33-4653-8356-70c120165492",
          "isComponent": false,
          "name": "",
          "parents": []
        },
        "id": "rpC1XsvH5FTk"
      },
      "outputs": [],
      "source": [
        "classifier = pipeline(\"sentiment-analysis\", model=model, tokenizer=tokenizer)"
      ]
    },
    {
      "cell_type": "markdown",
      "metadata": {
        "canvas": {
          "comments": [],
          "componentType": "CodeCell",
          "copiedOriginId": null,
          "diskcache": false,
          "headerColor": "transparent",
          "id": "bd6f3686-1273-4f27-b309-3c0ff8b08b99",
          "isComponent": false,
          "name": "",
          "parents": []
        },
        "id": "z0CxZWPU5FTk"
      },
      "source": [
        "\n",
        "## Tokenization"
      ]
    },
    {
      "cell_type": "markdown",
      "source": [
        "A token is a value extracted from a **vocabulary list**.\n",
        "\n",
        "A vocabulary list is a set words."
      ],
      "metadata": {
        "id": "GP63khbfNuig"
      }
    },
    {
      "cell_type": "markdown",
      "source": [
        "## Create tokens"
      ],
      "metadata": {
        "id": "wG-U84bRPonH"
      }
    },
    {
      "cell_type": "markdown",
      "source": [
        "## Split method"
      ],
      "metadata": {
        "id": "HciDfEi5OWB4"
      }
    },
    {
      "cell_type": "code",
      "source": [
        "tokenized_text = \"NLP is great\".split()\n",
        "print(tokenized_text)"
      ],
      "metadata": {
        "colab": {
          "base_uri": "https://localhost:8080/"
        },
        "id": "lOCl31MHQmLh",
        "outputId": "90aa4cff-c72a-4adc-afa4-0edf1e17bb9f"
      },
      "execution_count": 15,
      "outputs": [
        {
          "output_type": "stream",
          "name": "stdout",
          "text": [
            "['NLP', 'is', 'great']\n"
          ]
        }
      ]
    },
    {
      "cell_type": "markdown",
      "source": [
        "### Use a tokenizer"
      ],
      "metadata": {
        "id": "BzVXSUaUQKfO"
      }
    },
    {
      "cell_type": "code",
      "source": [
        "sequence = \"NLP is great!\"\n",
        "tokens = tokenizer.tokenize(sequence)\n",
        "\n",
        "print(tokens)"
      ],
      "metadata": {
        "colab": {
          "base_uri": "https://localhost:8080/"
        },
        "id": "5JNiDhPFQ5Ty",
        "outputId": "9849b05e-dac4-446c-e413-71a318c6cc7b"
      },
      "execution_count": 16,
      "outputs": [
        {
          "output_type": "stream",
          "name": "stdout",
          "text": [
            "['nl', '##p', 'is', 'great', '!']\n"
          ]
        }
      ]
    },
    {
      "cell_type": "markdown",
      "source": [
        "### Another BERT tokenizer"
      ],
      "metadata": {
        "id": "AV02EVu1ZBHy"
      }
    },
    {
      "cell_type": "code",
      "source": [
        "tokenizer = BertTokenizer.from_pretrained(\"google-bert/bert-base-uncased\")\n",
        "\n",
        "tokenizer.tokenize(\"NLP is great!\")"
      ],
      "metadata": {
        "colab": {
          "base_uri": "https://localhost:8080/"
        },
        "id": "LB1F3jIjP7rM",
        "outputId": "cf4f3b33-9460-4bd3-ae61-cbb449d30eb7"
      },
      "execution_count": 17,
      "outputs": [
        {
          "output_type": "execute_result",
          "data": {
            "text/plain": [
              "['nl', '##p', 'is', 'great', '!']"
            ]
          },
          "metadata": {},
          "execution_count": 17
        }
      ]
    },
    {
      "cell_type": "markdown",
      "source": [
        "### XLNet tokenizer"
      ],
      "metadata": {
        "id": "6TQgDp-sQAgB"
      }
    },
    {
      "cell_type": "code",
      "execution_count": 18,
      "metadata": {
        "canvas": {
          "comments": [],
          "componentType": "CodeCell",
          "copiedOriginId": null,
          "diskcache": false,
          "headerColor": "transparent",
          "id": "96a87e2d-e978-492d-8a77-d9bb24ad7504",
          "isComponent": false,
          "name": "",
          "parents": []
        },
        "id": "Ch-oa1fx5FTk",
        "colab": {
          "base_uri": "https://localhost:8080/"
        },
        "outputId": "28790232-829b-433b-9416-ef6e2213b313"
      },
      "outputs": [
        {
          "output_type": "stream",
          "name": "stdout",
          "text": [
            "Tokens: ['▁N', 'LP', '▁is', '▁great', '!']\n",
            "\n"
          ]
        }
      ],
      "source": [
        "from transformers import XLNetTokenizer\n",
        "\n",
        "\n",
        "tokenizer = XLNetTokenizer.from_pretrained(\"xlnet/xlnet-base-cased\")\n",
        "\n",
        "tokens = tokenizer.tokenize(sequence)\n",
        "\n",
        "\n",
        "print(f\"Tokens: {tokens}\\n\")"
      ]
    },
    {
      "cell_type": "markdown",
      "source": [
        "## Input IDs"
      ],
      "metadata": {
        "id": "BSsxoTMNPcfD"
      }
    },
    {
      "cell_type": "code",
      "source": [
        "ids = tokenizer.convert_tokens_to_ids(tokens)\n",
        "\n",
        "print(ids)"
      ],
      "metadata": {
        "colab": {
          "base_uri": "https://localhost:8080/"
        },
        "id": "1l-HWXYnNFmi",
        "outputId": "b61c647e-2d88-442d-a52a-650f75d3326c"
      },
      "execution_count": 19,
      "outputs": [
        {
          "output_type": "stream",
          "name": "stdout",
          "text": [
            "[578, 7286, 27, 312, 136]\n"
          ]
        }
      ]
    },
    {
      "cell_type": "markdown",
      "source": [
        "More on [tokenizers.](https://huggingface.co/docs/transformers/en/tokenizer_summary)"
      ],
      "metadata": {
        "id": "dPpEYrxWTASK"
      }
    },
    {
      "cell_type": "markdown",
      "metadata": {
        "canvas": {
          "comments": [],
          "componentType": "CodeCell",
          "copiedOriginId": null,
          "diskcache": false,
          "headerColor": "transparent",
          "id": "f5239f25-7e4b-4c33-8873-7b5ff3750f17",
          "isComponent": false,
          "name": "",
          "parents": []
        },
        "id": "tTJz32sE5FTk"
      },
      "source": [
        "## Padding and truncation"
      ]
    },
    {
      "cell_type": "markdown",
      "source": [
        "Language models work with **tensors**, we need them to be **the same length**.\n",
        "\n",
        "```\n",
        "padding=True and truncation=True\n",
        "```"
      ],
      "metadata": {
        "id": "H7m3AnlzKtz0"
      }
    },
    {
      "cell_type": "code",
      "execution_count": 20,
      "metadata": {
        "canvas": {
          "comments": [],
          "componentType": "CodeCell",
          "copiedOriginId": null,
          "diskcache": false,
          "headerColor": "transparent",
          "id": "615c6993-728e-4c6e-a8e6-c1604413bcbc",
          "isComponent": false,
          "name": "",
          "parents": []
        },
        "id": "YEmDTB6-5FTl",
        "colab": {
          "base_uri": "https://localhost:8080/"
        },
        "outputId": "deeffe00-8d16-489a-bbf8-30daf253862b"
      },
      "outputs": [
        {
          "output_type": "stream",
          "name": "stdout",
          "text": [
            "Tokens: ['▁N', 'LP', '▁is', '▁great', '!']\n",
            "\n",
            "[100, 100, 100, 100, 999]\n"
          ]
        }
      ],
      "source": [
        "tokenizer = BertTokenizer.from_pretrained(\"google-bert/bert-base-uncased\")\n",
        "\n",
        "sequences = [\"NLP is great!\",\n",
        "           \"All I need is two sentences.\"]\n",
        "\n",
        "print(f\"Tokens: {tokens}\\n\")\n",
        "\n",
        "ids = tokenizer.convert_tokens_to_ids(tokens)\n",
        "\n",
        "print(ids)\n",
        "\n",
        "batch = tokenizer(sequences, padding=True, truncation=True, max_length=512, return_tensors=\"pt\") #pt for pyTorch"
      ]
    },
    {
      "cell_type": "markdown",
      "source": [
        "**Question**:\n",
        "What are the ```'101'``` and ```'102'``` in the token list?"
      ],
      "metadata": {
        "id": "DixbFuDLNgkg"
      }
    },
    {
      "cell_type": "code",
      "execution_count": 21,
      "metadata": {
        "canvas": {
          "comments": [],
          "componentType": "CodeCell",
          "copiedOriginId": null,
          "diskcache": false,
          "headerColor": "transparent",
          "id": "5d671874-86ad-4b2e-8e50-e8ac56e6c1d5",
          "isComponent": false,
          "name": "",
          "parents": []
        },
        "id": "8Nu1lU8w5FTl",
        "outputId": "ab876574-8167-45b2-fe6d-d7efb2a7fcd9",
        "colab": {
          "base_uri": "https://localhost:8080/"
        }
      },
      "outputs": [
        {
          "output_type": "stream",
          "name": "stdout",
          "text": [
            "{'attention_mask': tensor([[1, 1, 1, 1, 1, 1, 1, 0, 0],\n",
            "        [1, 1, 1, 1, 1, 1, 1, 1, 1]]),\n",
            " 'input_ids': tensor([[  101, 17953,  2361,  2003,  2307,   999,   102,     0,     0],\n",
            "        [  101,  2035,  1045,  2342,  2003,  2048, 11746,  1012,   102]]),\n",
            " 'token_type_ids': tensor([[0, 0, 0, 0, 0, 0, 0, 0, 0],\n",
            "        [0, 0, 0, 0, 0, 0, 0, 0, 0]])}\n"
          ]
        }
      ],
      "source": [
        "pprint(batch)"
      ]
    },
    {
      "cell_type": "markdown",
      "metadata": {
        "canvas": {
          "comments": [],
          "componentType": "CodeCell",
          "copiedOriginId": null,
          "diskcache": false,
          "headerColor": "transparent",
          "id": "f2626663-72ec-473b-81be-0ff012acc676",
          "isComponent": false,
          "name": "",
          "parents": []
        },
        "id": "8nJCnfwP5FTl"
      },
      "source": [
        "Returns a dictionary with keys ```'input_ids'``` and ```'attention_mask'```, with two tensors the 'input ids' tensor and the 'attention_mask' tensor.\n",
        "input_ids are unique ids."
      ]
    },
    {
      "cell_type": "markdown",
      "source": [
        "# Dataset"
      ],
      "metadata": {
        "id": "wqEFou5Jc7D2"
      }
    },
    {
      "cell_type": "markdown",
      "source": [
        "## Load a dataset from the hub"
      ],
      "metadata": {
        "id": "W2O3wusvdB47"
      }
    },
    {
      "cell_type": "code",
      "source": [
        "from datasets import load_dataset\n",
        "\n",
        "dataset = load_dataset(\"carblacac/twitter-sentiment-analysis\", split=\"train\")"
      ],
      "metadata": {
        "id": "eiaSZEoRdFdU",
        "outputId": "e6e586d2-9d21-4563-caef-447524003c1f",
        "colab": {
          "base_uri": "https://localhost:8080/",
          "height": 393
        }
      },
      "execution_count": 44,
      "outputs": [
        {
          "output_type": "stream",
          "name": "stderr",
          "text": [
            "/usr/local/lib/python3.10/dist-packages/datasets/load.py:1486: FutureWarning: The repository for carblacac/twitter-sentiment-analysis contains custom code which must be executed to correctly load the dataset. You can inspect the repository content at https://hf.co/datasets/carblacac/twitter-sentiment-analysis\n",
            "You can avoid this message in future by passing the argument `trust_remote_code=True`.\n",
            "Passing `trust_remote_code=True` will be mandatory to load this dataset from the next major release of `datasets`.\n",
            "  warnings.warn(\n"
          ]
        },
        {
          "output_type": "error",
          "ename": "TypeError",
          "evalue": "BuilderConfig.__init__() got an unexpected keyword argument 'train'",
          "traceback": [
            "\u001b[0;31m---------------------------------------------------------------------------\u001b[0m",
            "\u001b[0;31mTypeError\u001b[0m                                 Traceback (most recent call last)",
            "\u001b[0;32m<ipython-input-44-05c3cfb28a6c>\u001b[0m in \u001b[0;36m<cell line: 2>\u001b[0;34m()\u001b[0m\n\u001b[1;32m      1\u001b[0m \u001b[0;32mfrom\u001b[0m \u001b[0mdatasets\u001b[0m \u001b[0;32mimport\u001b[0m \u001b[0mload_dataset\u001b[0m\u001b[0;34m\u001b[0m\u001b[0;34m\u001b[0m\u001b[0m\n\u001b[0;32m----> 2\u001b[0;31m \u001b[0mdataset\u001b[0m \u001b[0;34m=\u001b[0m \u001b[0mload_dataset\u001b[0m\u001b[0;34m(\u001b[0m\u001b[0;34m\"carblacac/twitter-sentiment-analysis\"\u001b[0m\u001b[0;34m,\u001b[0m \u001b[0mtrain\u001b[0m\u001b[0;34m=\u001b[0m\u001b[0;34m\"split\"\u001b[0m\u001b[0;34m)\u001b[0m\u001b[0;34m\u001b[0m\u001b[0;34m\u001b[0m\u001b[0m\n\u001b[0m",
            "\u001b[0;32m/usr/local/lib/python3.10/dist-packages/datasets/load.py\u001b[0m in \u001b[0;36mload_dataset\u001b[0;34m(path, name, data_dir, data_files, split, cache_dir, features, download_config, download_mode, verification_mode, ignore_verifications, keep_in_memory, save_infos, revision, token, use_auth_token, task, streaming, num_proc, storage_options, trust_remote_code, **config_kwargs)\u001b[0m\n\u001b[1;32m   2585\u001b[0m \u001b[0;34m\u001b[0m\u001b[0m\n\u001b[1;32m   2586\u001b[0m     \u001b[0;31m# Create a dataset builder\u001b[0m\u001b[0;34m\u001b[0m\u001b[0;34m\u001b[0m\u001b[0m\n\u001b[0;32m-> 2587\u001b[0;31m     builder_instance = load_dataset_builder(\n\u001b[0m\u001b[1;32m   2588\u001b[0m         \u001b[0mpath\u001b[0m\u001b[0;34m=\u001b[0m\u001b[0mpath\u001b[0m\u001b[0;34m,\u001b[0m\u001b[0;34m\u001b[0m\u001b[0;34m\u001b[0m\u001b[0m\n\u001b[1;32m   2589\u001b[0m         \u001b[0mname\u001b[0m\u001b[0;34m=\u001b[0m\u001b[0mname\u001b[0m\u001b[0;34m,\u001b[0m\u001b[0;34m\u001b[0m\u001b[0;34m\u001b[0m\u001b[0m\n",
            "\u001b[0;32m/usr/local/lib/python3.10/dist-packages/datasets/load.py\u001b[0m in \u001b[0;36mload_dataset_builder\u001b[0;34m(path, name, data_dir, data_files, cache_dir, features, download_config, download_mode, revision, token, use_auth_token, storage_options, trust_remote_code, _require_default_config_name, **config_kwargs)\u001b[0m\n\u001b[1;32m   2294\u001b[0m     \u001b[0mbuilder_cls\u001b[0m \u001b[0;34m=\u001b[0m \u001b[0mget_dataset_builder_class\u001b[0m\u001b[0;34m(\u001b[0m\u001b[0mdataset_module\u001b[0m\u001b[0;34m,\u001b[0m \u001b[0mdataset_name\u001b[0m\u001b[0;34m=\u001b[0m\u001b[0mdataset_name\u001b[0m\u001b[0;34m)\u001b[0m\u001b[0;34m\u001b[0m\u001b[0;34m\u001b[0m\u001b[0m\n\u001b[1;32m   2295\u001b[0m     \u001b[0;31m# Instantiate the dataset builder\u001b[0m\u001b[0;34m\u001b[0m\u001b[0;34m\u001b[0m\u001b[0m\n\u001b[0;32m-> 2296\u001b[0;31m     builder_instance: DatasetBuilder = builder_cls(\n\u001b[0m\u001b[1;32m   2297\u001b[0m         \u001b[0mcache_dir\u001b[0m\u001b[0;34m=\u001b[0m\u001b[0mcache_dir\u001b[0m\u001b[0;34m,\u001b[0m\u001b[0;34m\u001b[0m\u001b[0;34m\u001b[0m\u001b[0m\n\u001b[1;32m   2298\u001b[0m         \u001b[0mdataset_name\u001b[0m\u001b[0;34m=\u001b[0m\u001b[0mdataset_name\u001b[0m\u001b[0;34m,\u001b[0m\u001b[0;34m\u001b[0m\u001b[0;34m\u001b[0m\u001b[0m\n",
            "\u001b[0;32m/usr/local/lib/python3.10/dist-packages/datasets/builder.py\u001b[0m in \u001b[0;36m__init__\u001b[0;34m(self, cache_dir, dataset_name, config_name, hash, base_path, info, features, token, use_auth_token, repo_id, data_files, data_dir, storage_options, writer_batch_size, name, **config_kwargs)\u001b[0m\n\u001b[1;32m    372\u001b[0m             \u001b[0mconfig_kwargs\u001b[0m\u001b[0;34m[\u001b[0m\u001b[0;34m\"data_dir\"\u001b[0m\u001b[0;34m]\u001b[0m \u001b[0;34m=\u001b[0m \u001b[0mdata_dir\u001b[0m\u001b[0;34m\u001b[0m\u001b[0;34m\u001b[0m\u001b[0m\n\u001b[1;32m    373\u001b[0m         \u001b[0mself\u001b[0m\u001b[0;34m.\u001b[0m\u001b[0mconfig_kwargs\u001b[0m \u001b[0;34m=\u001b[0m \u001b[0mconfig_kwargs\u001b[0m\u001b[0;34m\u001b[0m\u001b[0;34m\u001b[0m\u001b[0m\n\u001b[0;32m--> 374\u001b[0;31m         self.config, self.config_id = self._create_builder_config(\n\u001b[0m\u001b[1;32m    375\u001b[0m             \u001b[0mconfig_name\u001b[0m\u001b[0;34m=\u001b[0m\u001b[0mconfig_name\u001b[0m\u001b[0;34m,\u001b[0m\u001b[0;34m\u001b[0m\u001b[0;34m\u001b[0m\u001b[0m\n\u001b[1;32m    376\u001b[0m             \u001b[0mcustom_features\u001b[0m\u001b[0;34m=\u001b[0m\u001b[0mfeatures\u001b[0m\u001b[0;34m,\u001b[0m\u001b[0;34m\u001b[0m\u001b[0;34m\u001b[0m\u001b[0m\n",
            "\u001b[0;32m/usr/local/lib/python3.10/dist-packages/datasets/builder.py\u001b[0m in \u001b[0;36m_create_builder_config\u001b[0;34m(self, config_name, custom_features, **config_kwargs)\u001b[0m\n\u001b[1;32m    610\u001b[0m             \u001b[0;32mif\u001b[0m \u001b[0;34m\"version\"\u001b[0m \u001b[0;32mnot\u001b[0m \u001b[0;32min\u001b[0m \u001b[0mconfig_kwargs\u001b[0m \u001b[0;32mand\u001b[0m \u001b[0mhasattr\u001b[0m\u001b[0;34m(\u001b[0m\u001b[0mself\u001b[0m\u001b[0;34m,\u001b[0m \u001b[0;34m\"VERSION\"\u001b[0m\u001b[0;34m)\u001b[0m \u001b[0;32mand\u001b[0m \u001b[0mself\u001b[0m\u001b[0;34m.\u001b[0m\u001b[0mVERSION\u001b[0m\u001b[0;34m:\u001b[0m\u001b[0;34m\u001b[0m\u001b[0;34m\u001b[0m\u001b[0m\n\u001b[1;32m    611\u001b[0m                 \u001b[0mconfig_kwargs\u001b[0m\u001b[0;34m[\u001b[0m\u001b[0;34m\"version\"\u001b[0m\u001b[0;34m]\u001b[0m \u001b[0;34m=\u001b[0m \u001b[0mself\u001b[0m\u001b[0;34m.\u001b[0m\u001b[0mVERSION\u001b[0m\u001b[0;34m\u001b[0m\u001b[0;34m\u001b[0m\u001b[0m\n\u001b[0;32m--> 612\u001b[0;31m             \u001b[0mbuilder_config\u001b[0m \u001b[0;34m=\u001b[0m \u001b[0mself\u001b[0m\u001b[0;34m.\u001b[0m\u001b[0mBUILDER_CONFIG_CLASS\u001b[0m\u001b[0;34m(\u001b[0m\u001b[0;34m**\u001b[0m\u001b[0mconfig_kwargs\u001b[0m\u001b[0;34m)\u001b[0m\u001b[0;34m\u001b[0m\u001b[0;34m\u001b[0m\u001b[0m\n\u001b[0m\u001b[1;32m    613\u001b[0m \u001b[0;34m\u001b[0m\u001b[0m\n\u001b[1;32m    614\u001b[0m         \u001b[0;31m# otherwise use the config_kwargs to overwrite the attributes\u001b[0m\u001b[0;34m\u001b[0m\u001b[0;34m\u001b[0m\u001b[0m\n",
            "\u001b[0;31mTypeError\u001b[0m: BuilderConfig.__init__() got an unexpected keyword argument 'train'"
          ]
        }
      ]
    },
    {
      "cell_type": "code",
      "source": [
        "dataset"
      ],
      "metadata": {
        "id": "L7o1PUV0fGnW",
        "outputId": "f362dc72-ec08-4fd8-b413-79cd2064412b",
        "colab": {
          "base_uri": "https://localhost:8080/"
        }
      },
      "execution_count": 35,
      "outputs": [
        {
          "output_type": "execute_result",
          "data": {
            "text/plain": [
              "DatasetDict({\n",
              "    train: Dataset({\n",
              "        features: ['text', 'feeling'],\n",
              "        num_rows: 119988\n",
              "    })\n",
              "    validation: Dataset({\n",
              "        features: ['text', 'feeling'],\n",
              "        num_rows: 29997\n",
              "    })\n",
              "    test: Dataset({\n",
              "        features: ['text', 'feeling'],\n",
              "        num_rows: 61998\n",
              "    })\n",
              "})"
            ]
          },
          "metadata": {},
          "execution_count": 35
        }
      ]
    },
    {
      "cell_type": "markdown",
      "source": [
        "The labels here are ```'feeling'```\n"
      ],
      "metadata": {
        "id": "SWZbgPKTfOSv"
      }
    },
    {
      "cell_type": "code",
      "source": [
        "dataset[0]"
      ],
      "metadata": {
        "id": "k7XdMl4qh4Cu",
        "outputId": "701e7153-8251-4695-a4dd-2500bbf88b26",
        "colab": {
          "base_uri": "https://localhost:8080/"
        }
      },
      "execution_count": 47,
      "outputs": [
        {
          "output_type": "execute_result",
          "data": {
            "text/plain": [
              "{'text': '@fa6ami86 so happy that salman won.  btw the 14sec clip is truely a teaser',\n",
              " 'feeling': 0}"
            ]
          },
          "metadata": {},
          "execution_count": 47
        }
      ]
    },
    {
      "cell_type": "markdown",
      "metadata": {
        "id": "jcOetHIV5FTm"
      },
      "source": [
        "References:\n",
        "\n",
        "[More about pipelines](https://huggingface.co/docs/transformers/main_classes/pipelines)\n",
        "\n",
        "[Huggingface Model hub](https://huggingface.co/models)\n",
        "\n",
        "[Datasets](https://huggingface.co/docs/datasets/en/index)\n",
        "\n"
      ]
    },
    {
      "cell_type": "code",
      "source": [
        "dataset[\"text\"]"
      ],
      "metadata": {
        "id": "UTdVLXgSiG85",
        "outputId": "7a5421ea-1cf3-475a-8ac0-6ab8aaf6e1f5",
        "colab": {
          "base_uri": "https://localhost:8080/"
        }
      },
      "execution_count": 48,
      "outputs": [
        {
          "output_type": "execute_result",
          "data": {
            "text/plain": [
              "['@fa6ami86 so happy that salman won.  btw the 14sec clip is truely a teaser',\n",
              " \"@phantompoptart .......oops.... I guess I'm kinda out of it.... Blonde moment -blushes- epic fail\",\n",
              " \"@bradleyjp decidedly undecided. Depends on the situation. When I'm out with the people I'll be in Chicago with? Maybe.\",\n",
              " '@Mountgrace lol i know! its so frustrating isnt it?!',\n",
              " \"@kathystover Didn't go much of any where - Life took over for a while\",\n",
              " '@TashaWilson like questions she asks me the date etc..i say that i have been to birmingham lol its weird o well  u ok?',\n",
              " \"@lisastarlynn I haven't heard anything. I'll tweet you as soon as I hear. I'm really worried actually\",\n",
              " '@SusanCosmos @speakgirl Thx 4 sharing!',\n",
              " '@lamere thank you so much, looking at these pics makes me want to have one more',\n",
              " 'not it teh best form today, dont no why, just having a pissy day, i am all ways happy but to day ah not really   annoyed, bored, angry',\n",
              " 'About to go to bed. Sleeping really late tomorrow!  I am so glad the Tigers won tonight!!',\n",
              " \"Just grabbed some bagels from Panera for everyone at wk. It's Brittany's last day\",\n",
              " \"AHH i'm so HAPPY. I just found my ipod.  God is sooo good to me!\",\n",
              " 'Hoping for a better day today. Yesterday was fine until I passed out at my desk, fell off chair, and carpet burned my forehead.',\n",
              " '@poepiandzegiant oops just saw you said hello! Hi there',\n",
              " \"@jayadore fuckyeah ;) also yay shoes and bag!!!!!! I'm excited for you\",\n",
              " \"say it ain't so #trackle say it ain't so!\",\n",
              " 'att workkk dyinggg to get the fxckkkkk outt',\n",
              " \"Said something harsh and didn't even realize it's harsh until I said it.. Sorry  http://myloc.me/2Keo\",\n",
              " '@jchronowski47    oh no...tied now!   -Linda',\n",
              " 'Twitter is useful in that it reminds people what they forgot to ask me about on a given day. It is also excellent for inspiration',\n",
              " 'Hoping I at least have fun 2nite.  Today was 1 horrible way 2 start off a birthday',\n",
              " \"@kirsty_gilfo yup! That's the one  Mmm....yum cha! Have lots of dumplings for me\",\n",
              " 'Italian Shaved on the mall is D-licious and all over me!!!  and my printer...  But it is D-Licious!',\n",
              " \"Mum's off to bed... Nip/tuck time noow\",\n",
              " '@WKJThD but-I know He has awesome plans thru it all-and I will hold my head up high...  blessed with you all!!  HOW ARE YOU???',\n",
              " 'Have been LOL big time at this Apprentice video http://ping.fm/vXPnd (via @tdrury) - Thanks, me and @rebel_aceman laughed at it too!',\n",
              " 'Sometimes, people who hate Twitter are so much more amusing than people who use Twitter....',\n",
              " '60+ Beautiful Logo Design Tutorials And Resources  http://bit.ly/Q5Jo0 Wel nice',\n",
              " '@franklang Wish I were in Switzerland.... The blues are playing like amateurs',\n",
              " \"@Junderstated lls ain't that the truth\",\n",
              " \"@NileyLoveStory probably wesupportmustin :| I don't affilate myself with Niley videos on teammustin\",\n",
              " 'My favorite song for now. I even learned the dance moves also  Ã¢â\\x84¢Â« http://blip.fm/~7sf9m',\n",
              " 'Done with recital A     but it went well!!!  3 more to go!  yay!!!!!',\n",
              " 'Nagging tummy ache 4 days now...kept me up w/ nightmares last night  tums are my bff rt now',\n",
              " '500 fps',\n",
              " '@polyzzz Goodnight and sweet dreams to you also',\n",
              " 'Thinking of getting a tatoo',\n",
              " \"@NMaize I miss Yobachi's totems  lol\",\n",
              " '@sdawara ooooo.... even before @maheshmurthy started seedfund, the fund given in seed stage used to b called as seedfund..',\n",
              " \"Need to visit the &quot;Australia Shop&quot; - I'm down to my last 2 Butter Menthols and my throat is still hurty\",\n",
              " '@NicoleSimon Threat or promise?',\n",
              " \"is drinking lovely tea she bought in London in December: Yumchaa's &quot;Caramel Sweetheart&quot;. It's almost all gone...  http://www.yumchaa.com/\",\n",
              " '@GDuffOnline Thanks babe. Hitting the station 2day. Go drop some bangas.',\n",
              " \"@Alphacat1 hehehe bless  you enjoy star trek, you should be sleeping it's late LOL bad kitty hehehe LoveYa\",\n",
              " \"how sad is losing laptop's adaptor?\",\n",
              " '@MeganCamp Those are all popular responses',\n",
              " '@ddlovato owr family own a jehtskii (: buht ihts winter over here so ihave too wait till summer  jetskis are so fun.',\n",
              " 'I miss the two david. archuleta and cook! HUHU  i miss them soooo baaad!',\n",
              " '@etrangle k check ur hotmail! i cant rly help much now',\n",
              " \"gonna sleep now la. tmr school.  no off-in-lieu for sat's vesak day. not fair. tmr programming. deal with codes again. haiyah.\",\n",
              " '@MissSydneyJ Im good, lol... I feel awake',\n",
              " '@AJDADDY lol I absolutely hate u!',\n",
              " '@meaghanellenxo oh awesome =] i cant wait to hear it eh',\n",
              " \"@squarespace This my last tweet to you.  I would LOVE to win an iphone but my luck hasn't been the best here lately. #squarespace\",\n",
              " 'Wow... Airbus 380, take me away!  http://bit.ly/63feh',\n",
              " 'Gotta do some chores now  Then will do a bit of revision, and then finish up my video!',\n",
              " \"@D_AMAZIN Won't I get arrested if I am naked on the beach?lol\",\n",
              " '@MeAllTimeLow i know. You were laughing while i was on the ground',\n",
              " '@sharaknight dang it I got a second look and he was so good looking but I had to get off for my exit',\n",
              " '@itsjudytime I just spent the last couple of hours on your YouTube channel.  Great videos!!!',\n",
              " \"@Chicago_Ted I just miss driving my car.  I haven't driven it since I got back yet.\",\n",
              " \"it's Julie's last day in the office before heading back to the UK for good  Cyprus will miss her.\",\n",
              " 'is sad  things are already not the same....',\n",
              " \"@TomRaftery No problem, my family have kept bee's for 4 generations, however I suffer from anaphylaxis to bee sting\",\n",
              " 'my poor puppy is a litle depress',\n",
              " 'Ohhhh lord production is going way over time! NY I wish was now... Vacation',\n",
              " 'How to build a large MULTIMEDIA presentation online - from Soul of Athens 2009, LIVE TODAY!  http://bit.ly/1fBIk PLUS inspiring MM sites',\n",
              " '@nicadler... im sooooo with ya',\n",
              " \"My twitpic isn't working  I wanna show ya'll my sexy shoes I'm rockin tonight.....\",\n",
              " '@beckaymc  no problem!  your welcome.',\n",
              " \"Had to unfollow some people guys.    I can't get flooded every time.\",\n",
              " '@logansutch You can go driving?! HOW?! WHY!',\n",
              " 'Decided to play with the new arduino for the first time - sooo easy to get started  Now having fun with code and flashy lights!',\n",
              " \"it's just about done!\",\n",
              " '@DubDior Lmfaooooo .. i mean anything for u!  i tried to do that as smoove as possible! lol U was good tho !',\n",
              " 'Hi Haters...who talking bout my Elem school pic Chellelilbmore@UrbanInformer i love your new pic you were handsome back then and still is',\n",
              " 'On the way to camp at last. Think I might have offended someone at the meeting earlier, and it bugs me.',\n",
              " 'i need sleep. Its too early. I went to bed at like 6 something because i couldnt sleep',\n",
              " 'bliss n eso &amp; pink concert soon',\n",
              " 'In 5 minutes my birthday is over',\n",
              " 'Going to bed, strangely feeling quite nauseous',\n",
              " 'Bored, was sewing but now RSI is troubling me',\n",
              " '@JLSOfficial R jLs EvA gONnA PlAy iN DuBliN ???  sEeN YiS aT d ChiLdLinE CoNcErT DaHs iT',\n",
              " '@LilPookieJ I learned from you',\n",
              " '@ViolaMaths Wow, you must be shattered! Glad you enjoyed gig and hope maths lecture went well. Did you manage to stay awake?!!',\n",
              " '@BillohBill &quot;projectile&quot; very clever warpig',\n",
              " 'idont get it. its OUR vacation too so how cum we cant decide wat 2 do - its planned 4 us if we like it or not',\n",
              " 'gota watch hollyoaks this morning, in bed me thinks',\n",
              " 'Lunchtime walks in a bid to lose weight are most annoying when all the pubs one passes are throwing out delicious food smells',\n",
              " '@vrthejas I have many more than that. .',\n",
              " \"Back home! Feels great sitting in front of moi desk's 32' LCD\",\n",
              " \"I'm just trying to write CIL I can't think of anything ARGHHH\",\n",
              " 'listen music, and doing my homework',\n",
              " 'Walked outside for a few mins, and now covered in Skeeter bites',\n",
              " 'itunes says that an update is available (3.0), but then just does nothing when I press update',\n",
              " \"Hmm don't know what to do today -- Model just canceled   = I hate it when that happens..will have to do gardening!\",\n",
              " \"(@SHUTUP) it's so warm here  just the way i love it\",\n",
              " 'Yes my laptop works  So now i can abort my diplomthesis',\n",
              " '@halina1979 hey! sent you some pics to your podcart email. hope you get them alright',\n",
              " 'Eminem... haha that was funny',\n",
              " 'Still terrfied.  Joe just seems snotty with cold, but never had anything quite like this to deal with.  lost my invulnerability in 2007',\n",
              " '@jannapha  I just wanted it to be clear and no confusion.',\n",
              " '@deepakkapoor I make time to breathe in may calendar. Once a month I take a Friday off just because I can  #itsgoodtosleepin',\n",
              " 'Must clean house  Klaxons to the rescue!',\n",
              " '@sarvay Just saw you on @NBC12. Nice piece.',\n",
              " 'Just said goodbye to the fam. The only sad part about leaving',\n",
              " 'okay, so everyone else i went with seemed to hate brokeback mountain, or at least josie and zach did and they were the loudest criticizers.',\n",
              " '@dmbtoffee we still have that to look forward to...  ...but only if u get better by monday.. so.. take care of urself.',\n",
              " '@RylandWebb athletics carnival  seriously who even goes to them these days.',\n",
              " 'Esses meus Followers vem sendo uma famÃ\\x83Â\\xadlia online para mim..',\n",
              " \"@gnatty Sweet! Yeah, we thought yesterday was the last black-out date, but apparently not. I'll keep you updated!\",\n",
              " 'BP Only half over&lt;3 My throat hurts  Who cares!',\n",
              " \"@grahamcrackers &quot;I've got the peace that passes understanding down in my heart...Where?&quot;  Now I'll be singing it all night too!!\",\n",
              " 'Im O.deee tired and jus finished my codes for web design II blahh school suckss',\n",
              " 'GOOD MORNING VIETNAM   - http://bit.ly/1usuz',\n",
              " '@mohammad111 Thank you for following me, I really appreciate it! Look forward to your tweets!',\n",
              " \"going to thee cousin's house today!\",\n",
              " '@krulvesen @eddieizzard The element-of-surprise-style-uniform has finally found its way to the U.S Army..  http://bit.ly/2ruWY',\n",
              " 'Something nice in Paris this week?? I accept tips.. thanks',\n",
              " \"@jakemcclain  Me too bro!  Let's keep in touch.\",\n",
              " '@VictoriaIrene HAHA!! ) XD yar welcome!',\n",
              " '@Shivalix  .. the forum is having alot of problems recently  wish it will hurry up and work :L xx',\n",
              " 'wants two things to be back in the gym and vodka and cran',\n",
              " \"@icebergstorm Thanks... I'm going to check that out right now.\",\n",
              " \"It's always neat to listen in on people who have never seen the inside of The Fox before.  Lots of oooo's and aaaahhhhh's.\",\n",
              " '@MrsPommeroy  TouchÃ\\x83Â©.  Steve Hewitt is far better, far cooler anyway. Placebo will lose their battle for the sun.',\n",
              " '@feliciamarie139 yep.  i preordered it back in april. im soooo excited...i cant wait until the mail gets here today! hah.',\n",
              " 'finishing new songs is nice',\n",
              " 'I want to go shopping so bad but have to wait for the check onFriday.',\n",
              " 'Leo is spending the night!',\n",
              " 'Day light hours *shock* lol I love my new ear rings  http://tinyurl.com/loxv8x',\n",
              " \"@fdevillamil Can't wait to see what's coming, and thank you for being extremely fast at replying  hope you are having a great day.\",\n",
              " '@raybooysen still living in the past with #vistasquad tag',\n",
              " \"@sc_mu spend my day with Xin'g &gt; sex all day  )) see ya later &gt; ask ur GIs 2 be removal men .ok 4 Bournemouth this weekend\",\n",
              " '@eliiiiza  I used to just catch the train to Melb central and walk to everywhere from there. Got lost looking for chapel st recently!',\n",
              " '@zazzle not following my zazzle tweets?',\n",
              " '@brandizzle I want a massage...',\n",
              " 'Happpy birthday Dean !',\n",
              " 'Ready for my study date with tonay at b&amp;n.',\n",
              " \"five zipper pouches and four drawstring project bags...and i'm spent.\",\n",
              " 'painting my toenails and making my friend a bracalet',\n",
              " \"@KinanLW Haha, it's like fried rice but you'll eat it as is, because there are pork or seafood or vegetables there already!  It's grilled!\",\n",
              " \"@jordanknight Hey Hey Mr Knight, while you're rehearsing away, im sitting doing an assessment for college  UK misses you guys xxx\",\n",
              " 'just left a memorial service for a co-worker',\n",
              " \"@sarahobrien_  ahem... I'm nearly 16! lol. hahah. just another 20 days or so.  but no... what kid would care about the real world?! xx\",\n",
              " 'Ok, bedtime, I gotta get ready for a weekend full of besties  YAY! Dear Chico graduates, I will bless you with my presence in two days!',\n",
              " '@2kids1love I wanted burritos for tea but my mum said no like always so I had to have salad instead',\n",
              " '2nd period studyhall + remembered my ipod = music time!',\n",
              " \"@madierox Thanks hun, it's always nice to hear that  x\",\n",
              " 'We have to take our clothes off to have a good time. (8) Nannanannaaaaaaaa (8)',\n",
              " 'oooh my first twitter maintenance!',\n",
              " 'IO Psychic TV project facebook account is taking off!    http://bit.ly/ubs1i  - the story is gettin out!',\n",
              " '@ChrisOnAir Missed the damn show on Friday',\n",
              " '@nataliehitz No wonder la ratings high',\n",
              " '@ayubella hey! thank god,your online! im dying cuz im so bored. nobody wants to talk to me.',\n",
              " '@paul_steele my name is chelsea.',\n",
              " \"@thejetset ... and finally there's an iPhone app that is under review with Apple. It's the ultimate phonebook in my not so humble opinion\",\n",
              " '@unitechy yeah! it does! let me tweet u the link!',\n",
              " '@chopped4snuff do you really?  lol',\n",
              " \"@KSwissInc they're half a size too small (tried them today) and i need them for a trip on monday, no one is answering at customer service\",\n",
              " '@judykyho ~ my dear judy ... take care ... ...',\n",
              " 'Finally got my official LBP sackboy off YouTube',\n",
              " '@liamyoung morning',\n",
              " 'freaking out',\n",
              " 'im eating cassandra is a girl....i think ;D jk srry for your tummy  ???? i cant make it better im over hear and your there  im srry rubtum',\n",
              " '@ashphilip I KNOW! the wind is friggin hot too! so disgusting',\n",
              " 'Being a crazy girlfriend and surprising Evan by being at his car when he walks out',\n",
              " 'in the office today - Server Upgrades  Listening to ACDC, looking forward to the concert next year!',\n",
              " \"these instructions are from stinksville. at the end of day one it's rovio: 1 jerry: 0. stay tuned.... paging dr @propmasta, america's cto\",\n",
              " \"I'm being all avoidy with people from my project.\",\n",
              " \"Still at work ..... working, it's going to be a long day\",\n",
              " \"just about finished my personal growth plan for next year, very exciting stuff - can't wait to get it started again\",\n",
              " 'go shopping  !!',\n",
              " '@theashleytaylor I Miss You ASSHOLE!!!!!!.....Come Contaminate My Life With German-ness.',\n",
              " \"I've been patiently waiting for the new AP to come, but it still hasn't! I don't know what to do with myself\",\n",
              " 'wakin up early!! runnin errrands',\n",
              " \"@Satans_Thong he's a thinker him\",\n",
              " '@Bluwiikoon YEAH WELL.  STUFF LIKE THIS IS ONE OF THE FEW THINGS THAT MAKES MY MANLY EXTERIOR EXPLODE',\n",
              " \"@doberama I've stopped running now. Definitely. Until tomorrow at least. Hope this makes you feel better\",\n",
              " 'cant sleep. tossing and turning without him by my side',\n",
              " \"@Pj18113 ur a junior member so i can't watch you\",\n",
              " '@LeelooDogBlog thought it was done but still a bit pink.... dammmnnnn back in',\n",
              " '@batbuick .. .great.. you can buy me lunch when i get my 10-15% pay cut next month..',\n",
              " 'Church was good now @ the Chessecake factory for lunch',\n",
              " \"@LeanneBarbery Dam we where gonna go to Northgate but LIL G is full of cold  much to Molly's disgust just not worth it tho!\",\n",
              " 'hey,this ad is technically wrong,,Earth looked too big in size ,  http://tinyurl.com/rxuz7e',\n",
              " \"#hoppusday Mark, you should make a YouTube channel and film Blink-182 studio updates! We'd all appreciate that.\",\n",
              " \"@Jonperezinsd @BoomboxBui I can't tonight... I am still sore!  Hopefully I'll be ready within the next couple of days.\",\n",
              " \"I think I'm blocked again... when am I going to finish these book???\",\n",
              " '@renmiu I might',\n",
              " '@carkeen Yes, ONE hour!',\n",
              " '@clippercutqueen Thanks babe!  Got anymore photos?',\n",
              " \"@nevynxxx Let's hope they do, then we can ask them to turn it down   (I'm an old woman, it'll hurt my ageing ears)\",\n",
              " \"@PRETTiE good timing on the vid  lol okay I'll stop\",\n",
              " \"@jonasbrothers http://twitpic.com/5t2p6 - JONAS COME TO BOLIVIA PLEASE! YOU CAME TO SOUTH AMERICA.. BUT YOU DIDN'T COME TO BOLIVIA  .. ...\",\n",
              " \"there's this man in our roof.. like literally in our roof.. I wana go up and look nowwww\",\n",
              " 'emma love you to death, miss you tons.  wish you never moved  want to see you, thinking of you always. love you emma.',\n",
              " '@evila_elf lucky for you, then. I always seem to get more red than anything else.',\n",
              " \"AW, MAN. My dad got me Sims 3 for my birthday but it won't work on any of the computers. Major sadface\",\n",
              " '@jennyrae Wow, I really hope it gets better. Asthma sucks',\n",
              " \"nearly finished c4, and i'm out tomorrow\",\n",
              " 'From who-cares attitude, I am now addicted to this latest Kdrama. Gee. Korean shows passion while eating',\n",
              " '@ultrabrilliant @schwimmersear @andihero @philwal Is this gameporn thing making anyone else miss the BoB?',\n",
              " 'I am dying for a Chicken Royale  yumyum, pity the nearest burger king is a bout half an hour away',\n",
              " \"the internet still doesn't work. If this lasts past this evening, I might die. Oh I miss the interweb.\",\n",
              " 'jumprope session cancelled. i gotta watch Another Cinderella Story @ YouTube. if it finishes before sundown i might jumprope.',\n",
              " 'I love the sandbox mentions! &lt;3 Somehow my mind goes slightly to the gutter everytime I hear it though.',\n",
              " 'I hate when its beautiful out and i cant speed on the hwy!   &lt;3kels',\n",
              " 'Good writing session. Now off to the dentist. Groan. I hate the dentist',\n",
              " \"wonders why he's getting such puny karma updates.  http://plurk.com/p/x68ty\",\n",
              " '@Teleos @traderpsyches I always wanted to do this as a kid; SIMON says  http://bit.ly/3uW2b',\n",
              " 'Mood: bored',\n",
              " '@JessicaBrea lol- where in Georgia- cause Im right by the border...  unfortunately',\n",
              " \"Chillin' with @shallwemosh ;) always a good time !\",\n",
              " \"@pbromberg yes to Boopsie, I couldn't get to work right on the iphone\",\n",
              " 'shorts and tank top',\n",
              " 'the inspector in the latest webkit is badly broken.',\n",
              " 'my backyard is a natural wonder to wake up to...saw baby geese feeding with momma, a muskrat, first turtle eggs of the year, and a bunny',\n",
              " '@failingwords exams. Still have 8 left while most of my friends only have 4 or 5  sucks.',\n",
              " 'CHILLN AT DUH HOUSE ...  A LiL SAD CUz HE BROKE HiiZ PROMiiSE N ii HAD TRUST N HiiM ...',\n",
              " 'and a third when i pressed the ctrl key',\n",
              " '@anhicaluvsjonas  how come? xxx',\n",
              " \"@kariajay  All this time you didn't notice I was gone...just needed DB2 is it??\",\n",
              " \"I'm sad because I know if I were a celebrity chef, I would be Paula Deen. I love butter!\",\n",
              " '@duskdargent What a poop of a game',\n",
              " 'thanks  @vintageglam   http://vintageglamblog.com/category/accessories/',\n",
              " \"Uck. Chronic stomach problems leads to two icky tests for me today.   If they find a cure for J, I'm sure I would miraculously get better.\",\n",
              " 'Meet the parents night went great!',\n",
              " '@MomofFaith Oh that SUCKS!  You should write Wal-Mart and complain.',\n",
              " 'thunderstorms tomorrow apparently  dnw',\n",
              " \"@halpyros I found the perfect fries! Ivanlian can vouch for me, it's on hcmc\",\n",
              " 'Update : SL won toss chose to bat . Pak bowling #PakCricket #fb score SL 12 - 2. Got here late missed opening',\n",
              " \"@tevi well it's for mac  which makes it not awesome\",\n",
              " 'at tegus x 2 days only',\n",
              " 'so, nobody wants to help me decide?',\n",
              " \"@itwittmyclit I hope your chest is doing better!  don't make me worry!\",\n",
              " \"@cascandar Ooh, Ooh, I know....it's a chicken!!!!! Yay me!!!!\",\n",
              " \"@DiSCOLENA that's too sad  @tommcfly lyrics are the best!\",\n",
              " \"@EmilyHeinz.. We don't wanna stckam anymoree\",\n",
              " 'Aaron is going to be at the MUCH Music Video Awards in Toronto on June 21st!!',\n",
              " \"doesn't understand this twitter business\",\n",
              " '@ryantabora haha yaaahh! &amp; too much dancing! =P but im gettin off in 7 minutes &amp; then nap time! WOOOO! i love naps.',\n",
              " 'i just made a twitter!!!',\n",
              " 'had a good day.',\n",
              " 'good morning sunshine, the earth says hellooooo',\n",
              " 'is sooooooo Relaxed!!!!! What a great day I had',\n",
              " 'http://twitpic.com/6sawx - This was a goody bag prize in my sisters bag...mine now',\n",
              " '@EricjTDF Thanks Eric That makes me feel all warm and fuzzy in side NIGHTY NIGHT ALL @nicholasbraun You were hysterical in that video',\n",
              " '@mdoolittle .. That had to be FUN, fun, fun!',\n",
              " '@Agitatore ti?c bÃ¯Â¿Â½ NK luÃ¯Â¿Â½n  chÃ¯Â¿Â½ Qu?c h?c Hu? turn cu?i ?n 1 lÃ¯Â¿Â½c 3 cÃ¯Â¿Â½u :-ss',\n",
              " \"@LiTLmissJACKiE they're good.. Thinking of what else I can do.\",\n",
              " 'ahhh got u.s history at 12:30 lol she better help me yoo',\n",
              " \"Haha, I haven't checked my Twitter in awhile. So many updates! But now time for dinner.  ps: &lt;3\",\n",
              " \"@justingimelstob why don't u have a radio show yet..? u and Jim should start one up\",\n",
              " 'I was in the gatheration spirit inniiiitttt! A week to go till ESS OH VEEE',\n",
              " '@OliviaR48 yah but shes not replying.  shes really sweet yah just watching tv.',\n",
              " '@kirstiealley I teach teenagers, and they are&quot; agering&quot; me! perfect place to work on patience and grace. Use my outside voice , a lot!',\n",
              " 'I just got some on my fav jumper and now It smells like cake mix',\n",
              " \"@MattyLeppard NOOOO I DIDNT  OMGGGG i don't do mornings arghhh it better be on iplayer the beautiful souls of @Jonasbrothers\",\n",
              " 'Is excited to go to bed, sleep in, and watch snl in the morning',\n",
              " \"didn't get to meet bachmann, but her young texan intern filled my quest for crazy...\",\n",
              " 'hateeee history of rock!',\n",
              " '@Threadless when will you have the XL size for this shirt again?  http://bit.ly/3QPhP0',\n",
              " 'wishes @Nicole_Innes was on ! miss her man. you better have texts girrrl',\n",
              " '@jamiandsean  how come?',\n",
              " '@2stepp i want 10 cocktails!!!!! hahahaa. i miss it too  this is pish.',\n",
              " \"1 more session to go!  i'm gonna miss ap5!\",\n",
              " 'i need more friends.',\n",
              " \"What a day! Tons of fun starting at 5am to just now. Couldn't ask for better weather and friends! Good night\",\n",
              " 'think it might be brew time',\n",
              " \"@mayaREguru sorry didn't mean to ruin it -- was just watching when @LesleyLambert tweeted that they were in!\",\n",
              " 'Off to school :p talent show today. BORING!!!',\n",
              " '@cutmasta_ ...would like to order &quot;ElDonS@very_cool_domain&quot;, &quot;TheStrat@very_cool_domain&quot; and &quot;schweigi@very_cool_domain&quot;',\n",
              " \"Ohhh sorry i'm rude...first good morning and wish you all a good day\",\n",
              " \"@pombears shurrup! Just cause I didn't know!  you'll have to find a camera haha you can't pretend to take pictures ;)\",\n",
              " '@aletheakontis http://twitpic.com/6sm77 - Fierce! ...Love the necklace too',\n",
              " \"got the chills, sore throat, and a headache. please don't let me wake up sick tomorrow.\",\n",
              " \"@_CrC_ Saw you in some vid from last night.  Also @colorblindfish !  Ya'll were rocking it!  Have fun tonight\",\n",
              " 'is still too lazy to pack stuff.  http://plurk.com/p/11pz1n',\n",
              " 'i love albondiga soup on cold cloudy days. its such a comfort food. bring on the bowls',\n",
              " 'Going to the beach tomorrow. Blitz has been Blitzed',\n",
              " 'my heater kicked on in June?',\n",
              " '@_Chelsea_Marie i knw but... its fake on youtube... someone put a diff band on there',\n",
              " '@bsbaegirl I was feeling left out',\n",
              " '@creealice awh thanks babe',\n",
              " '@woolwytch Wishes you would follow me.',\n",
              " 'Everytime I tweet, I look at how horribly cracked my screen is',\n",
              " \"@mattsorvillo Not the case my friend.  As of yesterday, they made it so you can't see that stuff unless you're also following @apizzagirl\",\n",
              " 'My flip flop just broke...walking in downtown seattle',\n",
              " '@taylorswift13 you were amazing on the today show! I loved your sparkly blue dress!!',\n",
              " \"Damn. Missed #Chaser tonight.  Stupid State of Origin football.  Last season, too.  Didn't want to miss any.\",\n",
              " \"summer in four days.  i'll be your doctor, i'll be your cure.\",\n",
              " '@CHRISDJMOYLES Strictly Come Dancing Strictly Come Dancing Strictly Come Dancing Strictly Come Dancing Strictly Come Dancing Strictly!!!!',\n",
              " 'while getting a fork out of the cupboard a knife stabbed me- it hurt + i cryed.....',\n",
              " '@henryandfriends tanx for really introducing me to your many friends henry... hugs hugs',\n",
              " '@JohnnyDrama28 okay im in love with this guy lol and your taste in music',\n",
              " \"I'll never understand #GIT...\",\n",
              " '@theHiLife the federal building cafeteria, and yea I am',\n",
              " 'hangover= dankkk movie',\n",
              " 'on my way to the car... parked outside about the same place @fresrivo parked last visit together.. more or less 30min later than expected',\n",
              " \"Had an totally awesome session at Tempe Town Lake!!! Can't wait to share Dianna &amp; Alex's pics!\",\n",
              " 'Just got done playing tennis with dad, krista, and brian. Lost to brian 4-3  Lost doubles to Dad and Brian.  WOW I GOTTA PRACTICE MAN!!!',\n",
              " 'last day alone',\n",
              " \"today so busy day ahead. Leaving once they're done though. Work is evil!\",\n",
              " \"@Lucky_Gem yeppers...i'd offer you one of my men....but i've learned to be greedy!!\",\n",
              " 'We at destiny we can get some get tickets !!',\n",
              " \"@Maniak_JayTwo yea I'm bummed right now\",\n",
              " 'im so in love with Rick Ross album bt right now im jammin Ciara - wanna ham sandwhich to kill this pain im feeling -',\n",
              " 'heavy lunch, planning a movie at PVR  3movie #ps #fun',\n",
              " 'Wide awake for no good reason',\n",
              " 'Thx for the #followfriday @12C4 @mdwillbefamous',\n",
              " '@JohnGaltKnows Good for you! I wanted to go for an Masters in Business but time and money constraints  Maybe later who knows!',\n",
              " '@yeatoeh long weekend for u guys. We had ours last week',\n",
              " \"@MajorBedhead  I'm pouting for you.\",\n",
              " \"@jonhoneyball don't think I'll be well enough for the pub for a few days, at this rate\",\n",
              " '@Lunchbox1986 sorry to hear that  xo',\n",
              " \"@TheTonyAwards there's only One day left in your contest and my 2 pics were never put up.\",\n",
              " '@Lint1 those two are amazing. yeah I do. its pissing me off  I wanna listen to GD now!',\n",
              " 'fun fun . . . just The Hills now . . . 3 hours (about) to finale!  (and 4 to the MTV Movie Awards!)',\n",
              " '@trentonlee im craving chicken e/jack in the box/that taco place...i want texas...miss it',\n",
              " '@SonniAbatta I like your hair today, Sonni.',\n",
              " '@shannonseek Yw, hope you had a nice day!',\n",
              " 'http://twitpic.com/7s45y - My popcorn machine booboo',\n",
              " '@LavaRow Your camping trip is over. Mucho gracias :-|',\n",
              " \"@tashsosweet Oh she's bringing that up again? Wow! I thought that was in the past, aight bet. I'll remember that\",\n",
              " \"@missynay good grief  And why are ppl f'ed? Which ppl?\",\n",
              " \"Working on comics... still feeling sick and very weak. Doctors didn't call me back.\",\n",
              " 'designing my page',\n",
              " 'Arghh. Lots of rain. So NOT fun times!!',\n",
              " '@herojaejoong i hate u  do u know i miss u so much oppa :-s',\n",
              " \"@xtelleclassique @chaela12123 blithe smile, lithe limb / she who's winsome wins him  why such a depressing song you guys\",\n",
              " \"@chilvia My MOM has paypal.  LOL I'm so lame &lt;/3\",\n",
              " 'uh oh...well a summer off is nice  What is it you are taking and which school?',\n",
              " 'One more thing, Twitter! @shayimani also said &quot;GO MAGIC&quot; and her prediction is that the MAGIC are winning the championship! I &lt;3 her!',\n",
              " \"About to watch the producers with mitchell. He's never seen it. How sad.\",\n",
              " 'Need a sholder 2 cry on',\n",
              " 'Cheer captain got beat  up',\n",
              " 'I miSs mY bEsT fRiEnds a LoT ! !',\n",
              " '@lindsyaw I wish  I have verizon and want the iPhone SO BADLY. Sucks :/',\n",
              " '(@MisfitGemma) Shutup college. I know my exams in a months time  no need to remind me',\n",
              " 'slow day slower net',\n",
              " 'good morning ) im going to harlingen',\n",
              " '#haveyouever wanted someone so bad and never told them how you felt until it was too late then it hurts your heart really bad',\n",
              " \"@aliballibee  That was a great phone call earlier... (not!) I now don't have a job and my last day at work is Monday\",\n",
              " 'hi Alex Cooper (@myw3) - Thanks for the Follow. Great name',\n",
              " '@latinadanie wow #4!  this ones only 4 mo., but then he leaves again in oct or jan for 6 months',\n",
              " \"just left downtownn! the fieldtrip was sooo fun! last one of the yearr ): i'm sure gonna miss PALs!\",\n",
              " \"I just can't wait to change my twitter background. wait, am I on twitter again? OMG! its close to 3am!! I should work on my report!\",\n",
              " \"i'm not sure if i wanne watch the rest.. cause, i know what will happen\",\n",
              " '@keonne comcast is a good choice and were on here to help',\n",
              " \"@Chuck_st_chuck Oh no, so you went to get her and she didn't need you! You have had a poo day. Wish I could somehow make it better.\",\n",
              " 'Off to church. Will tweet when I can',\n",
              " \"i'm feeling super nerdy...curled up watching back to back episodes of mythbusters\",\n",
              " \"at work! i'm hungry!  i wanna have dinner! boooo!!!! and my cellphone says : LOW BATERY every 5 seconds.. i hate my day so far!\",\n",
              " \"Maybe I'm drunk, but Diana Ross - Chain Reaction is a nice wee song\",\n",
              " 'goodnight my twitter fam, its been a fun night. no work tomorrow  tweet yall in the am.',\n",
              " 'wants to tell you all about my wierd dream. but it wont fit in the 140 limit',\n",
              " \"@paulina1 Well it's so good I tweeted it twice ! And I added the http;// too !\",\n",
              " \"@Alyssa_Milano The Mariner's game is on Fox up here...\",\n",
              " 'Finished 11th. Not bad but not in the top three  Man I wish the cards went my way on a few hands. The turn and river killed me today.',\n",
              " 'so I have to pass on the BBQ today',\n",
              " \"eat something is what i'm desperately needs rite now\",\n",
              " '@MiniTacos make sure to stop by Twitpic',\n",
              " '@ardityahardaya but none of them has confirmed their availability',\n",
              " \"@gopascarlos Hey dirimuuuhh! How's ur wiken? Hope ur enjoying it!\",\n",
              " '@LOPchelle Ill txt her and let her know. Thank you for your help.',\n",
              " 'also, fml, i forgot to do @travelchannel trivia yesterday. THERE GOES THE FREE CRUISE I WAS PLANNING TO WIN.',\n",
              " '@SilasRosae   I got you Si',\n",
              " 'looking after a sick little girl',\n",
              " 'im getting nowhere with this and its so late',\n",
              " 'Had to throw out the cakes.  yeah kinda scared.',\n",
              " 'Headin out to the Healing Arts Festival today.  Ozomatli in the house!  Then, off to The Hotel Del for some R&amp;R for a few days.',\n",
              " '@RobKardashian http://twitpic.com/6oszj - i am NOT HAPPY about this!!! im coming on sunday',\n",
              " \"@MattKelland @alaninantwerp Can't change it. Locks me out of account. Forces password change. No help from Twitter.\",\n",
              " \"I'm so upset with this phone  I hope it isn't broken for good. Stupid T-Mobile.\",\n",
              " \"Totally bummed!  I can't go see transformers tonight cuz my dad won't let me.  Rrrrrrrgggghhhh\",\n",
              " 'Have a huge headache!',\n",
              " 'Morning all how are we all this morning?',\n",
              " '@soulboykirk how are you tonight?  *HUGS*',\n",
              " 'i have no subs on youtobe',\n",
              " 'Not long now  yayayaaaa',\n",
              " \"Salad, tomatoe's from the vine, cheese and Bierwurst sausage for lunch\",\n",
              " 'Is exhausted from work and swimming',\n",
              " 'Just finished watching Wally with my old man.   Very cute!',\n",
              " \"@nilsipilsifan hehe. I'm feelin very bleh right now, so i'll prolly go to sleep soon.\",\n",
              " 'W4M: Letting go &amp; moving on, interested?  - 18 http://tinyurl.com/nm7xvp',\n",
              " 'heck yea, today was super duper FUN! flip food+drag me to hell = fun fun fun',\n",
              " \"Yay, 30% of the app's users updated to the working copy in 24 hours. I don't think it'll reach more than #8 in the top utilities though\",\n",
              " '@jenxstudios i wish i had showtime  weeds, dexter and the avns? great network!',\n",
              " \"'s mom is yelling @ her !!!!!\",\n",
              " \"umm haha. just stumbled upon a 20 yr old male's myspace. profile song: jonas brothers - fly with me.  haha\",\n",
              " '@marlenemanto @theother66 have only just managed to sit down ... need more hours in the day to shift things',\n",
              " 'is so upset that Nadal pulled out of Wimbledon',\n",
              " 'had an horrible day   this weather duznt help either lol x',\n",
              " 'bring on winter, sleet and snow, and feelings that lie deep below...',\n",
              " '@BeccaJW  Fantastic achievement well done .',\n",
              " '@AlexAllTimeLow I had a bad day',\n",
              " \"Ended up not going to school. Was too tired, and also figured that I'd forget most of what I'd learn since the exam's over a week away\",\n",
              " 'http://twitpic.com/7jefm - Good morning everyone... its late but who cares.',\n",
              " '@danasdirt Missed you D!',\n",
              " '@dmbsredhead yo!',\n",
              " \"@realangiejolie Hello Angie!! Keep on, keepin on girl!! Enjoy life, it's awesome\",\n",
              " 'Why do I have so many problems changing a profile pic on twitter? File type and size are correct.',\n",
              " 'about to go out for dinner',\n",
              " '@YosemiteSam90 Hi Sam, @Banksyart is now at @Banksyart2 - has been posting there since having probs with his @Banksyart account.  Peace',\n",
              " 'Artt, all alonee',\n",
              " 'dinner w dad...yummy  n he totes understanding naow! offf to st lolol to habgz for a bit bleh',\n",
              " 'Seeing @christineoh tonight  hey @christineoh want to get dinner or something? My treat',\n",
              " 'apparently kassi has hit that age where she no longer wants to sleep in until 10 or 11',\n",
              " '@kirstiealley hey hun god will love you no matter what',\n",
              " \"@redsoxmonkey It's still the one you had...maybe it will change in a little bit.  I'll let you know if it does!\",\n",
              " 'Holy crap on a stick!  The Crown Uptown is closing!!',\n",
              " 'I had sooo much fun :] ..xxLenaxo I missed u there! =*  @EmilyyPettyy we have to do this again! :p ;] going to have a meal now *yay*',\n",
              " \"@imogenheap can't wait to see what you and jeremy concoct for new pics - and would absolutely love the opp one day to try taking some.\",\n",
              " \"(Sigh) Busy day is finally over. :-/ ... G'Nite Tweet-Fam!\",\n",
              " '@iloveeejonas ya she was just using him to get some fame',\n",
              " 'Miss my mom',\n",
              " 'Back from having a very yummy lunch',\n",
              " \"@22lrhunter I'm  because I haven't seen it yet. I read a lot of mixed reviews for the movie but everyone I know who'sseenitthinksitsgreat!\",\n",
              " \"is sad that WA lost the Daylight Savings vote and we're stuck with no DLS   Lady tonight says she voted no:  &quot;baby cried because it wa ...\",\n",
              " '@raymondroman oh noes. how did you manage to send something to the trash can AND empty it without noticing! i feel for ya',\n",
              " \"@traceyannepryke Haha!  Yes I'm taking over the world, one tweet at a time.  This would be faster if they invented the 141 char tweet!\",\n",
              " 'Am now feeling assertive and ready to take on the world!! Probably...!',\n",
              " \"@crystaljordan don't own flats  sigh. this is what comes from being a tom boy - i own a pair of 1inch heals and trainers/boots\",\n",
              " 'miss u gma     2 months ago down to the minute she left me',\n",
              " \"I hate the creators of lost. they killed of daniel and juliet, that's so fucked up!\",\n",
              " \"@jtug this is @kameliamohamad reporting that something is terribly wrong w/ my twitter again. I couldn't sign in to my account this time\",\n",
              " 'define twitter: A big AIM room for everyOne to see Our conversatiOns, haha',\n",
              " '@lisaxjbx3 Goodnight is not on the trending topics.  lol',\n",
              " 'Heyy Can Everybody follow me please!!',\n",
              " 'its cold in my house. thank God for hoodies!',\n",
              " '@N4UPD oh sure tell me how to &quot;make an iphone &quot; and you have a real iphone  lol  *hates verizon/alltel *',\n",
              " \"just found out that the last Titanic survivor died yesterday  I goggled her not long ago before she died and it's just awfully sad\",\n",
              " 'I love my message history: :-D declined',\n",
              " \"@joshthomas87 nooooo! i loved poh!  i'm going for justine now...\",\n",
              " \"I'm gonna sing the I hate my life song right now, because I hate my life right now  Escape por favor.\",\n",
              " 'my guinea might die   im very sad',\n",
              " '@buckhollywood Still love Batwoman! That was the funniest thing I have ever seen lol',\n",
              " '@collinsanford I think so too.',\n",
              " '@GemmaCocker : I am hoping it gets to the 80s (F) soon here! Today has been better than the last 2-3 days, but....still needs improvement',\n",
              " 'trying to upload one thousand photos!!',\n",
              " 'is gonna have a shower and then go sit in the sun',\n",
              " '@solarosa go the disco! Break out the roller skates',\n",
              " 'This is fun, relaxing at Starbuck, but will have to leave soon, CRAPS',\n",
              " 'I need a new bg',\n",
              " 'Is miserable  i feel like im gona cry  sux!',\n",
              " \"@Konfirmed Yea....ive been awake ..... I think i'm not Normal! lol!\",\n",
              " 'bb: @kgwsunrise  RL Nice day/No work?!  U bet! I signed as I left the studio. Now home trying desparately to get both my kids out of bed',\n",
              " '@elephantbird Coffee was phantastic, as always. Coffee is my morning meditation',\n",
              " \"@mileycyrus next week I'm going to see your movie with all my friends. haha. Just heard good things about it !\",\n",
              " 'so, so tired.  back to work tom. sigh! as usual, where did the long weekend go?',\n",
              " '&quot;i like you more than my guitar.&quot;',\n",
              " 'I was born in the wrong family....     How could I run away from it???',\n",
              " 'Lovely day - so obviously getting some washing done, while listening to @stephenfry chairing ISIHAC online. Bliss',\n",
              " 'is signed up for fiddle fest this summer.  dancing, and fiddling, and being with friends. so much fun!',\n",
              " 'Getting closer and closer to summer',\n",
              " 'about to go to a shower....my first time  hahahahaha. sana meron.....maraming.......food and drinks!',\n",
              " '@peterfacinelli Italian Twi-hards are standing behind you! go man! go team carlisle!',\n",
              " \"I feel so HUGE and still have 12 weeks to go.. I've seen teletubbies that are skinnier than me!!!\",\n",
              " 'Good mornig! i am getting ready for school! i have to take @Mo4sho87 with me',\n",
              " '@PeterBlackQUT its just @jonoh @ExocetAU @spoonerist @michaelmeloni @websinthe @stormwarden here.. the line for the food is huuge  sigh',\n",
              " 'SHIIIT. paper cut',\n",
              " 'Story in paper today says red wine may not have health benefits scientists thought. Oh well, back to the carrot juice',\n",
              " 'but now im off to school!  goodbyes... be back it in 8 hours',\n",
              " \"#green #comedy You're racist against green people!  http://short.to/cbv7\",\n",
              " '@usmcpablo Will check it out.. Thanks.',\n",
              " \"@floringrozea book social network isn't a bad idea!\",\n",
              " 'feeling much better than before  Working @ wired tonight!! 2 of my favorite customers came in so far tonight',\n",
              " '@ThisismyiQ work',\n",
              " '@buerkieb They messed up Fin. Aid Two Years in a Row and I had to pay out of Pocket and they had me in the System as Graduate!!!  Then',\n",
              " '@stevie_ryan Happy B-Day Stevie. We love you. You rule',\n",
              " \"@ingridfuller well if you're going to make sense I just can talk to you at 3 in the morning.  can't sleep, too wired.\",\n",
              " '@JackAllTimeLow you must be more careful you could have been torn apart out there, or at least had your favorite shirt ripped off of you.',\n",
              " 'Drank more caffeinated tea, fell asleep again... something is seriously not right here    fml',\n",
              " '@dN_redNests Unless their connected by tunnels, surely you had a non-stuffy experience for even a wee while??',\n",
              " 'coronation street',\n",
              " 'www.proq9.th8.us Ranking Minneapolis: Fit or fat?  Lets all go for a bike ride tonight!',\n",
              " \"Renamed some stuff, and now my VSIX project won't launch the VS test env when trying to run project\",\n",
              " 'Trying to figure tweetdeck out.  Confused',\n",
              " 'i was sick for a day 17 days ago. i slept four hours 2 hours ago. i slept two hours 20 hours ago. i will probably get sick again soon.',\n",
              " \"@aeayling my poor baby I think it's allergies! Can I do amything about it bc he's been that way sence monday\",\n",
              " 'Excluding weekends and holidays and work days I have 43 days left at school FOREVER  @ddlovato @Jonasbrothers @mileycyrus @mitchelmusso',\n",
              " \"can't turn his head  This will require physio, methinks...\",\n",
              " 'I am home. Glad school is almost over. But not glad that i wont get to see my friends everyday  i will miss seeing you guys everyday!',\n",
              " \"I need my brand of OTH! N-O-W!  but I can't. ( until tonight..when my mum gets home... :-w X(\",\n",
              " 'I hate it when plans get screwed up',\n",
              " 'it better not raiin',\n",
              " 'settled for a chocolate spread sandwich but it was in no way as ace as the bacon sandwich would have been',\n",
              " '@britttnicole Jbs youtube account got suspended?? I wonder how!! Now all there videos are GONE!!',\n",
              " 'Where did all the lovely weather go???',\n",
              " \"Can't breathe, heart beating fast, need air, getting dizzy... Sounds like I'm inlove, but I've done that! I'm feeling sick\",\n",
              " 'i cant believe &quot;the game&quot; is cancelled..it was just getting good',\n",
              " 'Sean is all alone in whitespace. Someone come keep me company',\n",
              " 'Having a blast with FBLA memories and crazy lazy girls',\n",
              " '@drew8890 I guess, but probably not to the masquerade  this sucks so much. im all dressed and have now where to go now. fuckmylife.',\n",
              " \"the bookstore doesn't have my book and hw is due, american apprl wont let me exchange my tee, and sophias doesn't have my fave chkn. WTF?\",\n",
              " '@LuciaLillo Thats so true but wuth old bones it kinda sucks to play sometimes..lol  but nice words of encouragement',\n",
              " 'ahhhh how ive missed the hot tub',\n",
              " 'In too much pain to drive  Avery and i said were gonna be crippled my the time were 16. Thats what volleyball does to you.',\n",
              " '@jillianp looks like you crashed twitter with that tweet.',\n",
              " \"Here in SF ready for #WWDC tomorrow... Not quite the hotel view @aronsolomon has but I'm happy to be here!\",\n",
              " '@sandgaijin unfortunately after time, people can lose their voice. Look at what happened to Robert Plant. Eddie still has the energy',\n",
              " \"talent show was good, we didn't suck!\",\n",
              " 'Goodbye Blackberry!!',\n",
              " 'Sunday. Great for cleaning cars, chilling out and roast beef dinners',\n",
              " \"@ArielPritts it's crazy how much i miss you already\",\n",
              " '@ubertwiter will we ever be able to view the myloc map on our device? Cuz that would rock the house.  http://myloc.me/2ax8',\n",
              " \"yo roomie...twitter secret if you're trying to message me hit me up @britajames and i'll get the message  thanks for the love.\",\n",
              " \"@getsweetie doesn't feel that way today.    wondering where my joy went...\",\n",
              " \"I really don't want to go to the gym today.\",\n",
              " '@onichris Zomg! I also discovered my love of swedish fish!',\n",
              " 'off to work i go, allergies are making me miserable and medicine is making me sleepy.',\n",
              " ':s have been appointed to drop my sister off at school, Yay',\n",
              " \"@donna_duncombe  uuuuuummmmm . . . . . nope LOL!! I'll put up with my little headache\",\n",
              " 'Ummmmm I got stuck to a fly trap  that was gross',\n",
              " \"@ObsidionStorm About a week late   I won't be able to hack the gibson\",\n",
              " '@selenagomez HI ! sel.. how are U? iÃ\\x82Â´m tired.. i have three examns yesterday  how about You? how itÃ\\x82Â´s going??',\n",
              " 'http://twitpic.com/6unws - this is what i decided i want for my birthday, please &amp; thank you',\n",
              " 'Gonna go Westfields, anyone wanna join me for coffee? Let me know.',\n",
              " \"gahh, i'm hungry. Mummy, mummy. where are you?\",\n",
              " \"@JendisJournal Well I'm glad I helped someone today - always good to hear\",\n",
              " 'is thinking that lily allen is very pretty....randon i know',\n",
              " '@BrokenIntntionZ Now your not!',\n",
              " 'Having nothing to do  So bored.',\n",
              " '@jesocute Haha! Poor you',\n",
              " 'I almost got a puppy yesterday',\n",
              " 'haha this has proven to be an interesting day. haa. not rlly.  grrrr',\n",
              " '@brentbolthouse you have a Ducati? Those are sexy bikes.',\n",
              " '@intoxicat3 absolutely',\n",
              " 'had a really nice night last night.. love you babe!!! and is now at sophs,, i am alive soph hahaha!!!!! was really busy yday sorry!!!  xx',\n",
              " 'texting with tom...i miss him',\n",
              " 'Getting ready for a meal with my big brother, but by going and am going to miss BB on C4.  .......... oh well. x',\n",
              " \"I don't get why Daniel Henney has to have long hair. It makes him look so old and frumpy.\",\n",
              " 'Wondering where Sabrina is and why I had to lay in the pool all alone',\n",
              " 'about to go and get ready for jasmins',\n",
              " 'what a night/ morning. im exhausted. maulis party at 3:30, i think i may take a nap.   textieee',\n",
              " 'Mission Impossible was a pretty awesome action flick.',\n",
              " '@Rowdyeh it is bad news  and now you have tweeted #ChrisFlu you have got it so sorry  means you gotta twitter all day',\n",
              " \"@laishalee man sis I don't know if I'm gonna make it to ur b day   what r u planning on doing for the big 2-1?\",\n",
              " \"@mango001  cuz as a society we've gotten used to the gov being the voice of the people instead of the people being the voice of reason~\",\n",
              " '@MicheleKnight I shall, and in the sunshine   Happy house hunting...',\n",
              " \"@themaggers I'm here\",\n",
              " '@Tyrese4ReaL damn i wanna go but im not in LA.. you should have a party ion NY i will def attend',\n",
              " \"hey hey! im studying for exams and SAT's  wondering wat all my fwends are doing\",\n",
              " '@minknosadowsky well.. saya kurang tau juga tentang gitar',\n",
              " 'I hate sunday mornings',\n",
              " 'Oh damn that food made me tired and shit...   http://myloc.me/55DG',\n",
              " \"I'm a pig today  cake? Samosas? Doughnut? Fml. I guess I have to talk to @AvenueSwank again since I need to bring it!\",\n",
              " \"@frogboy229 I'm so sorry to hear about ur boss n sis.  *HUGS* You got my number if u need to talk.\",\n",
              " '@ZombieLogic Frying chicken ... you go boy. That brought your &quot;great hubby skills&quot; up a notch.',\n",
              " '@GeorgeJonesJr go get an adapther at the corner store. only 5bux... pounds. i love u',\n",
              " 'Off To The Church Tonight.. Media Shout Duty &amp; Recording.. Sermon Duplication All done But One Derek Sermon. Love Ya All',\n",
              " 'Tomorrow will not be fun but you know what? Bring it on, nothing can break me.  goodnight',\n",
              " '@RudeHype2010',\n",
              " '@janelikesbrains Mom was a slight klutz last night...',\n",
              " 'on the way to taste of thai.',\n",
              " 'This episode feels like my life right now!!!',\n",
              " \"@KirstyHilton It's depressing how Manchester is still so far away\",\n",
              " \"@spreckenstein obviously the boyish charm and good looks of the Norwegian entry didn't tickle your fancy... I thought he was beautiful\",\n",
              " 'Heading to the gym for Pilates and Cardio Hip Hop',\n",
              " '@mrsandcastle that sucks',\n",
              " \"@CBernos Too long! Hey, can you and your bro follow me? I'd be honored.\",\n",
              " \"So I'm happy that at least no longer LOSING at chess...but I seem to be drawing more often than winning.  Poo.\",\n",
              " 'having a shitty day. Working tomorrow.',\n",
              " \"exhausted but can't sleep\",\n",
              " \"I've just dribbled it all down the side !\",\n",
              " 'on my way back to the ville  wish i could stay home...',\n",
              " \"Just arrived at Wouter &amp; Nick's crib in Utrecht. Only Nick is in Malaga  Getting ready for a game of Pro Evolution Soccer! Hit it!\",\n",
              " \"@LaurenOlson and @sgricci thanks for having me over for LOST. We'll have to do it again..... In 2010!!!!\",\n",
              " 'www.youtube.com/user/shannonmurdoch good times. watch itt  about to hit the hay',\n",
              " \"Whoo hoo just checked my grades 4 B ' s and one pass Chow\",\n",
              " 'Hmmm...leave some feedback on my blog whathaveyoumissed.blogspot.com   Saturday night... gonna paaaaaartay! Hah, yeah right.',\n",
              " '@folterclothing -Do you need to hire any booth help? I am available and have years of experience working at trade shows. DM me.',\n",
              " '@ahecht25 OMG!!!!! ok. i. just. died. VIP?!?! AWESOME!!!! u get to hear the acoustic set!!! GAH!!! would LOVE to come but cant afford',\n",
              " 'Of course my headphones are broken',\n",
              " 'Disappointed in my parents.  Their priorities were messed up today. I had to suffer for it too. Not cool!',\n",
              " 'Dear @DearRobot... Be a dear and retweet this  http://ff.im/2ewFI',\n",
              " '@dabinion Are you at fox valley?! I was gonna come in and get a car wash/visit you but it was past 6:00 and service is closed  sad day..',\n",
              " '@Greenskull I actually DID draw you because I wanted to do a guest comic for RULe but I never finished it.',\n",
              " '@Felyx thx a lot',\n",
              " 'a bird flew into window at my parents house and snapped his poor neck. gotta bury him',\n",
              " \"im going to watch the MTV movie awards becasue of new moon trailor... soooooo excited for it i can't wait yaaay\",\n",
              " 'bored... nothing to do!! hmmm...',\n",
              " '@lazyPeaches thanks',\n",
              " '@heureste really well  had a great time!',\n",
              " \"watching Jay leno..too bad he's not gonna host the tonight show for long..\",\n",
              " 'My dad is listenin to see u in the dark on my mp3.',\n",
              " 'how odd. felt strangely emotional casting my vote. maybe it was seeing  #BNPbastards atop the ballot paper.',\n",
              " '@saraclaridge1 its an italian restaurant with great food. Just when i thought noone actually read what i put. Lol thanx.',\n",
              " 'Up was such a cute movie.. I hope that @GarrettWalt and I can be that cute as we grow older together',\n",
              " \"@mikiMESSEDUP i'm excited too.  i think cover design goes to Mat....but you could always ask.\",\n",
              " \"@texanoutofwater lol! that's great\",\n",
              " \"I can't figure out why my cat keeps throwing up\",\n",
              " 'All this feelings. I hate them so bad',\n",
              " \"Just thought you'd like to know there are 640 calories and 33 grams of fat in an Aussie burger   Hope you only had one!\",\n",
              " 'First #Tweetie bug for me... cant add another account get an authentication error',\n",
              " '@eidismile I got so stuffed that I had to sleep the pain away  haha!',\n",
              " '@Pammer777 Sorry to hear about the sinus infection! I hope you feel better soon! I hope you like Deadly Intent, too!',\n",
              " \"@MajoBlanco http://twitpic.com/6d2tx - i totally agree with u! Miley's the best\",\n",
              " 'First time at PastaMania.. And suffering from super chilli',\n",
              " 'my car is falling apart',\n",
              " '@MarkRCameron great artwork, I can only sketch my designs sadly',\n",
              " \"hm...still workin on my contract.hmm...i'm feelin awful..\",\n",
              " 'BRACE FACE!!!!!!!!!',\n",
              " 'Goodnight all! Early morning tomorrow  i have.. Pe. Rs. Science. English. and History? Great!!!',\n",
              " \"@TheKellanLutz http://bit.ly/SUHvJ  - that's so funny\",\n",
              " 'doing some file transfer computer to computer and is taking a long time.  watching rocky horror to kill time',\n",
              " \"I sprained my foot. It hurts like hell. Can't walk!\",\n",
              " '@princessbutterc Had a lovely weekend and really enjoying the sun',\n",
              " \"@shockinglystill Ditto to that. What's wrong?\",\n",
              " \"@Newilli Yeah, I've been off the Twitterverse radar most of the weekend...I'm feeling quite dandy! What about yourself?\",\n",
              " 'coronaaa.. for the moment',\n",
              " 'going to a softball meeting ughers,',\n",
              " 'grocery store',\n",
              " 'Needs to go to a beach ASAP because I miss the beautiful Bahamas',\n",
              " \"@annapires Currently in Moscow. I also wanted to embed video in Wordpress, but found out (as far as I remember) it can't be done\",\n",
              " '@Shaded thanks for the recommendation. will try tht out!',\n",
              " '@GullyFresh  hater....',\n",
              " 'Resetting my laptop and crossing everything.',\n",
              " 'one more thing, i only slept for 3 hours  so so sleepy (*-.-*)',\n",
              " '@The_Best_Biish Oooh! Haha... Amber who? And nope. Not Amber',\n",
              " 'blerg, the heat destroys me',\n",
              " \"I'm tired already and still so much to do\",\n",
              " 'Good evening night owls! You are ready for the ITEM of the DAY, right? Well it happens in 30 more minutes... drink coffee... stay awake!',\n",
              " \"Eric wants to go for a 2 hour bike ride...and it's hotter than blazes outside. This should be good\",\n",
              " 'No sleeping pills tonight',\n",
              " '@ConsumeTea So to answer your question a bit more directly, Yes, just about',\n",
              " 'NEW layoutt. http://janatabuzo.multiply.com COMMENT. i`ll comment back, swear.',\n",
              " '@iamPaulGipson lol...noooo. i hate pressure',\n",
              " '@MegRyan6 that is true, however, father would not be happy with me taking the car probably, seeing it as I do not have my own car anymore',\n",
              " \"On my way home had fun at laurens grad party I'm so proud of my boo graduating college tyme to go lay w/ tha hubby werk in the a.m\",\n",
              " 'House of the dead 2 &amp; 3',\n",
              " '@AdamGoldston def a Bentley Cont. Coupe',\n",
              " '@kristennnbaby maybe this is the solution of ur problem',\n",
              " '@wrestlingaddict Well at least you had kids, I have no excuse.  LOL #bookieb',\n",
              " '@HOTtamaleTRAIN I do not envy you one bit. Such a hard decision to make.',\n",
              " 'kids are ready go see Mickey Mouse!  dang no sleep for this chick',\n",
              " 'is watching beetlejuice aaaaaa. and cannot stop sneezing',\n",
              " \"Napa was fun...but now i can't get myself to focus...\",\n",
              " 'omg I feel like SUCH an enormous pig!!!',\n",
              " '@nikkigil no....  u gotta go online trhough twitpic i think ;) unless u have the link then just post the link',\n",
              " \"i'm so freaking miserable today  hey @tommcfly did you have a cold or allergies when you were tweeting about feeling ill?\",\n",
              " '@MR2AUCE yummm....have a great one!',\n",
              " \"legs hurt.....can't believe I did squats yesterday.....first time since college...boy am i weak!  (and it hurts to walk up stairs  )\",\n",
              " \"@macintom site doesn't seem to want to load up, they must be getting a lot of hits\",\n",
              " 'eatin dinnerr, then goin to the store!',\n",
              " '@ClassikBeats Good luck',\n",
              " \"@Erardo yeah 3 more hours, maybe sooner (please pray). 50% of my health is all I need to make money. But Ban I'm developing a minor cough\",\n",
              " 'I should be at the Do-Division Fest right now',\n",
              " \"@allanaquino hahaha...just now i read...so don't complain..u brat!\",\n",
              " \"trying out @MrTweet 's recommendations - thanks @nonsequitir\",\n",
              " 'Really yucky storm outside. Can only count to 2 mississippi before super loud thunder',\n",
              " 'a wedding and traffic snarls later, was home @ 3AM .. back at work now',\n",
              " \"@clblack79 I'm pretty sure they do. My dog is spoiled too  but u know what they totally deserve it\",\n",
              " \"@mmbaby OMG!! I'm watching The Strictest Parents too. I'm making Billy watch too\",\n",
              " \"http://twitpic.com/6bcvd - @XO_SUFI_XO Here's a close up\",\n",
              " \"@JoyGooch I would if I could - it's a perfect beach day here too, but no beach\",\n",
              " 'Just joined Twitter.... another way to waste time by sharing your time with equally jobless people',\n",
              " '@Tiggythepiggy was gonna make em with jam',\n",
              " 'up to early',\n",
              " \"doesn't like having a cold, school  rain ...\",\n",
              " \"@yosoypitufina I can't wait to be back, babe. Not many good stories, though\",\n",
              " '@laurieMvincent I know! My husband &amp; I both just got over colds! Summer...come quickly&amp; yes, thank God for the sun today!',\n",
              " \"So since I'm forcibly stuck @ home I could do something productive like clean my room but I'm probably just gonna stare at my ceiling.\",\n",
              " 'hanging out w/ the BF',\n",
              " '@nahbois i expect a text message when it happens',\n",
              " 'Is on ScrewAttack, missed out this week due to Maths revision. Who goes to school on a Sunday to do 2 hours of Maths? Oh, me...',\n",
              " '@gradytwin i wish it was true for me too',\n",
              " '@lucindaaxo thank you',\n",
              " '@wabbitz18 nope, its coming out june 2, sorry   15 days awayy',\n",
              " '@ABCDianne It was an accident I swear',\n",
              " \"@sinfulsignorita Can't believe you are farting now.\",\n",
              " '@InsidePorn  i was clicking thru his pic for the past few years and then the bf pic came up  thats y i sound bipolar  just for your info',\n",
              " \"@Vemsteroo It's the new aspirin.\",\n",
              " '@taniistump  its all about Patrick and Kage and all the other HottieS!',\n",
              " \"@mimypzz I'm fine too.  Really? Baby, don't worry, be happy! haha\",\n",
              " '@vanessa80417 http://twitpic.com/4sani - wow you look so pretty there',\n",
              " 'Im so angry right now .. today im not doind nothing and all my classmates yes  ,i think i will stay with my friend Mr.Computer .. hope not',\n",
              " \"@Saresa  Sar's flyin' solo, it seems! /announce\",\n",
              " '@MontanaOne Or I could say, will work for flight time.',\n",
              " \"Well, i'll do an @mickyfin and wish you all goodnight, the cocoa beckons\",\n",
              " '@heystephj had a date with NAF.  We will all have new facebook pictures soon',\n",
              " 'hanging with abby',\n",
              " \"Zomg Just for Laughs is on, i'm never gonna study\",\n",
              " 'summer school. Just finished the most amazing book ever, I have to say I think it is better than Twilight!',\n",
              " 'ow headache go waaaaaaaaay',\n",
              " '@Killaya  sorry hun, we gotta make sure its the best one yet!',\n",
              " 'oh right, i was going to bed. good night all',\n",
              " '@righteoustrash i guess im not hipster enough i only read the online version',\n",
              " 'goodbye bond street dreams',\n",
              " '@Dravor thanks for that. not sure how permanent the sim swap change will make. also the link you gave is for iphone 3G, i have an old 2G.',\n",
              " \"I'm hooome  had the best evning with the girls &lt;3 we wouldn't stay out for the night because of the bugs!! iihjjj  but you know, FUN!!\",\n",
              " 'I am slowly getting angry at this Jon and Kate Plus 8 thing',\n",
              " '@BlondiePicPic oh trust we can cripple walk with the best of them. fuckinnnnn love that jam! shmonis pool dance party! sans shmoni',\n",
              " '@Cookson28 hahaha. happy birthday for the other day btw  have fun? x',\n",
              " \"@weava77 That wasn't it  just an alternative made up to fill the void!\",\n",
              " '@msmack9871 went to the West Oaks Mall -  was very empty   mostly moms and kids',\n",
              " '@Kikisings Yea Pastor Pillow is deep man, I got to get the tape',\n",
              " 'Have I said before? &quot;I love the twitterverse at this time of night&quot;, you guys rock',\n",
              " \"You didn't prove me wrong\",\n",
              " '@gigarcia Pretty good today thank you. Did you get your new phone yesterday?',\n",
              " '@Cacity87 Help counter the cruel trending topic  retweet #dannygokeyislove  #dannygokeyislove #dannygokeyislove #dannygokeyislove',\n",
              " '@DMBSFgirl Are you going to SF zoo tomorrow? I wanna go! gotta work though.',\n",
              " \"@willwybrow it seems the same as what I'm watching on BBC News at the moment but I didn't hear any talk of fascists.\",\n",
              " \"Why don't I learn? Charles &amp; Keith shoes wreak havoc on my feet! Note to self - Stop buying them, no matter how cheap they are\",\n",
              " \"Amazon's Universal Wishlist feature is quite nice!\",\n",
              " \"@jeffmello Wow! my blip made it to your blip list -- it feels like being on the radio or something! You're too good 2 me.\",\n",
              " \"@vicequeenmaria The show at Van Dyke was amazing! We missed you guys. I KNOW y'all had a wonderfully sxse time.\",\n",
              " '@ellaireyantis read the &quot;scoop&quot;...that SUCKS!',\n",
              " '&quot;Ewww...that was an ugly text =P 2 words...no me gusta short texts...its a waste of my unlimited texts =P&quot; sorry?',\n",
              " '@KeithDriscoll No problem, thanks for the great link!',\n",
              " \"@writeinink I LOVE it. Samsung Rant is a great phone! Especially if it's the purple version. Heh.\",\n",
              " '@Shisaac (L)(L) loll',\n",
              " '@ddlovato and @selenagomez are the best!!',\n",
              " '@willrayraf Phew!',\n",
              " '@peyton_scott http://twitpic.com/7ygm2 - twit pic chooses today to screw everything up...',\n",
              " 'Aw crap, BNP have won a seat in Yorkshire and Humber  #eu09',\n",
              " 'about to shower after working out',\n",
              " \"I'm so obsessed with Fallout 3! Shame it's a rental  but at least I get to keep it as long as I want! Yay for Tesco DVD Rental.\",\n",
              " 'goodnight tweeties',\n",
              " '@cazp09 aww cool  whens she due to have the baby? xxx',\n",
              " \"F1 is Broken  http://bit.ly/140yn2 @ashjohn997  &amp;BBC Radio 5Live's David Croft on the #f1 crisis http://bit.ly/J2LgS @blickbuster  #f1\",\n",
              " 'building under a water boil alert. no drinking water or coffee  drank my last can of cream soda yesterday. things could get ugly people.',\n",
              " '@ a random bar in nyc about to go see JT but missing my old life',\n",
              " \"Counting down to the 28th Feb to secure vanity URL's for those brands that are not quite that popular - yet!\",\n",
              " '@carriebellus thanks kitten!',\n",
              " '@ hpapi ok i wont   (He(&lt;)ArT)',\n",
              " '@tommcfly Hey, my love.',\n",
              " 'Strange... and probably sick.',\n",
              " 'I am in school for Radio Broadcasting. Can any of you DJs out there share some advice please! Or maybe have a PT job that I can have?',\n",
              " 'feeling crappy and being avoided.',\n",
              " '@JustinFargas how u gone ask me to tweet u nd not tweet me back  boo on u!!',\n",
              " '@missyvie No, cant wait!',\n",
              " '@Q_Element Perhaps I should volunteer my services as a sex toy until Alabama laws are changed.',\n",
              " 'so very hot n humid in st.louis',\n",
              " '@binarybball ahh really hard to say I dont want to see any of them leave',\n",
              " 'http://twitpic.com/7hrjb - The birthday boy and me',\n",
              " \"@Andrew303 cool - say g'day  btw did @eunmac insist that all staff attend?\",\n",
              " '@Kat_LB thanks lovely!!!  in case you had forgotten 4days!!!!!!',\n",
              " 'On the plane. Blagged my extra leg room   .',\n",
              " 'no, unfortunately.',\n",
              " \"@ctingyu08 Thanks! Welcome to the other Twitter account.  I'll be home Tuesday night, but won't guarantee human status until Wed.\",\n",
              " 'wOrriied  hOpe everythiinq turnsz Out Okaii...',\n",
              " 'Watched A Walk To Remember. Frigging bawled.  It was a good day.',\n",
              " \"Went to the beach today- FABULOUS. Missing my Lismore guys HEAPS!!  can't believe I'm leaving in 2 weeks, I'm gonna miss Oz SO much\",\n",
              " 'CheeseRavioli+Zitty+Dirk+PaperAirplanes+SportsCoats+Sex+PushPlayGroupieWannabes+GirlShoes+MyspaceWhores+MakingFunOfBands+Music=GOODTIMES!',\n",
              " \"Cool, I'm not the only crazy person bringing an Ubuntu Dell Mini9 to class\",\n",
              " 'Nintendo E3 presser tomorrow. 9am pst/Noon est. i think i have a meeting at that time so no live tweeting for me.',\n",
              " \"&quot;And now there's a gun..&quot; Such awesome lines this week.\",\n",
              " '@http://twitpic.com/7qo9s Wanna go to the beach.. But still raining outside!',\n",
              " 'That work out kicked my butt, the upshot I have a free personal trainer  http://myloc.me/2XbO',\n",
              " '@tradingnothing tortellini and can i have some please, my feet hurt too much to go &amp; get lunch for myself',\n",
              " 'Forgot to close my tab last night, going back at 6 to pick up card and see what the damage is after fees',\n",
              " \"@DarthArgance no,actually! it wasn't meant to, I had a lovely day!\",\n",
              " 'had a right good last day (Y), never got too see frazer and arron though sorry',\n",
              " \"@kirstiealley Whooooohoooooo!  Hey congrats dollface!   You are a certified hit!    I'll go get a notary.  Wait I AM a Notary!!  *stamp*\",\n",
              " 'And somehow I still end up in this place',\n",
              " 'watching camp rock',\n",
              " \"@Robert_Munroe Sorry  I just now got home and I'm working early tomorrow.\",\n",
              " \"I'm at work...it's a little bit boring today, but I have to work till 7 pm ... 6 hours\",\n",
              " \"@chadmichmurray that's so sad and disappointing you and hilarie aren't  coming back to the show next season\",\n",
              " \"Ok, I've been putting it off all morning but it's time to get real, On my way to do my leg workout!\",\n",
              " \"It's official!! I am no longer wearing heels to the club  ever.\",\n",
              " \"i had my last class for World of TV  i'll miss it... it was a William Morris\",\n",
              " '@ maracaibo, again    &gt;(',\n",
              " \"awe.  that sucks lol how'd you do that ?\",\n",
              " \"can't wait for the 6th.. here I come @britneyspears  xxx\",\n",
              " 'Making @techdio a hearty bkfst before he heads off to golf.',\n",
              " \"Roasting today again, it's Scotland, it's not meant to be like this. A bit cranky due to the heat\",\n",
              " 'The names Leah Clearwater',\n",
              " '@tombs25 http://twitpic.com/6akn2 - Haha, CK`s SO strong, funny image friend',\n",
              " '@brianfickley',\n",
              " 'yay finished finally. goodnight twitter',\n",
              " 'aaahhh. fleetwood mac concert in berlin in oktober. i need to go there',\n",
              " '@Sonaris oops,  follow @djmichaeltodd  m best friend that is who is spinnning.',\n",
              " 'Just got home from Shaws. I miss @KaitlinCalk!  Work in a few hours. OH WHAT JOY! Not.',\n",
              " \"@DonnieWahlberg http://twitpic.com/551hw - You know we all love it, who wouldn't?\",\n",
              " 'watchin i love lucy',\n",
              " 'hmmm... i think im gonna sleep early tonight... i feel so tired...',\n",
              " \"Follow Friday @totalgunner no I don't think you're funny, you're scaring me now\",\n",
              " 'Just got home from work its been a long day. Been workin 22 hrs. Constantly grindin.neva sleepin.always dreamin. See you in my dreams!!',\n",
              " \"@aceweekly i didn't even know about the fair until i saw tweets going by about it.\",\n",
              " 'Pool party was fun until I found out I had my phone in my trunks when I went back intyo the jacuzzi  Phone is finally dead...',\n",
              " \"@OPTIMUStik You're a liar babe\",\n",
              " '@lexikitty no worries  !',\n",
              " '@JamesHancox Thank you for helping me know its not my computer going haywire  *hugs*',\n",
              " '@foamcow Was hoping to go see the ships myself. Wanted to see the Kaskelot, my streetÃ¢â\\x82¬â\\x84¢s namesake! But alas, we did the garden instead',\n",
              " '@smackthis still need those energy shots?',\n",
              " '*yawns* welp eyes gettin heavy...bout to hit them sheets, iight tweople have a good one!',\n",
              " \"Kat's &amp; My wake-up call...5:00AM. Goodieeeee.\",\n",
              " \"I'm at summer school  Everyone here is one year younger than me. I am sucha lozzaah\",\n",
              " \"@HeatherElectric please tell me you havn't got into that  xx\",\n",
              " 'Ahh Dont Want Him To Go',\n",
              " '#spreadloveday lets make it a trending topic and follow @YoungQ',\n",
              " 'damnit the weekend is friggin over!!',\n",
              " '*listening to Less Than Jake  *',\n",
              " 'aw wtf i totally missed out on the perez hilton gettingbeat on drama.',\n",
              " '@tweetsforniki hey, I hate when you log into things with twitter and they post to your account',\n",
              " '@anyawalmsley satisfied?  i love twitter!!! &gt;',\n",
              " 'haul video coming up!',\n",
              " \"F!@$$ Changed motherboard and the notebook worked for 10 minutes and Crashes and crashes I don't know what's wrong\",\n",
              " '@BeccaBoo44 except from me of course.',\n",
              " '@vansunder is up! Time to make the pancakes!',\n",
              " 'what a weird and busy day. and i sound like a frog    my old voice has returned.',\n",
              " 'http://twitpic.com/5esg1 - thank you guys!!  these are still unedited but yay!',\n",
              " \"@FoxCutter Keep in mind that you still have friends who care about you. Don't let worrying about a girlfriend keep you from being awesome\",\n",
              " '@serrot hold me',\n",
              " '@lesbianlife congrats! on getting the deal!',\n",
              " 'Chelsea won',\n",
              " 'my head is killing me from having it head butted by a little kid.',\n",
              " 'going to fail',\n",
              " 'layenn down,uughh dunt feel well',\n",
              " 'listening to good music is helping me to take away all of my confusions &amp; worries...',\n",
              " '@DNEZTHATSME aw, virtual hug! lol i was just about to come to your page and say aah no congratulations? but you did',\n",
              " \"@Flowersophy Yes, I think that you're right there. Certainly feel my vulnerability now. Going to bed w/in the hour! Yay!\",\n",
              " 'Finally at work. Dropped off Ck at camp, had to walk a bloody mile in mud! Already miss her.',\n",
              " '@ShaddixXx Vista doesnt let me play sims 2  thts why i changes back to XP',\n",
              " 'going out for a little bit. effin ear still hurts',\n",
              " '@game4v em t?t GPRS r?i  sao twit d? twit = sms dc ko ?',\n",
              " \"Can't sleep. Watching &quot;Terminator Saved My Life&quot; on Discovery Science with David Mitchell narrating. Some impressive amateur robotics\",\n",
              " \"@MikeOkeefe I'm not.\",\n",
              " '@markbaars Morning sir ! Thanks for the input !',\n",
              " 'Hehe so it would appear that I am as kinky and dirty and slutty as Master likes  I like that thought! Will be bringing up the topic',\n",
              " 'Wheeyyy! Picture is back! Its me listening to/ watching McFly in my last ever IT Lesson!!',\n",
              " 'Im pickin my hubby up from work, n i just heard sumthin moving in my car  *squeals*',\n",
              " 'hmmm.. miss my mommy',\n",
              " \"Twitter is acting up, won't let me Tweet\",\n",
              " 'I need a $10 giftcard',\n",
              " \"@seeking_balance Oh my! I'm sorry  I just meant to emphasize how difficult (but satisfying at the end!) the Grind is.. my bad haha\",\n",
              " 'is with my crazy jamaican aunt carol everyones laughn at us',\n",
              " '@leonkay tis indeed but is the curse of many',\n",
              " 'So i juss did my hair it its short  oh well but it ooks red instead  of brownish &lt;jojoe&gt;',\n",
              " 'Pouring down the rain  hope it stops soon. Going with my mom later to get some stuff for the beach in a couple of weeks. &lt;3',\n",
              " '@alexandramusic ah so ur back in the UK soon then, cant wait  album complete now?',\n",
              " 'Ugh I feel so depressed today....I hate the rain sometimes',\n",
              " \"Attemtping to buy Bruce tickets for the last concert at Giants Stadium...it's not going well\",\n",
              " 'Just said good night  to the best fran',\n",
              " 'Hi guys!! I love you so much!!!  Kisses from Paraguay !!',\n",
              " '@Twiiterella If anything, your replies are spam',\n",
              " 'still sick  cant shake this cold',\n",
              " 'yerppppp, still doing my homework. GAH',\n",
              " 'tanning out by the pool  cant wait till summerrrrrr',\n",
              " 'The Da Vinci Code was REALLY good.',\n",
              " \"@jolenta  UR very welcome, I'm actually just finding out what it means, believe it or not...thanks to @CalgaryRealtor\",\n",
              " 'So happy to be home',\n",
              " 'In indiana. Theres something about this place that i like. People are so nice but the accsents...the only downside to this place.',\n",
              " \"@DiegoTrashcan I'm on shuffle it's on clubland classix pmsl.\",\n",
              " '@MollieOfficial happy birthday for thursday mollie',\n",
              " '@michelyabe haha michely NEVER OISAHUHASHAUSHUAOH sorry  &lt;3',\n",
              " '@PumaSwede You go with my philosophy? Hard word pays off over time, but laziness pays off now',\n",
              " 'Played a very random game of tennis this evening',\n",
              " \"Its 4am and I'm getting ready. Today is launch day for the Pre!!\",\n",
              " \"@DirtyDizco Maaan if I was in pain I'd come. I wanna come  eat some 4 me lol *rolls eyes*\",\n",
              " '@judez_xo well thats not fair. Ive wanted them since I was twelve. haha.  Like back when you could only really get surface piercings lol',\n",
              " '@LITTLEWINDMILL Whose funeral?',\n",
              " 'Ask and you shall receive. Therefore I am getting Sims 3 tomorrow  - http://tweet.sg',\n",
              " \"I've burnt my collerbone and arms and face! aww!\",\n",
              " \"@mrming Can't believe you gave up working here to go and do that nonsense\",\n",
              " 'yay! done with adgi!',\n",
              " '@MiniBlueDragon Has come on a long way since then',\n",
              " 'dad made me rid the yard of dog doo today.  ick.',\n",
              " \"@WorshipPrincess- My chest,back and ass all red from Your crop and flogger,  I'm hurting\",\n",
              " '@BobbiBillard Congrats! I had to take AED training as part of my work certs.',\n",
              " \"I got to go!! But I don't WANT to go....\",\n",
              " \"@Whittmo u still in az?! We need to hang soon! I've texted ya to see how you've been but no reply  haha\",\n",
              " \"@brazilian_angel dang! But that might be for a while. Don't they have twitter  lol that way we could plan a meeting!\",\n",
              " 'OMG I hate finals, have to write an essay for tomorrow, biology  !',\n",
              " '@maddiequus Shes a no go for the show. Shes staying home to get a bunch of things done.',\n",
              " '@paycheee haha cankle it is.  doc said no fracture, just severe high ankle sprain.  im in an aircast and on crutches for 2-3 weeks.',\n",
              " 'ok I just got soaked by a car  waiting for the bus, im ill D:',\n",
              " 'Is going to bed so I will be all rested for yoga in the morning with elizabeth',\n",
              " 'Everyone over at @coldplay has started tweeting. Well, except Chris and Jonny anyway. Way to go, guys!',\n",
              " '@erinlouise @Miss604 being a fan is certainly not about being attractive. But, if you like the pink, to each their own  #canucks',\n",
              " 'Struggling with work',\n",
              " \"@KBLOVE901 me too. I hate food that my body didn't agree wit. So I'm running to the RR er 15min.  we sick!\",\n",
              " '@Kimber_Ann I call that a total *win* .....have fun out there',\n",
              " 'hopefully found a job',\n",
              " \"@DanielaESanto hi!  i'm a little bit depressed...maybe it's the weather or something...e nÃ\\x83Â£o sei porque escrevi em inglÃ\\x83Âªs =b como ta tu?\",\n",
              " \"I'm looking for a happy place amidst the chaos that will happen in... 1... 2... weeks.\",\n",
              " 'why does god hate me?',\n",
              " \"@JaxRaghibTrail aryt. if your done i'll definitely read it!\",\n",
              " '@_rachaelll im sorrrry  is it cause of us going to fightstarrr :| ?',\n",
              " 'Ã¢â\\x84¢â\\x80º love the background picture on this page &gt; @PV4m3C  lol',\n",
              " 'Back to high street, then more beachin tomorrow',\n",
              " \"@mymindisasafe WELL NO BUT HE'S GOING TO CANADA TOMORROW WHERE HE WILL GET IT AND OUR SCHOOL WILL BE SHUT DOWN\",\n",
              " '@paulloveslimes Lol, call me when you crack, those are the best phone calls',\n",
              " '@yoyonb87 I know you like rain and I too, there (in Latvia) is rainy too! Only problem- there is also average wind!',\n",
              " '@s_soliloquy Hey no probs!',\n",
              " '@robluketic I wish I could meet you!',\n",
              " '@pattieew pat! i lovve you soo much! remeber! forever&amp;alwas....',\n",
              " '@Qso Since when is playing the piano messy?  I always thought its the other way round...',\n",
              " \"Shopping with my wife...I'm still on my work clothes, haven't been home all day...Nicole I must really love you\",\n",
              " \"I've been asleep for more than twenty-four hours. Mission accomplished. Sleep maybe then wildwood with the usuals!!\",\n",
              " \"There's something on my mind...I can't sleep!\",\n",
              " 'Lady Gaga concert was the best concert in the universe! Holy shiiiit',\n",
              " \"it's cold. I'm sick. blah. Going to mades casa. The Liz and Richie later?\",\n",
              " '@thisistylerm same here.',\n",
              " 'good afternoon.  http://plurk.com/p/ri4xs',\n",
              " \"Can't wait to see Niki's haircut!\",\n",
              " 'tired but cant sleep boooo',\n",
              " '@mileycyrus &quot;Do not add days to your life, but life to your days.&quot;  Love Miley Baby  Ã¢â\\x84¢Â¥Ã¢â\\x84¢Â¥Ã¢â\\x84¢Â¥Ã¢â\\x84¢Â¥',\n",
              " 'Ahh I am late to bed  Up early again hopefully. Night',\n",
              " 'I NEED 20 VOTES TO GET TO 700 http://bit.ly/tbt66  VOTE VOTE VOTE',\n",
              " '5 hours to go, ZZzzZZzzZZzzzZZzzzZZzzz soo tired',\n",
              " 'missin ma baby...why hasnt he called me yet?! he never goes to sleep w/o sayin goodnite!!!',\n",
              " '@Buffyxx I was literally putting her in her seat and went to kiss her fat baby cheeks and she headbutted me',\n",
              " '@lyzzy363 ahaha we went to the beach and slept there overnight with my family&amp;relatives.haha and thankss for that. ima keep that in mind.',\n",
              " '@Winstonita lovely to see u too, did manage to stay awake till 4.15 for the fight.over in 4min20secs tho',\n",
              " \"@arctic_penguin mmmm i don't know nothing about the spider ahahah\",\n",
              " \"Alright so the Atlanta ppl are bailing on me...trying to decide what I'm gonna do cause this is weak\",\n",
              " 'home from work and my knees ache from standing!!  haha',\n",
              " 'I m trying to move out and get an apartment. Found the perfect one and its aready been taken',\n",
              " \"Two nights of drinking &amp; swimming consecutively.... I'm super exhausted!!! Good night\",\n",
              " \"@Pepsimo Hey you, don't make me go all blushy..I'll have to go spritz myself with instant boost skin tonic to cool down!  x\",\n",
              " '@CaseyDances Speaking about my lazy self, I actually stayed up till the deadline to do the hw. Time for sleep.',\n",
              " '@lazycuthulu  I nudged you',\n",
              " 'How hard is it to possibly have to give up a pet or two if you have to move?',\n",
              " \"@HayleyyFitch for his show the fifth with jordan, but I'm obsessed with metro station and he isn't coming to Chicago with metro station\",\n",
              " '@audreythebaby hi, thanks for the link',\n",
              " \"@starleigh2000 oh! i haven't heard of @wossy. thanks for filling me in\",\n",
              " \"I'm going now, night  x\",\n",
              " '@fleurfatale thank you',\n",
              " 'sitting at home 1/2 asleep watching tin tin and resting up  #fb',\n",
              " 'Just woke up to straighten hair...I slept at 2. FML.',\n",
              " '@Previnardo thanks for the indirect/direct reality checks..it levels me',\n",
              " \"@VATD i think failnet's infectious, it's struck me\",\n",
              " \"OMG, can't believe what Belarus just did...\",\n",
              " 'I hate when the morning is hot and full of humidity.',\n",
              " \"@markhoppus &lt;3 Can't wait for Blink to get to Toronto. Time to study for exams now though...\",\n",
              " 'aim buddy list just disappeared somehow. please send me your screen names!!',\n",
              " '@alexandramusic what time were you up?  xx',\n",
              " \"Another AHS student passes away. He was such a sweetie to me... when he wasn't making passes at me haha. Rest in peace Gabe Darrah\",\n",
              " '@TimothyDahl one lunch favorite: go to chevron at Main St Wailuku on Friday - they have the most delicious baked opakapaka',\n",
              " 'checkin out my social life with a snoozing kitty on each side of me',\n",
              " 'has a full night trading cars, taking back cans, deme to paint and wash millions of carts, running, hanging with the friends',\n",
              " 'parties today, poor john and his busy day',\n",
              " \"i am still up why??... watched tiVo'd version of mtv movie awards.. i was sad @tyrese4real wasnt in the T2 premiere.. looked GOOD tho!!\",\n",
              " 'Whats up with RKMB, going slow mo',\n",
              " '@MintCondition I see some child prodigies in the making.',\n",
              " \"@SarahEmilia that's great!! Tell him I said congratulations and tell your happy mother's day for me\",\n",
              " 'back from movies',\n",
              " \"@skandarkeynes hi skander! are u edmund pevensie of narnia, arent u?? you're awesome  i cant wait to watch the new story of narnia!\",\n",
              " '@KellyRuthxo I used the same dye I used on my hair but its gone darker than my hair does  I hate my roots too',\n",
              " \"@riotgirlxo nah  I'm moving in Aug. I have a summer job here\",\n",
              " \"Watching Bewitched cause im bored  aha but it's fun. I'm hoongry\",\n",
              " \"Oh man, I'm hungry again! Can't wait to get back and eat! Ooh, and kick some more butt on Mario Kart, hopefully...\",\n",
              " \"Old schoolin' it with @HeavyD &quot;Now That We Found Love&quot; ? http://twt.fm/60652 #twtfm Love you D!\",\n",
              " \"@Jonasbrothers can't wait to see you guys this summer and can't wait for the show tonight!!!\",\n",
              " '@WreckAB yeah  right! Where did we go? Bothers me.',\n",
              " '@Broooooke_ omg and you never would believe what we did. ahaha, i loved it. but it felt like a movie, but REAL!!',\n",
              " \"@twfeed got one feed working, @JayAndSilentRob, but this feed isn't. Trying different settings &amp; looked at forums - help!\",\n",
              " 'my booty is shrinking...',\n",
              " '@MattB88 i was!',\n",
              " 'Just got back from disneyland  Soooo much fun!',\n",
              " '@adixoxo haha I sent it like an hour ago!! Soo...tell me.',\n",
              " 'you know i got them pretty blue eyes and them thick thighs!',\n",
              " 'Thinks mayb Federer has a decent chance at winning his 1st French Open looking at the stats',\n",
              " 'i only have 2  followerss',\n",
              " 'is going too bed',\n",
              " \"I really don't think no cream today was a good idea\",\n",
              " '@rexroof well, i have been considering nashville for a while now...',\n",
              " '@rossbreadmore sounds like fun, no sunshine here  Are you following me on ali_bubblegate and ali_mosaic?',\n",
              " 'Sitting outside enjoying the SUN!!',\n",
              " 'so pretty much dead tired. but zumba was fun',\n",
              " 'Importing pictures from my digicam to my laptop.',\n",
              " 'Just realized that spicy wings and a dance tonight could be a bad mix!  Good thing Michele loves me!',\n",
              " \"feel bad, shouldn't of had pizza last night\",\n",
              " '@nick_carter Your weird. The end.',\n",
              " 'Dreading Wednesday. Imma miss @Marissa_Fierce  June better go by fast. Hmm. Tomorrow should be really amazing!!!',\n",
              " '@strandsofpearls Good!   I hate the big refresh button on Tweetie &amp; I like how Twitterfon tells you how many new tweets you have to read.',\n",
              " 'So 4/20 is on Monday......  And I dont work.....its soooo on in a major way  Wut yall up 2 on 4/20 twitter fam?',\n",
              " '@ltizz I do that every time I use the bathroom',\n",
              " '@cathybaron I was afraid of clowns as a kid',\n",
              " '@flossa i know, but i am still sad.',\n",
              " '@pockycrab happy birthday to your mom! haha',\n",
              " 'so shattered from the weekend. @unicornkid was amazing last night',\n",
              " \"it feels like it should be 5 in the morning! aw man i'm all out of dvds to watch\",\n",
              " 'Okay, my mind totally needs a full break from photography for now. Going out to dinner, and then karaoke to follow!',\n",
              " '@AlanMeaney THANKS ALAN FOR THE GETAWAY PLAN TICKET!!!!',\n",
              " '@dvirreznik but then again - now I want to answer your twit in FF to create a thread.',\n",
              " \"Also watched 'Analyze That' and disappointed  I was expecting it will be as good as Ananyze This.\",\n",
              " \"I'm really cold\",\n",
              " 'God it sucks. I feel like im back a the beginning with him when we have went so far.',\n",
              " 'm not sure i quite like de idea of moving to a village named tumkur..',\n",
              " 'My stupid #projectgargoyle wireless headphones dont work while charging ruining my solar shoulderpad plan',\n",
              " '@emvidaltx Buenos dias! Sounds like u r eatin d breakfast of champs? cereals, Wheaties?  Enjoy yur day!',\n",
              " 'SO tired, Mondays suck! And so does the rain when my bus stop is a 10 minute walk from my house :|',\n",
              " 'hanging with the fam damily in O town  and is having a blast! &lt;3 I really missed being here! Cant wait till school is over! SO excited!!!!',\n",
              " \"@lindsaygould  i always knew you'd get them right!\",\n",
              " \"Aaaand finally my laptop's FULLY CHARGED !!!! YAY\",\n",
              " \"I have to go into town, really don't want to at all\",\n",
              " \"it's sooo warm, have absolutely nothing to do the now, it's so killer!\",\n",
              " \"@OMGil i saw a docu about how approx every 15 days there is a suicide off the GG bridge. i'd feel proud too\",\n",
              " 'i have a sunburn all over my bodyyyyyy',\n",
              " \"I'm all packed up and headed out East--next stop, Russia!\",\n",
              " \"@spencerpratt stop trying to convince yourself that your accidental fame will go away. You're still a douche\",\n",
              " \"@jaikil You're totally correct in every aspect.\",\n",
              " \"@TwilightNewsMan Thanks for mentioning me on #followfriday! Tha's so sweet... I'll let you know how the Twilight event went...\",\n",
              " 'Justine left Masterchef.     I think one day I will be on Masterchef... and win.',\n",
              " ...]"
            ]
          },
          "metadata": {},
          "execution_count": 48
        }
      ]
    },
    {
      "cell_type": "code",
      "source": [
        "dataset[0][\"text\"]"
      ],
      "metadata": {
        "id": "UmrKS5XgiWtK",
        "outputId": "aefb0f11-3b9c-414c-9432-de79c74bfc14",
        "colab": {
          "base_uri": "https://localhost:8080/",
          "height": 35
        }
      },
      "execution_count": 49,
      "outputs": [
        {
          "output_type": "execute_result",
          "data": {
            "text/plain": [
              "'@fa6ami86 so happy that salman won.  btw the 14sec clip is truely a teaser'"
            ],
            "application/vnd.google.colaboratory.intrinsic+json": {
              "type": "string"
            }
          },
          "metadata": {},
          "execution_count": 49
        }
      ]
    },
    {
      "cell_type": "code",
      "source": [
        "tokenizer(dataset[0][\"text\"])\n"
      ],
      "metadata": {
        "id": "ioi2H8WFibyU",
        "outputId": "833f523c-d9a9-467b-bca9-12bc66edd206",
        "colab": {
          "base_uri": "https://localhost:8080/"
        }
      },
      "execution_count": 50,
      "outputs": [
        {
          "output_type": "execute_result",
          "data": {
            "text/plain": [
              "{'input_ids': [101, 1030, 6904, 2575, 10631, 20842, 2061, 3407, 2008, 28542, 2180, 1012, 18411, 2860, 1996, 2403, 3366, 2278, 12528, 2003, 2995, 2135, 1037, 27071, 102], 'token_type_ids': [0, 0, 0, 0, 0, 0, 0, 0, 0, 0, 0, 0, 0, 0, 0, 0, 0, 0, 0, 0, 0, 0, 0, 0, 0], 'attention_mask': [1, 1, 1, 1, 1, 1, 1, 1, 1, 1, 1, 1, 1, 1, 1, 1, 1, 1, 1, 1, 1, 1, 1, 1, 1]}"
            ]
          },
          "metadata": {},
          "execution_count": 50
        }
      ]
    },
    {
      "cell_type": "code",
      "source": [
        "def tokenization(example):\n",
        "    return tokenizer(example[\"text\"])\n",
        "\n",
        "dataset = dataset.map(tokenization, batched=True)"
      ],
      "metadata": {
        "id": "dqYsLzcJitt-",
        "outputId": "9e3a5c75-fe52-464f-a232-fdd2defd5a16",
        "colab": {
          "base_uri": "https://localhost:8080/",
          "height": 49,
          "referenced_widgets": [
            "297428444dc542ed940e62d53ec6975c",
            "03ab948e79654a9b9a3e38ebbfb7050b",
            "4561987517d64a80b705f7854075d593",
            "360234d6bb5e4078b1c411f66aea4c5e",
            "4d690d4ab10a4530ad84a0d7aac58e0a",
            "b049fa71f1a2450c98a9dd5a636f4ff1",
            "7ab4f57b1a91465286093b2eb2032d2a",
            "4ae72e2cd0764d0392bdaf56ee42f284",
            "5198aca7075e43b39966297108f6eeb2",
            "2f394a9e245f4787a07c09d4f685c5ee",
            "e0d3244e588645ceabd14cf0df35894b"
          ]
        }
      },
      "execution_count": 51,
      "outputs": [
        {
          "output_type": "display_data",
          "data": {
            "text/plain": [
              "Map:   0%|          | 0/119988 [00:00<?, ? examples/s]"
            ],
            "application/vnd.jupyter.widget-view+json": {
              "version_major": 2,
              "version_minor": 0,
              "model_id": "297428444dc542ed940e62d53ec6975c"
            }
          },
          "metadata": {}
        }
      ]
    },
    {
      "cell_type": "code",
      "source": [
        "dataset"
      ],
      "metadata": {
        "id": "DeNGwBDEkihq",
        "outputId": "c484906b-fdd0-42d3-9ec2-34e752ada2c0",
        "colab": {
          "base_uri": "https://localhost:8080/"
        }
      },
      "execution_count": 68,
      "outputs": [
        {
          "output_type": "execute_result",
          "data": {
            "text/plain": [
              "Dataset({\n",
              "    features: ['text', 'feeling', 'input_ids', 'token_type_ids', 'attention_mask'],\n",
              "    num_rows: 119988\n",
              "})"
            ]
          },
          "metadata": {},
          "execution_count": 68
        }
      ]
    },
    {
      "cell_type": "code",
      "source": [
        "dataset.set_format(type=\"torch\", columns=[\"input_ids\", \"token_type_ids\", \"attention_mask\", \"label\"])\n",
        "dataset.format['type']"
      ],
      "metadata": {
        "id": "4XChqgqei1JK",
        "outputId": "e167413c-7bd5-45d0-e95b-3c6beb74f116",
        "colab": {
          "base_uri": "https://localhost:8080/",
          "height": 304
        }
      },
      "execution_count": 54,
      "outputs": [
        {
          "output_type": "error",
          "ename": "ValueError",
          "evalue": "Columns ['label'] not in the dataset. Current columns in the dataset: ['text', 'feeling', 'input_ids', 'token_type_ids', 'attention_mask']",
          "traceback": [
            "\u001b[0;31m---------------------------------------------------------------------------\u001b[0m",
            "\u001b[0;31mValueError\u001b[0m                                Traceback (most recent call last)",
            "\u001b[0;32m<ipython-input-54-d417392b7cad>\u001b[0m in \u001b[0;36m<cell line: 1>\u001b[0;34m()\u001b[0m\n\u001b[0;32m----> 1\u001b[0;31m \u001b[0mdataset\u001b[0m\u001b[0;34m.\u001b[0m\u001b[0mset_format\u001b[0m\u001b[0;34m(\u001b[0m\u001b[0mtype\u001b[0m\u001b[0;34m=\u001b[0m\u001b[0;34m\"torch\"\u001b[0m\u001b[0;34m,\u001b[0m \u001b[0mcolumns\u001b[0m\u001b[0;34m=\u001b[0m\u001b[0;34m[\u001b[0m\u001b[0;34m\"input_ids\"\u001b[0m\u001b[0;34m,\u001b[0m \u001b[0;34m\"token_type_ids\"\u001b[0m\u001b[0;34m,\u001b[0m \u001b[0;34m\"attention_mask\"\u001b[0m\u001b[0;34m,\u001b[0m \u001b[0;34m\"label\"\u001b[0m\u001b[0;34m]\u001b[0m\u001b[0;34m)\u001b[0m\u001b[0;34m\u001b[0m\u001b[0;34m\u001b[0m\u001b[0m\n\u001b[0m\u001b[1;32m      2\u001b[0m \u001b[0mdataset\u001b[0m\u001b[0;34m.\u001b[0m\u001b[0mformat\u001b[0m\u001b[0;34m[\u001b[0m\u001b[0;34m'type'\u001b[0m\u001b[0;34m]\u001b[0m\u001b[0;34m\u001b[0m\u001b[0;34m\u001b[0m\u001b[0m\n",
            "\u001b[0;32m/usr/local/lib/python3.10/dist-packages/datasets/fingerprint.py\u001b[0m in \u001b[0;36mwrapper\u001b[0;34m(*args, **kwargs)\u001b[0m\n\u001b[1;32m    480\u001b[0m             \u001b[0;31m# Call actual function\u001b[0m\u001b[0;34m\u001b[0m\u001b[0;34m\u001b[0m\u001b[0m\n\u001b[1;32m    481\u001b[0m \u001b[0;34m\u001b[0m\u001b[0m\n\u001b[0;32m--> 482\u001b[0;31m             \u001b[0mout\u001b[0m \u001b[0;34m=\u001b[0m \u001b[0mfunc\u001b[0m\u001b[0;34m(\u001b[0m\u001b[0mdataset\u001b[0m\u001b[0;34m,\u001b[0m \u001b[0;34m*\u001b[0m\u001b[0margs\u001b[0m\u001b[0;34m,\u001b[0m \u001b[0;34m**\u001b[0m\u001b[0mkwargs\u001b[0m\u001b[0;34m)\u001b[0m\u001b[0;34m\u001b[0m\u001b[0;34m\u001b[0m\u001b[0m\n\u001b[0m\u001b[1;32m    483\u001b[0m \u001b[0;34m\u001b[0m\u001b[0m\n\u001b[1;32m    484\u001b[0m             \u001b[0;31m# Update fingerprint of in-place transforms + update in-place history of transforms\u001b[0m\u001b[0;34m\u001b[0m\u001b[0;34m\u001b[0m\u001b[0m\n",
            "\u001b[0;32m/usr/local/lib/python3.10/dist-packages/datasets/arrow_dataset.py\u001b[0m in \u001b[0;36mset_format\u001b[0;34m(self, type, columns, output_all_columns, **format_kwargs)\u001b[0m\n\u001b[1;32m   2589\u001b[0m             \u001b[0mmissing_columns\u001b[0m \u001b[0;34m=\u001b[0m \u001b[0mset\u001b[0m\u001b[0;34m(\u001b[0m\u001b[0mcolumns\u001b[0m\u001b[0;34m)\u001b[0m \u001b[0;34m-\u001b[0m \u001b[0mset\u001b[0m\u001b[0;34m(\u001b[0m\u001b[0mself\u001b[0m\u001b[0;34m.\u001b[0m\u001b[0m_data\u001b[0m\u001b[0;34m.\u001b[0m\u001b[0mcolumn_names\u001b[0m\u001b[0;34m)\u001b[0m\u001b[0;34m\u001b[0m\u001b[0;34m\u001b[0m\u001b[0m\n\u001b[1;32m   2590\u001b[0m             \u001b[0;32mif\u001b[0m \u001b[0mmissing_columns\u001b[0m\u001b[0;34m:\u001b[0m\u001b[0;34m\u001b[0m\u001b[0;34m\u001b[0m\u001b[0m\n\u001b[0;32m-> 2591\u001b[0;31m                 raise ValueError(\n\u001b[0m\u001b[1;32m   2592\u001b[0m                     \u001b[0;34mf\"Columns {list(missing_columns)} not in the dataset. Current columns in the dataset: {self._data.column_names}\"\u001b[0m\u001b[0;34m\u001b[0m\u001b[0;34m\u001b[0m\u001b[0m\n\u001b[1;32m   2593\u001b[0m                 )\n",
            "\u001b[0;31mValueError\u001b[0m: Columns ['label'] not in the dataset. Current columns in the dataset: ['text', 'feeling', 'input_ids', 'token_type_ids', 'attention_mask']"
          ]
        }
      ]
    },
    {
      "cell_type": "code",
      "source": [
        "from transformers import DataCollatorWithPadding\n",
        "\n",
        "#data_collator = DataCollatorWithPadding(tokenizer=tokenizer, return_tensors=\"tf\")\n",
        "tf_dataset = dataset.to_tf_dataset(\n",
        "    columns=[\"input_ids\", \"token_type_ids\", \"attention_mask\"],\n",
        "    label_cols=[\"feeling\"],\n",
        "    batch_size=2,\n",
        "    collate_fn=data_collator,\n",
        "    shuffle=True\n",
        ")"
      ],
      "metadata": {
        "id": "n1z-j50ijDmK"
      },
      "execution_count": 57,
      "outputs": []
    },
    {
      "cell_type": "code",
      "source": [
        "tf_dataset"
      ],
      "metadata": {
        "id": "WRmalQfujQ07",
        "outputId": "6aa52597-3422-447d-dd21-7836862c10ea",
        "colab": {
          "base_uri": "https://localhost:8080/"
        }
      },
      "execution_count": 58,
      "outputs": [
        {
          "output_type": "execute_result",
          "data": {
            "text/plain": [
              "<_PrefetchDataset element_spec=({'input_ids': TensorSpec(shape=(None, None), dtype=tf.int64, name=None), 'token_type_ids': TensorSpec(shape=(None, None), dtype=tf.int64, name=None), 'attention_mask': TensorSpec(shape=(None, None), dtype=tf.int64, name=None)}, TensorSpec(shape=(None,), dtype=tf.int64, name=None))>"
            ]
          },
          "metadata": {},
          "execution_count": 58
        }
      ]
    },
    {
      "cell_type": "code",
      "source": [
        "from datasets import list_metrics\n",
        "metrics_list = list_metrics()\n",
        "len(metrics_list)"
      ],
      "metadata": {
        "id": "iSfS9M7sjYjE",
        "outputId": "99067255-a23d-4ea8-db6d-24c383b08386",
        "colab": {
          "base_uri": "https://localhost:8080/"
        }
      },
      "execution_count": 62,
      "outputs": [
        {
          "output_type": "execute_result",
          "data": {
            "text/plain": [
              "250"
            ]
          },
          "metadata": {},
          "execution_count": 62
        }
      ]
    },
    {
      "cell_type": "code",
      "source": [
        "from datasets import load_metric\n",
        "metric = load_metric('accuracy')"
      ],
      "metadata": {
        "id": "zHXCZSgtjtuh",
        "outputId": "2b3581ca-c930-4a61-89c2-3612fd7b858d",
        "colab": {
          "base_uri": "https://localhost:8080/",
          "height": 173,
          "referenced_widgets": [
            "cae6bcc9dca94df0873cfb598ff18205",
            "ade77a72d79548e3ae46911c9580155a",
            "3cefce8cd3a74abf8189bba84452c12a",
            "a7969b9c289e49c48646eda762f82213",
            "5ee82a4d6c5a475b8f65ed03638e2319",
            "81aebe5e49fb4cb1b9c9b1fc94e9fc8c",
            "10893961191c40f19f0df0e32cbe1de2",
            "ce9aff088f01421f86743ad1f42557cb",
            "9b1323db6c8842b9ae465e3c3078b466",
            "dc081a31c84a49d0ab75ade4d5391e90",
            "bcc12d65a8c04e1c918a1c7cc7eee61a"
          ]
        }
      },
      "execution_count": 63,
      "outputs": [
        {
          "output_type": "stream",
          "name": "stderr",
          "text": [
            "<ipython-input-63-bbd4ecc85a80>:2: FutureWarning: load_metric is deprecated and will be removed in the next major version of datasets. Use 'evaluate.load' instead, from the new library 🤗 Evaluate: https://huggingface.co/docs/evaluate\n",
            "  metric = load_metric('accuracy')\n",
            "/usr/local/lib/python3.10/dist-packages/datasets/load.py:759: FutureWarning: The repository for accuracy contains custom code which must be executed to correctly load the metric. You can inspect the repository content at https://raw.githubusercontent.com/huggingface/datasets/2.19.1/metrics/accuracy/accuracy.py\n",
            "You can avoid this message in future by passing the argument `trust_remote_code=True`.\n",
            "Passing `trust_remote_code=True` will be mandatory to load this metric from the next major release of `datasets`.\n",
            "  warnings.warn(\n"
          ]
        },
        {
          "output_type": "display_data",
          "data": {
            "text/plain": [
              "Downloading builder script:   0%|          | 0.00/1.65k [00:00<?, ?B/s]"
            ],
            "application/vnd.jupyter.widget-view+json": {
              "version_major": 2,
              "version_minor": 0,
              "model_id": "cae6bcc9dca94df0873cfb598ff18205"
            }
          },
          "metadata": {}
        }
      ]
    },
    {
      "cell_type": "code",
      "source": [
        "model_predictions = model(dataset[0][\"input_ids\"])\n",
        "final_score = metric.compute(predictions=model_predictions, references=gold_references)"
      ],
      "metadata": {
        "id": "LJMxMfookAhD",
        "outputId": "6bb7fa6d-aa68-4392-a917-959d1c16d5fa",
        "colab": {
          "base_uri": "https://localhost:8080/",
          "height": 304
        }
      },
      "execution_count": 72,
      "outputs": [
        {
          "output_type": "error",
          "ename": "IndexError",
          "evalue": "too many indices for tensor of dimension 1",
          "traceback": [
            "\u001b[0;31m---------------------------------------------------------------------------\u001b[0m",
            "\u001b[0;31mIndexError\u001b[0m                                Traceback (most recent call last)",
            "\u001b[0;32m<ipython-input-72-11d09ab51761>\u001b[0m in \u001b[0;36m<cell line: 1>\u001b[0;34m()\u001b[0m\n\u001b[0;32m----> 1\u001b[0;31m \u001b[0mmodel_predictions\u001b[0m \u001b[0;34m=\u001b[0m \u001b[0mmodel\u001b[0m\u001b[0;34m(\u001b[0m\u001b[0mdataset\u001b[0m\u001b[0;34m[\u001b[0m\u001b[0;36m0\u001b[0m\u001b[0;34m]\u001b[0m\u001b[0;34m[\u001b[0m\u001b[0;34m\"input_ids\"\u001b[0m\u001b[0;34m]\u001b[0m\u001b[0;34m)\u001b[0m\u001b[0;34m\u001b[0m\u001b[0;34m\u001b[0m\u001b[0m\n\u001b[0m\u001b[1;32m      2\u001b[0m \u001b[0mfinal_score\u001b[0m \u001b[0;34m=\u001b[0m \u001b[0mmetric\u001b[0m\u001b[0;34m.\u001b[0m\u001b[0mcompute\u001b[0m\u001b[0;34m(\u001b[0m\u001b[0mpredictions\u001b[0m\u001b[0;34m=\u001b[0m\u001b[0mmodel_predictions\u001b[0m\u001b[0;34m,\u001b[0m \u001b[0mreferences\u001b[0m\u001b[0;34m=\u001b[0m\u001b[0mgold_references\u001b[0m\u001b[0;34m)\u001b[0m\u001b[0;34m\u001b[0m\u001b[0;34m\u001b[0m\u001b[0m\n",
            "\u001b[0;32m/usr/local/lib/python3.10/dist-packages/torch/nn/modules/module.py\u001b[0m in \u001b[0;36m_wrapped_call_impl\u001b[0;34m(self, *args, **kwargs)\u001b[0m\n\u001b[1;32m   1530\u001b[0m             \u001b[0;32mreturn\u001b[0m \u001b[0mself\u001b[0m\u001b[0;34m.\u001b[0m\u001b[0m_compiled_call_impl\u001b[0m\u001b[0;34m(\u001b[0m\u001b[0;34m*\u001b[0m\u001b[0margs\u001b[0m\u001b[0;34m,\u001b[0m \u001b[0;34m**\u001b[0m\u001b[0mkwargs\u001b[0m\u001b[0;34m)\u001b[0m  \u001b[0;31m# type: ignore[misc]\u001b[0m\u001b[0;34m\u001b[0m\u001b[0;34m\u001b[0m\u001b[0m\n\u001b[1;32m   1531\u001b[0m         \u001b[0;32melse\u001b[0m\u001b[0;34m:\u001b[0m\u001b[0;34m\u001b[0m\u001b[0;34m\u001b[0m\u001b[0m\n\u001b[0;32m-> 1532\u001b[0;31m             \u001b[0;32mreturn\u001b[0m \u001b[0mself\u001b[0m\u001b[0;34m.\u001b[0m\u001b[0m_call_impl\u001b[0m\u001b[0;34m(\u001b[0m\u001b[0;34m*\u001b[0m\u001b[0margs\u001b[0m\u001b[0;34m,\u001b[0m \u001b[0;34m**\u001b[0m\u001b[0mkwargs\u001b[0m\u001b[0;34m)\u001b[0m\u001b[0;34m\u001b[0m\u001b[0;34m\u001b[0m\u001b[0m\n\u001b[0m\u001b[1;32m   1533\u001b[0m \u001b[0;34m\u001b[0m\u001b[0m\n\u001b[1;32m   1534\u001b[0m     \u001b[0;32mdef\u001b[0m \u001b[0m_call_impl\u001b[0m\u001b[0;34m(\u001b[0m\u001b[0mself\u001b[0m\u001b[0;34m,\u001b[0m \u001b[0;34m*\u001b[0m\u001b[0margs\u001b[0m\u001b[0;34m,\u001b[0m \u001b[0;34m**\u001b[0m\u001b[0mkwargs\u001b[0m\u001b[0;34m)\u001b[0m\u001b[0;34m:\u001b[0m\u001b[0;34m\u001b[0m\u001b[0;34m\u001b[0m\u001b[0m\n",
            "\u001b[0;32m/usr/local/lib/python3.10/dist-packages/torch/nn/modules/module.py\u001b[0m in \u001b[0;36m_call_impl\u001b[0;34m(self, *args, **kwargs)\u001b[0m\n\u001b[1;32m   1539\u001b[0m                 \u001b[0;32mor\u001b[0m \u001b[0m_global_backward_pre_hooks\u001b[0m \u001b[0;32mor\u001b[0m \u001b[0m_global_backward_hooks\u001b[0m\u001b[0;34m\u001b[0m\u001b[0;34m\u001b[0m\u001b[0m\n\u001b[1;32m   1540\u001b[0m                 or _global_forward_hooks or _global_forward_pre_hooks):\n\u001b[0;32m-> 1541\u001b[0;31m             \u001b[0;32mreturn\u001b[0m \u001b[0mforward_call\u001b[0m\u001b[0;34m(\u001b[0m\u001b[0;34m*\u001b[0m\u001b[0margs\u001b[0m\u001b[0;34m,\u001b[0m \u001b[0;34m**\u001b[0m\u001b[0mkwargs\u001b[0m\u001b[0;34m)\u001b[0m\u001b[0;34m\u001b[0m\u001b[0;34m\u001b[0m\u001b[0m\n\u001b[0m\u001b[1;32m   1542\u001b[0m \u001b[0;34m\u001b[0m\u001b[0m\n\u001b[1;32m   1543\u001b[0m         \u001b[0;32mtry\u001b[0m\u001b[0;34m:\u001b[0m\u001b[0;34m\u001b[0m\u001b[0;34m\u001b[0m\u001b[0m\n",
            "\u001b[0;32m/usr/local/lib/python3.10/dist-packages/transformers/models/bert/modeling_bert.py\u001b[0m in \u001b[0;36mforward\u001b[0;34m(self, input_ids, attention_mask, token_type_ids, position_ids, head_mask, inputs_embeds, labels, output_attentions, output_hidden_states, return_dict)\u001b[0m\n\u001b[1;32m   1689\u001b[0m         \u001b[0mreturn_dict\u001b[0m \u001b[0;34m=\u001b[0m \u001b[0mreturn_dict\u001b[0m \u001b[0;32mif\u001b[0m \u001b[0mreturn_dict\u001b[0m \u001b[0;32mis\u001b[0m \u001b[0;32mnot\u001b[0m \u001b[0;32mNone\u001b[0m \u001b[0;32melse\u001b[0m \u001b[0mself\u001b[0m\u001b[0;34m.\u001b[0m\u001b[0mconfig\u001b[0m\u001b[0;34m.\u001b[0m\u001b[0muse_return_dict\u001b[0m\u001b[0;34m\u001b[0m\u001b[0;34m\u001b[0m\u001b[0m\n\u001b[1;32m   1690\u001b[0m \u001b[0;34m\u001b[0m\u001b[0m\n\u001b[0;32m-> 1691\u001b[0;31m         outputs = self.bert(\n\u001b[0m\u001b[1;32m   1692\u001b[0m             \u001b[0minput_ids\u001b[0m\u001b[0;34m,\u001b[0m\u001b[0;34m\u001b[0m\u001b[0;34m\u001b[0m\u001b[0m\n\u001b[1;32m   1693\u001b[0m             \u001b[0mattention_mask\u001b[0m\u001b[0;34m=\u001b[0m\u001b[0mattention_mask\u001b[0m\u001b[0;34m,\u001b[0m\u001b[0;34m\u001b[0m\u001b[0;34m\u001b[0m\u001b[0m\n",
            "\u001b[0;32m/usr/local/lib/python3.10/dist-packages/torch/nn/modules/module.py\u001b[0m in \u001b[0;36m_wrapped_call_impl\u001b[0;34m(self, *args, **kwargs)\u001b[0m\n\u001b[1;32m   1530\u001b[0m             \u001b[0;32mreturn\u001b[0m \u001b[0mself\u001b[0m\u001b[0;34m.\u001b[0m\u001b[0m_compiled_call_impl\u001b[0m\u001b[0;34m(\u001b[0m\u001b[0;34m*\u001b[0m\u001b[0margs\u001b[0m\u001b[0;34m,\u001b[0m \u001b[0;34m**\u001b[0m\u001b[0mkwargs\u001b[0m\u001b[0;34m)\u001b[0m  \u001b[0;31m# type: ignore[misc]\u001b[0m\u001b[0;34m\u001b[0m\u001b[0;34m\u001b[0m\u001b[0m\n\u001b[1;32m   1531\u001b[0m         \u001b[0;32melse\u001b[0m\u001b[0;34m:\u001b[0m\u001b[0;34m\u001b[0m\u001b[0;34m\u001b[0m\u001b[0m\n\u001b[0;32m-> 1532\u001b[0;31m             \u001b[0;32mreturn\u001b[0m \u001b[0mself\u001b[0m\u001b[0;34m.\u001b[0m\u001b[0m_call_impl\u001b[0m\u001b[0;34m(\u001b[0m\u001b[0;34m*\u001b[0m\u001b[0margs\u001b[0m\u001b[0;34m,\u001b[0m \u001b[0;34m**\u001b[0m\u001b[0mkwargs\u001b[0m\u001b[0;34m)\u001b[0m\u001b[0;34m\u001b[0m\u001b[0;34m\u001b[0m\u001b[0m\n\u001b[0m\u001b[1;32m   1533\u001b[0m \u001b[0;34m\u001b[0m\u001b[0m\n\u001b[1;32m   1534\u001b[0m     \u001b[0;32mdef\u001b[0m \u001b[0m_call_impl\u001b[0m\u001b[0;34m(\u001b[0m\u001b[0mself\u001b[0m\u001b[0;34m,\u001b[0m \u001b[0;34m*\u001b[0m\u001b[0margs\u001b[0m\u001b[0;34m,\u001b[0m \u001b[0;34m**\u001b[0m\u001b[0mkwargs\u001b[0m\u001b[0;34m)\u001b[0m\u001b[0;34m:\u001b[0m\u001b[0;34m\u001b[0m\u001b[0;34m\u001b[0m\u001b[0m\n",
            "\u001b[0;32m/usr/local/lib/python3.10/dist-packages/torch/nn/modules/module.py\u001b[0m in \u001b[0;36m_call_impl\u001b[0;34m(self, *args, **kwargs)\u001b[0m\n\u001b[1;32m   1539\u001b[0m                 \u001b[0;32mor\u001b[0m \u001b[0m_global_backward_pre_hooks\u001b[0m \u001b[0;32mor\u001b[0m \u001b[0m_global_backward_hooks\u001b[0m\u001b[0;34m\u001b[0m\u001b[0;34m\u001b[0m\u001b[0m\n\u001b[1;32m   1540\u001b[0m                 or _global_forward_hooks or _global_forward_pre_hooks):\n\u001b[0;32m-> 1541\u001b[0;31m             \u001b[0;32mreturn\u001b[0m \u001b[0mforward_call\u001b[0m\u001b[0;34m(\u001b[0m\u001b[0;34m*\u001b[0m\u001b[0margs\u001b[0m\u001b[0;34m,\u001b[0m \u001b[0;34m**\u001b[0m\u001b[0mkwargs\u001b[0m\u001b[0;34m)\u001b[0m\u001b[0;34m\u001b[0m\u001b[0;34m\u001b[0m\u001b[0m\n\u001b[0m\u001b[1;32m   1542\u001b[0m \u001b[0;34m\u001b[0m\u001b[0m\n\u001b[1;32m   1543\u001b[0m         \u001b[0;32mtry\u001b[0m\u001b[0;34m:\u001b[0m\u001b[0;34m\u001b[0m\u001b[0;34m\u001b[0m\u001b[0m\n",
            "\u001b[0;32m/usr/local/lib/python3.10/dist-packages/transformers/models/bert/modeling_bert.py\u001b[0m in \u001b[0;36mforward\u001b[0;34m(self, input_ids, attention_mask, token_type_ids, position_ids, head_mask, inputs_embeds, encoder_hidden_states, encoder_attention_mask, past_key_values, use_cache, output_attentions, output_hidden_states, return_dict)\u001b[0m\n\u001b[1;32m   1050\u001b[0m             \u001b[0;32mraise\u001b[0m \u001b[0mValueError\u001b[0m\u001b[0;34m(\u001b[0m\u001b[0;34m\"You cannot specify both input_ids and inputs_embeds at the same time\"\u001b[0m\u001b[0;34m)\u001b[0m\u001b[0;34m\u001b[0m\u001b[0;34m\u001b[0m\u001b[0m\n\u001b[1;32m   1051\u001b[0m         \u001b[0;32melif\u001b[0m \u001b[0minput_ids\u001b[0m \u001b[0;32mis\u001b[0m \u001b[0;32mnot\u001b[0m \u001b[0;32mNone\u001b[0m\u001b[0;34m:\u001b[0m\u001b[0;34m\u001b[0m\u001b[0;34m\u001b[0m\u001b[0m\n\u001b[0;32m-> 1052\u001b[0;31m             \u001b[0mself\u001b[0m\u001b[0;34m.\u001b[0m\u001b[0mwarn_if_padding_and_no_attention_mask\u001b[0m\u001b[0;34m(\u001b[0m\u001b[0minput_ids\u001b[0m\u001b[0;34m,\u001b[0m \u001b[0mattention_mask\u001b[0m\u001b[0;34m)\u001b[0m\u001b[0;34m\u001b[0m\u001b[0;34m\u001b[0m\u001b[0m\n\u001b[0m\u001b[1;32m   1053\u001b[0m             \u001b[0minput_shape\u001b[0m \u001b[0;34m=\u001b[0m \u001b[0minput_ids\u001b[0m\u001b[0;34m.\u001b[0m\u001b[0msize\u001b[0m\u001b[0;34m(\u001b[0m\u001b[0;34m)\u001b[0m\u001b[0;34m\u001b[0m\u001b[0;34m\u001b[0m\u001b[0m\n\u001b[1;32m   1054\u001b[0m         \u001b[0;32melif\u001b[0m \u001b[0minputs_embeds\u001b[0m \u001b[0;32mis\u001b[0m \u001b[0;32mnot\u001b[0m \u001b[0;32mNone\u001b[0m\u001b[0;34m:\u001b[0m\u001b[0;34m\u001b[0m\u001b[0;34m\u001b[0m\u001b[0m\n",
            "\u001b[0;32m/usr/local/lib/python3.10/dist-packages/transformers/modeling_utils.py\u001b[0m in \u001b[0;36mwarn_if_padding_and_no_attention_mask\u001b[0;34m(self, input_ids, attention_mask)\u001b[0m\n\u001b[1;32m   4455\u001b[0m \u001b[0;34m\u001b[0m\u001b[0m\n\u001b[1;32m   4456\u001b[0m         \u001b[0;31m# Check only the first and last input IDs to reduce overhead.\u001b[0m\u001b[0;34m\u001b[0m\u001b[0;34m\u001b[0m\u001b[0m\n\u001b[0;32m-> 4457\u001b[0;31m         \u001b[0;32mif\u001b[0m \u001b[0mself\u001b[0m\u001b[0;34m.\u001b[0m\u001b[0mconfig\u001b[0m\u001b[0;34m.\u001b[0m\u001b[0mpad_token_id\u001b[0m \u001b[0;32min\u001b[0m \u001b[0minput_ids\u001b[0m\u001b[0;34m[\u001b[0m\u001b[0;34m:\u001b[0m\u001b[0;34m,\u001b[0m \u001b[0;34m[\u001b[0m\u001b[0;34m-\u001b[0m\u001b[0;36m1\u001b[0m\u001b[0;34m,\u001b[0m \u001b[0;36m0\u001b[0m\u001b[0;34m]\u001b[0m\u001b[0;34m]\u001b[0m\u001b[0;34m:\u001b[0m\u001b[0;34m\u001b[0m\u001b[0;34m\u001b[0m\u001b[0m\n\u001b[0m\u001b[1;32m   4458\u001b[0m             warn_string = (\n\u001b[1;32m   4459\u001b[0m                 \u001b[0;34m\"We strongly recommend passing in an `attention_mask` since your input_ids may be padded. See \"\u001b[0m\u001b[0;34m\u001b[0m\u001b[0;34m\u001b[0m\u001b[0m\n",
            "\u001b[0;31mIndexError\u001b[0m: too many indices for tensor of dimension 1"
          ]
        }
      ]
    },
    {
      "cell_type": "code",
      "source": [
        "dataset[0][\"input_ids\"]"
      ],
      "metadata": {
        "id": "FtEe6zIvkStO",
        "outputId": "5b0cfa9f-8670-48ba-91e4-747489b11548",
        "colab": {
          "base_uri": "https://localhost:8080/"
        }
      },
      "execution_count": 74,
      "outputs": [
        {
          "output_type": "execute_result",
          "data": {
            "text/plain": [
              "tensor([  101,  1030,  6904,  2575, 10631, 20842,  2061,  3407,  2008, 28542,\n",
              "         2180,  1012, 18411,  2860,  1996,  2403,  3366,  2278, 12528,  2003,\n",
              "         2995,  2135,  1037, 27071,   102])"
            ]
          },
          "metadata": {},
          "execution_count": 74
        }
      ]
    },
    {
      "cell_type": "code",
      "source": [],
      "metadata": {
        "id": "JXnsGD-elrce"
      },
      "execution_count": null,
      "outputs": []
    }
  ],
  "metadata": {
    "canvas": {
      "colorPalette": [
        "inherit",
        "inherit",
        "inherit",
        "inherit",
        "inherit",
        "inherit",
        "inherit",
        "inherit",
        "inherit",
        "inherit"
      ],
      "parameters": [],
      "version": "1.0"
    },
    "kernelspec": {
      "display_name": "Python 3 (ipykernel)",
      "language": "python",
      "name": "python3"
    },
    "language_info": {
      "codemirror_mode": {
        "name": "ipython",
        "version": 3
      },
      "file_extension": ".py",
      "mimetype": "text/x-python",
      "name": "python",
      "nbconvert_exporter": "python",
      "pygments_lexer": "ipython3",
      "version": "3.10.12"
    },
    "colab": {
      "provenance": [],
      "toc_visible": true
    },
    "widgets": {
      "application/vnd.jupyter.widget-state+json": {
        "297428444dc542ed940e62d53ec6975c": {
          "model_module": "@jupyter-widgets/controls",
          "model_name": "HBoxModel",
          "model_module_version": "1.5.0",
          "state": {
            "_dom_classes": [],
            "_model_module": "@jupyter-widgets/controls",
            "_model_module_version": "1.5.0",
            "_model_name": "HBoxModel",
            "_view_count": null,
            "_view_module": "@jupyter-widgets/controls",
            "_view_module_version": "1.5.0",
            "_view_name": "HBoxView",
            "box_style": "",
            "children": [
              "IPY_MODEL_03ab948e79654a9b9a3e38ebbfb7050b",
              "IPY_MODEL_4561987517d64a80b705f7854075d593",
              "IPY_MODEL_360234d6bb5e4078b1c411f66aea4c5e"
            ],
            "layout": "IPY_MODEL_4d690d4ab10a4530ad84a0d7aac58e0a"
          }
        },
        "03ab948e79654a9b9a3e38ebbfb7050b": {
          "model_module": "@jupyter-widgets/controls",
          "model_name": "HTMLModel",
          "model_module_version": "1.5.0",
          "state": {
            "_dom_classes": [],
            "_model_module": "@jupyter-widgets/controls",
            "_model_module_version": "1.5.0",
            "_model_name": "HTMLModel",
            "_view_count": null,
            "_view_module": "@jupyter-widgets/controls",
            "_view_module_version": "1.5.0",
            "_view_name": "HTMLView",
            "description": "",
            "description_tooltip": null,
            "layout": "IPY_MODEL_b049fa71f1a2450c98a9dd5a636f4ff1",
            "placeholder": "​",
            "style": "IPY_MODEL_7ab4f57b1a91465286093b2eb2032d2a",
            "value": "Map: 100%"
          }
        },
        "4561987517d64a80b705f7854075d593": {
          "model_module": "@jupyter-widgets/controls",
          "model_name": "FloatProgressModel",
          "model_module_version": "1.5.0",
          "state": {
            "_dom_classes": [],
            "_model_module": "@jupyter-widgets/controls",
            "_model_module_version": "1.5.0",
            "_model_name": "FloatProgressModel",
            "_view_count": null,
            "_view_module": "@jupyter-widgets/controls",
            "_view_module_version": "1.5.0",
            "_view_name": "ProgressView",
            "bar_style": "success",
            "description": "",
            "description_tooltip": null,
            "layout": "IPY_MODEL_4ae72e2cd0764d0392bdaf56ee42f284",
            "max": 119988,
            "min": 0,
            "orientation": "horizontal",
            "style": "IPY_MODEL_5198aca7075e43b39966297108f6eeb2",
            "value": 119988
          }
        },
        "360234d6bb5e4078b1c411f66aea4c5e": {
          "model_module": "@jupyter-widgets/controls",
          "model_name": "HTMLModel",
          "model_module_version": "1.5.0",
          "state": {
            "_dom_classes": [],
            "_model_module": "@jupyter-widgets/controls",
            "_model_module_version": "1.5.0",
            "_model_name": "HTMLModel",
            "_view_count": null,
            "_view_module": "@jupyter-widgets/controls",
            "_view_module_version": "1.5.0",
            "_view_name": "HTMLView",
            "description": "",
            "description_tooltip": null,
            "layout": "IPY_MODEL_2f394a9e245f4787a07c09d4f685c5ee",
            "placeholder": "​",
            "style": "IPY_MODEL_e0d3244e588645ceabd14cf0df35894b",
            "value": " 119988/119988 [00:21&lt;00:00, 9275.78 examples/s]"
          }
        },
        "4d690d4ab10a4530ad84a0d7aac58e0a": {
          "model_module": "@jupyter-widgets/base",
          "model_name": "LayoutModel",
          "model_module_version": "1.2.0",
          "state": {
            "_model_module": "@jupyter-widgets/base",
            "_model_module_version": "1.2.0",
            "_model_name": "LayoutModel",
            "_view_count": null,
            "_view_module": "@jupyter-widgets/base",
            "_view_module_version": "1.2.0",
            "_view_name": "LayoutView",
            "align_content": null,
            "align_items": null,
            "align_self": null,
            "border": null,
            "bottom": null,
            "display": null,
            "flex": null,
            "flex_flow": null,
            "grid_area": null,
            "grid_auto_columns": null,
            "grid_auto_flow": null,
            "grid_auto_rows": null,
            "grid_column": null,
            "grid_gap": null,
            "grid_row": null,
            "grid_template_areas": null,
            "grid_template_columns": null,
            "grid_template_rows": null,
            "height": null,
            "justify_content": null,
            "justify_items": null,
            "left": null,
            "margin": null,
            "max_height": null,
            "max_width": null,
            "min_height": null,
            "min_width": null,
            "object_fit": null,
            "object_position": null,
            "order": null,
            "overflow": null,
            "overflow_x": null,
            "overflow_y": null,
            "padding": null,
            "right": null,
            "top": null,
            "visibility": null,
            "width": null
          }
        },
        "b049fa71f1a2450c98a9dd5a636f4ff1": {
          "model_module": "@jupyter-widgets/base",
          "model_name": "LayoutModel",
          "model_module_version": "1.2.0",
          "state": {
            "_model_module": "@jupyter-widgets/base",
            "_model_module_version": "1.2.0",
            "_model_name": "LayoutModel",
            "_view_count": null,
            "_view_module": "@jupyter-widgets/base",
            "_view_module_version": "1.2.0",
            "_view_name": "LayoutView",
            "align_content": null,
            "align_items": null,
            "align_self": null,
            "border": null,
            "bottom": null,
            "display": null,
            "flex": null,
            "flex_flow": null,
            "grid_area": null,
            "grid_auto_columns": null,
            "grid_auto_flow": null,
            "grid_auto_rows": null,
            "grid_column": null,
            "grid_gap": null,
            "grid_row": null,
            "grid_template_areas": null,
            "grid_template_columns": null,
            "grid_template_rows": null,
            "height": null,
            "justify_content": null,
            "justify_items": null,
            "left": null,
            "margin": null,
            "max_height": null,
            "max_width": null,
            "min_height": null,
            "min_width": null,
            "object_fit": null,
            "object_position": null,
            "order": null,
            "overflow": null,
            "overflow_x": null,
            "overflow_y": null,
            "padding": null,
            "right": null,
            "top": null,
            "visibility": null,
            "width": null
          }
        },
        "7ab4f57b1a91465286093b2eb2032d2a": {
          "model_module": "@jupyter-widgets/controls",
          "model_name": "DescriptionStyleModel",
          "model_module_version": "1.5.0",
          "state": {
            "_model_module": "@jupyter-widgets/controls",
            "_model_module_version": "1.5.0",
            "_model_name": "DescriptionStyleModel",
            "_view_count": null,
            "_view_module": "@jupyter-widgets/base",
            "_view_module_version": "1.2.0",
            "_view_name": "StyleView",
            "description_width": ""
          }
        },
        "4ae72e2cd0764d0392bdaf56ee42f284": {
          "model_module": "@jupyter-widgets/base",
          "model_name": "LayoutModel",
          "model_module_version": "1.2.0",
          "state": {
            "_model_module": "@jupyter-widgets/base",
            "_model_module_version": "1.2.0",
            "_model_name": "LayoutModel",
            "_view_count": null,
            "_view_module": "@jupyter-widgets/base",
            "_view_module_version": "1.2.0",
            "_view_name": "LayoutView",
            "align_content": null,
            "align_items": null,
            "align_self": null,
            "border": null,
            "bottom": null,
            "display": null,
            "flex": null,
            "flex_flow": null,
            "grid_area": null,
            "grid_auto_columns": null,
            "grid_auto_flow": null,
            "grid_auto_rows": null,
            "grid_column": null,
            "grid_gap": null,
            "grid_row": null,
            "grid_template_areas": null,
            "grid_template_columns": null,
            "grid_template_rows": null,
            "height": null,
            "justify_content": null,
            "justify_items": null,
            "left": null,
            "margin": null,
            "max_height": null,
            "max_width": null,
            "min_height": null,
            "min_width": null,
            "object_fit": null,
            "object_position": null,
            "order": null,
            "overflow": null,
            "overflow_x": null,
            "overflow_y": null,
            "padding": null,
            "right": null,
            "top": null,
            "visibility": null,
            "width": null
          }
        },
        "5198aca7075e43b39966297108f6eeb2": {
          "model_module": "@jupyter-widgets/controls",
          "model_name": "ProgressStyleModel",
          "model_module_version": "1.5.0",
          "state": {
            "_model_module": "@jupyter-widgets/controls",
            "_model_module_version": "1.5.0",
            "_model_name": "ProgressStyleModel",
            "_view_count": null,
            "_view_module": "@jupyter-widgets/base",
            "_view_module_version": "1.2.0",
            "_view_name": "StyleView",
            "bar_color": null,
            "description_width": ""
          }
        },
        "2f394a9e245f4787a07c09d4f685c5ee": {
          "model_module": "@jupyter-widgets/base",
          "model_name": "LayoutModel",
          "model_module_version": "1.2.0",
          "state": {
            "_model_module": "@jupyter-widgets/base",
            "_model_module_version": "1.2.0",
            "_model_name": "LayoutModel",
            "_view_count": null,
            "_view_module": "@jupyter-widgets/base",
            "_view_module_version": "1.2.0",
            "_view_name": "LayoutView",
            "align_content": null,
            "align_items": null,
            "align_self": null,
            "border": null,
            "bottom": null,
            "display": null,
            "flex": null,
            "flex_flow": null,
            "grid_area": null,
            "grid_auto_columns": null,
            "grid_auto_flow": null,
            "grid_auto_rows": null,
            "grid_column": null,
            "grid_gap": null,
            "grid_row": null,
            "grid_template_areas": null,
            "grid_template_columns": null,
            "grid_template_rows": null,
            "height": null,
            "justify_content": null,
            "justify_items": null,
            "left": null,
            "margin": null,
            "max_height": null,
            "max_width": null,
            "min_height": null,
            "min_width": null,
            "object_fit": null,
            "object_position": null,
            "order": null,
            "overflow": null,
            "overflow_x": null,
            "overflow_y": null,
            "padding": null,
            "right": null,
            "top": null,
            "visibility": null,
            "width": null
          }
        },
        "e0d3244e588645ceabd14cf0df35894b": {
          "model_module": "@jupyter-widgets/controls",
          "model_name": "DescriptionStyleModel",
          "model_module_version": "1.5.0",
          "state": {
            "_model_module": "@jupyter-widgets/controls",
            "_model_module_version": "1.5.0",
            "_model_name": "DescriptionStyleModel",
            "_view_count": null,
            "_view_module": "@jupyter-widgets/base",
            "_view_module_version": "1.2.0",
            "_view_name": "StyleView",
            "description_width": ""
          }
        },
        "cae6bcc9dca94df0873cfb598ff18205": {
          "model_module": "@jupyter-widgets/controls",
          "model_name": "HBoxModel",
          "model_module_version": "1.5.0",
          "state": {
            "_dom_classes": [],
            "_model_module": "@jupyter-widgets/controls",
            "_model_module_version": "1.5.0",
            "_model_name": "HBoxModel",
            "_view_count": null,
            "_view_module": "@jupyter-widgets/controls",
            "_view_module_version": "1.5.0",
            "_view_name": "HBoxView",
            "box_style": "",
            "children": [
              "IPY_MODEL_ade77a72d79548e3ae46911c9580155a",
              "IPY_MODEL_3cefce8cd3a74abf8189bba84452c12a",
              "IPY_MODEL_a7969b9c289e49c48646eda762f82213"
            ],
            "layout": "IPY_MODEL_5ee82a4d6c5a475b8f65ed03638e2319"
          }
        },
        "ade77a72d79548e3ae46911c9580155a": {
          "model_module": "@jupyter-widgets/controls",
          "model_name": "HTMLModel",
          "model_module_version": "1.5.0",
          "state": {
            "_dom_classes": [],
            "_model_module": "@jupyter-widgets/controls",
            "_model_module_version": "1.5.0",
            "_model_name": "HTMLModel",
            "_view_count": null,
            "_view_module": "@jupyter-widgets/controls",
            "_view_module_version": "1.5.0",
            "_view_name": "HTMLView",
            "description": "",
            "description_tooltip": null,
            "layout": "IPY_MODEL_81aebe5e49fb4cb1b9c9b1fc94e9fc8c",
            "placeholder": "​",
            "style": "IPY_MODEL_10893961191c40f19f0df0e32cbe1de2",
            "value": "Downloading builder script: "
          }
        },
        "3cefce8cd3a74abf8189bba84452c12a": {
          "model_module": "@jupyter-widgets/controls",
          "model_name": "FloatProgressModel",
          "model_module_version": "1.5.0",
          "state": {
            "_dom_classes": [],
            "_model_module": "@jupyter-widgets/controls",
            "_model_module_version": "1.5.0",
            "_model_name": "FloatProgressModel",
            "_view_count": null,
            "_view_module": "@jupyter-widgets/controls",
            "_view_module_version": "1.5.0",
            "_view_name": "ProgressView",
            "bar_style": "success",
            "description": "",
            "description_tooltip": null,
            "layout": "IPY_MODEL_ce9aff088f01421f86743ad1f42557cb",
            "max": 1652,
            "min": 0,
            "orientation": "horizontal",
            "style": "IPY_MODEL_9b1323db6c8842b9ae465e3c3078b466",
            "value": 1652
          }
        },
        "a7969b9c289e49c48646eda762f82213": {
          "model_module": "@jupyter-widgets/controls",
          "model_name": "HTMLModel",
          "model_module_version": "1.5.0",
          "state": {
            "_dom_classes": [],
            "_model_module": "@jupyter-widgets/controls",
            "_model_module_version": "1.5.0",
            "_model_name": "HTMLModel",
            "_view_count": null,
            "_view_module": "@jupyter-widgets/controls",
            "_view_module_version": "1.5.0",
            "_view_name": "HTMLView",
            "description": "",
            "description_tooltip": null,
            "layout": "IPY_MODEL_dc081a31c84a49d0ab75ade4d5391e90",
            "placeholder": "​",
            "style": "IPY_MODEL_bcc12d65a8c04e1c918a1c7cc7eee61a",
            "value": " 4.21k/? [00:00&lt;00:00, 115kB/s]"
          }
        },
        "5ee82a4d6c5a475b8f65ed03638e2319": {
          "model_module": "@jupyter-widgets/base",
          "model_name": "LayoutModel",
          "model_module_version": "1.2.0",
          "state": {
            "_model_module": "@jupyter-widgets/base",
            "_model_module_version": "1.2.0",
            "_model_name": "LayoutModel",
            "_view_count": null,
            "_view_module": "@jupyter-widgets/base",
            "_view_module_version": "1.2.0",
            "_view_name": "LayoutView",
            "align_content": null,
            "align_items": null,
            "align_self": null,
            "border": null,
            "bottom": null,
            "display": null,
            "flex": null,
            "flex_flow": null,
            "grid_area": null,
            "grid_auto_columns": null,
            "grid_auto_flow": null,
            "grid_auto_rows": null,
            "grid_column": null,
            "grid_gap": null,
            "grid_row": null,
            "grid_template_areas": null,
            "grid_template_columns": null,
            "grid_template_rows": null,
            "height": null,
            "justify_content": null,
            "justify_items": null,
            "left": null,
            "margin": null,
            "max_height": null,
            "max_width": null,
            "min_height": null,
            "min_width": null,
            "object_fit": null,
            "object_position": null,
            "order": null,
            "overflow": null,
            "overflow_x": null,
            "overflow_y": null,
            "padding": null,
            "right": null,
            "top": null,
            "visibility": null,
            "width": null
          }
        },
        "81aebe5e49fb4cb1b9c9b1fc94e9fc8c": {
          "model_module": "@jupyter-widgets/base",
          "model_name": "LayoutModel",
          "model_module_version": "1.2.0",
          "state": {
            "_model_module": "@jupyter-widgets/base",
            "_model_module_version": "1.2.0",
            "_model_name": "LayoutModel",
            "_view_count": null,
            "_view_module": "@jupyter-widgets/base",
            "_view_module_version": "1.2.0",
            "_view_name": "LayoutView",
            "align_content": null,
            "align_items": null,
            "align_self": null,
            "border": null,
            "bottom": null,
            "display": null,
            "flex": null,
            "flex_flow": null,
            "grid_area": null,
            "grid_auto_columns": null,
            "grid_auto_flow": null,
            "grid_auto_rows": null,
            "grid_column": null,
            "grid_gap": null,
            "grid_row": null,
            "grid_template_areas": null,
            "grid_template_columns": null,
            "grid_template_rows": null,
            "height": null,
            "justify_content": null,
            "justify_items": null,
            "left": null,
            "margin": null,
            "max_height": null,
            "max_width": null,
            "min_height": null,
            "min_width": null,
            "object_fit": null,
            "object_position": null,
            "order": null,
            "overflow": null,
            "overflow_x": null,
            "overflow_y": null,
            "padding": null,
            "right": null,
            "top": null,
            "visibility": null,
            "width": null
          }
        },
        "10893961191c40f19f0df0e32cbe1de2": {
          "model_module": "@jupyter-widgets/controls",
          "model_name": "DescriptionStyleModel",
          "model_module_version": "1.5.0",
          "state": {
            "_model_module": "@jupyter-widgets/controls",
            "_model_module_version": "1.5.0",
            "_model_name": "DescriptionStyleModel",
            "_view_count": null,
            "_view_module": "@jupyter-widgets/base",
            "_view_module_version": "1.2.0",
            "_view_name": "StyleView",
            "description_width": ""
          }
        },
        "ce9aff088f01421f86743ad1f42557cb": {
          "model_module": "@jupyter-widgets/base",
          "model_name": "LayoutModel",
          "model_module_version": "1.2.0",
          "state": {
            "_model_module": "@jupyter-widgets/base",
            "_model_module_version": "1.2.0",
            "_model_name": "LayoutModel",
            "_view_count": null,
            "_view_module": "@jupyter-widgets/base",
            "_view_module_version": "1.2.0",
            "_view_name": "LayoutView",
            "align_content": null,
            "align_items": null,
            "align_self": null,
            "border": null,
            "bottom": null,
            "display": null,
            "flex": null,
            "flex_flow": null,
            "grid_area": null,
            "grid_auto_columns": null,
            "grid_auto_flow": null,
            "grid_auto_rows": null,
            "grid_column": null,
            "grid_gap": null,
            "grid_row": null,
            "grid_template_areas": null,
            "grid_template_columns": null,
            "grid_template_rows": null,
            "height": null,
            "justify_content": null,
            "justify_items": null,
            "left": null,
            "margin": null,
            "max_height": null,
            "max_width": null,
            "min_height": null,
            "min_width": null,
            "object_fit": null,
            "object_position": null,
            "order": null,
            "overflow": null,
            "overflow_x": null,
            "overflow_y": null,
            "padding": null,
            "right": null,
            "top": null,
            "visibility": null,
            "width": null
          }
        },
        "9b1323db6c8842b9ae465e3c3078b466": {
          "model_module": "@jupyter-widgets/controls",
          "model_name": "ProgressStyleModel",
          "model_module_version": "1.5.0",
          "state": {
            "_model_module": "@jupyter-widgets/controls",
            "_model_module_version": "1.5.0",
            "_model_name": "ProgressStyleModel",
            "_view_count": null,
            "_view_module": "@jupyter-widgets/base",
            "_view_module_version": "1.2.0",
            "_view_name": "StyleView",
            "bar_color": null,
            "description_width": ""
          }
        },
        "dc081a31c84a49d0ab75ade4d5391e90": {
          "model_module": "@jupyter-widgets/base",
          "model_name": "LayoutModel",
          "model_module_version": "1.2.0",
          "state": {
            "_model_module": "@jupyter-widgets/base",
            "_model_module_version": "1.2.0",
            "_model_name": "LayoutModel",
            "_view_count": null,
            "_view_module": "@jupyter-widgets/base",
            "_view_module_version": "1.2.0",
            "_view_name": "LayoutView",
            "align_content": null,
            "align_items": null,
            "align_self": null,
            "border": null,
            "bottom": null,
            "display": null,
            "flex": null,
            "flex_flow": null,
            "grid_area": null,
            "grid_auto_columns": null,
            "grid_auto_flow": null,
            "grid_auto_rows": null,
            "grid_column": null,
            "grid_gap": null,
            "grid_row": null,
            "grid_template_areas": null,
            "grid_template_columns": null,
            "grid_template_rows": null,
            "height": null,
            "justify_content": null,
            "justify_items": null,
            "left": null,
            "margin": null,
            "max_height": null,
            "max_width": null,
            "min_height": null,
            "min_width": null,
            "object_fit": null,
            "object_position": null,
            "order": null,
            "overflow": null,
            "overflow_x": null,
            "overflow_y": null,
            "padding": null,
            "right": null,
            "top": null,
            "visibility": null,
            "width": null
          }
        },
        "bcc12d65a8c04e1c918a1c7cc7eee61a": {
          "model_module": "@jupyter-widgets/controls",
          "model_name": "DescriptionStyleModel",
          "model_module_version": "1.5.0",
          "state": {
            "_model_module": "@jupyter-widgets/controls",
            "_model_module_version": "1.5.0",
            "_model_name": "DescriptionStyleModel",
            "_view_count": null,
            "_view_module": "@jupyter-widgets/base",
            "_view_module_version": "1.2.0",
            "_view_name": "StyleView",
            "description_width": ""
          }
        }
      }
    }
  },
  "nbformat": 4,
  "nbformat_minor": 0
}