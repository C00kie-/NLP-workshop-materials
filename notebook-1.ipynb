{
 "cells": [
  {
   "cell_type": "markdown",
   "metadata": {
    "canvas": {
     "comments": [],
     "componentType": "CodeCell",
     "copiedOriginId": null,
     "diskcache": false,
     "headerColor": "transparent",
     "id": "63a8ca91-77f7-42a0-98ab-3da963b0ede7",
     "isComponent": false,
     "name": "",
     "parents": []
    },
    "tags": []
   },
   "source": [
    "# Build a sentiment analysis pipeline with HuggingFace"
   ]
  },
  {
   "cell_type": "code",
   "execution_count": 20,
   "metadata": {
    "canvas": {
     "comments": [],
     "componentType": "CodeCell",
     "copiedOriginId": null,
     "diskcache": false,
     "headerColor": "transparent",
     "id": "f4933072-dee2-4616-82c1-99f4fd97aea4",
     "isComponent": false,
     "name": "",
     "parents": []
    },
    "tags": []
   },
   "outputs": [],
   "source": [
    "#for colab\n",
    "!pip install transformers >> /dev/null"
   ]
  },
  {
   "cell_type": "code",
   "execution_count": 2,
   "metadata": {
    "canvas": {
     "comments": [],
     "componentType": "CodeCell",
     "copiedOriginId": null,
     "diskcache": false,
     "headerColor": "transparent",
     "id": "6916f834-04b9-4f75-a3bb-00709ef41168",
     "isComponent": false,
     "name": "",
     "parents": []
    }
   },
   "outputs": [],
   "source": [
    "from transformers import pipeline\n",
    "import torch\n",
    "from pprint import pprint"
   ]
  },
  {
   "cell_type": "code",
   "execution_count": 3,
   "metadata": {
    "canvas": {
     "comments": [],
     "componentType": "CodeCell",
     "copiedOriginId": null,
     "diskcache": false,
     "headerColor": "transparent",
     "id": "c249cd90-0f87-4826-86f0-fcdfa52de07c",
     "isComponent": false,
     "name": "",
     "parents": []
    }
   },
   "outputs": [
    {
     "name": "stderr",
     "output_type": "stream",
     "text": [
      "No model was supplied, defaulted to distilbert-base-uncased-finetuned-sst-2-english and revision af0f99b (https://huggingface.co/distilbert-base-uncased-finetuned-sst-2-english).\n",
      "Using a pipeline without specifying a model name and revision in production is not recommended.\n"
     ]
    }
   ],
   "source": [
    "classifier = pipeline(\"sentiment-analysis\")"
   ]
  },
  {
   "cell_type": "markdown",
   "metadata": {
    "canvas": {
     "comments": [],
     "componentType": "CodeCell",
     "copiedOriginId": null,
     "diskcache": false,
     "headerColor": "transparent",
     "id": "a7054925-11a8-49e0-b82b-288370705251",
     "isComponent": false,
     "name": "",
     "parents": []
    }
   },
   "source": [
    "We start by creating a \"Sentiment Analysis\" **classifier** using the pipeline function provided by the Hugging Face Transformers library. This function allows us to easily use pre-trained models for various natural language processing (NLP) tasks, like sentiment analysis."
   ]
  },
  {
   "cell_type": "code",
   "execution_count": 4,
   "metadata": {
    "canvas": {
     "comments": [],
     "componentType": "CodeCell",
     "copiedOriginId": null,
     "diskcache": false,
     "headerColor": "transparent",
     "id": "4780dc98-f54e-4e58-a994-aeed4be58112",
     "isComponent": false,
     "name": "",
     "parents": []
    }
   },
   "outputs": [
    {
     "data": {
      "text/plain": [
       "[{'label': 'POSITIVE', 'score': 0.9998584985733032}]"
      ]
     },
     "execution_count": 4,
     "metadata": {},
     "output_type": "execute_result"
    }
   ],
   "source": [
    "results = classifier(\"This is cool\")\n",
    "results"
   ]
  },
  {
   "cell_type": "markdown",
   "metadata": {
    "canvas": {
     "comments": [],
     "componentType": "CodeCell",
     "copiedOriginId": null,
     "diskcache": false,
     "headerColor": "transparent",
     "id": "dad47359-7b77-48e9-86e7-688131771618",
     "isComponent": false,
     "name": "",
     "parents": []
    }
   },
   "source": [
    "The model takes this text as input and predicts the sentiment associated with it. "
   ]
  },
  {
   "cell_type": "markdown",
   "metadata": {
    "canvas": {
     "comments": [],
     "componentType": "CodeCell",
     "copiedOriginId": null,
     "diskcache": false,
     "headerColor": "transparent",
     "id": "2941d163-b6ca-4104-942a-5fec644bc51b",
     "isComponent": false,
     "name": "",
     "parents": []
    }
   },
   "source": [
    "Pipeline on Huggingface [documentation](https://huggingface.co/docs/transformers/main_classes/pipelines)"
   ]
  },
  {
   "cell_type": "markdown",
   "metadata": {
    "canvas": {
     "comments": [],
     "componentType": "CodeCell",
     "copiedOriginId": null,
     "diskcache": false,
     "headerColor": "transparent",
     "id": "0964179b-e8a5-45aa-a3b7-59128f8fa223",
     "isComponent": false,
     "name": "",
     "parents": []
    }
   },
   "source": [
    "### More then one sentence"
   ]
  },
  {
   "cell_type": "code",
   "execution_count": 5,
   "metadata": {
    "canvas": {
     "comments": [],
     "componentType": "CodeCell",
     "copiedOriginId": null,
     "diskcache": false,
     "headerColor": "transparent",
     "id": "b3bc4c14-bb49-4c77-9c00-8ebd3000d617",
     "isComponent": false,
     "name": "",
     "parents": []
    }
   },
   "outputs": [
    {
     "data": {
      "text/plain": [
       "[{'label': 'POSITIVE', 'score': 0.9997960925102234},\n",
       " {'label': 'POSITIVE', 'score': 0.9995623230934143}]"
      ]
     },
     "execution_count": 5,
     "metadata": {},
     "output_type": "execute_result"
    }
   ],
   "source": [
    "# We give a list to the classifier now\n",
    "results = classifier([\"NLP is nice\", \"It's a lot of work\"])\n",
    "results"
   ]
  },
  {
   "cell_type": "markdown",
   "metadata": {
    "canvas": {
     "comments": [],
     "componentType": "CodeCell",
     "copiedOriginId": null,
     "diskcache": false,
     "headerColor": "transparent",
     "id": "6240273b-eade-4316-9c21-31e381f4cc80",
     "isComponent": false,
     "name": "",
     "parents": []
    }
   },
   "source": [
    "### Exercise:\n",
    "\n",
    "Add different text inputs with varying sentiments, run it, check the model's sentiment predictions, and explore how it assigns labels."
   ]
  },
  {
   "cell_type": "markdown",
   "metadata": {
    "canvas": {
     "comments": [],
     "componentType": "CodeCell",
     "copiedOriginId": null,
     "diskcache": false,
     "headerColor": "transparent",
     "id": "f079bdb6-56bf-4f1b-a14f-9f06e4bb716e",
     "isComponent": false,
     "name": "",
     "parents": []
    }
   },
   "source": [
    "## Now select a specific model into your pipeline"
   ]
  },
  {
   "cell_type": "code",
   "execution_count": 6,
   "metadata": {
    "canvas": {
     "comments": [],
     "componentType": "CodeCell",
     "copiedOriginId": null,
     "diskcache": false,
     "headerColor": "transparent",
     "id": "76c24da8-19b3-4d9b-8f28-2a24baf24609",
     "isComponent": false,
     "name": "",
     "parents": []
    }
   },
   "outputs": [],
   "source": [
    "model_name = \"distilbert-base-uncased-finetuned-sst-2-english\""
   ]
  },
  {
   "cell_type": "markdown",
   "metadata": {
    "canvas": {
     "comments": [],
     "componentType": "CodeCell",
     "copiedOriginId": null,
     "diskcache": false,
     "headerColor": "transparent",
     "id": "e43026de-6123-46bc-97a4-a324d9c4ed3b",
     "isComponent": false,
     "name": "",
     "parents": []
    }
   },
   "source": [
    "The model_name variable holds the name of the pre-trained model. In this case, it's \"distilbert-base-uncased-finetuned-sst-2-english\""
   ]
  },
  {
   "cell_type": "markdown",
   "metadata": {
    "canvas": {
     "comments": [],
     "componentType": "CodeCell",
     "copiedOriginId": null,
     "diskcache": false,
     "headerColor": "transparent",
     "id": "00508051-33da-4c2a-b7fe-9df6caa3ee29",
     "isComponent": false,
     "name": "",
     "parents": []
    }
   },
   "source": [
    "Let's have a look at the model [card on Hugginface.co](https://huggingface.co/distilbert-base-uncased-finetuned-sst-2-english)"
   ]
  },
  {
   "cell_type": "code",
   "execution_count": 7,
   "metadata": {
    "canvas": {
     "comments": [],
     "componentType": "CodeCell",
     "copiedOriginId": null,
     "diskcache": false,
     "headerColor": "transparent",
     "id": "a297fb39-5976-4f2c-b634-00109cf8b18d",
     "isComponent": false,
     "name": "",
     "parents": []
    }
   },
   "outputs": [],
   "source": [
    "classifier = pipeline(\"sentiment-analysis\", model=model_name)"
   ]
  },
  {
   "cell_type": "markdown",
   "metadata": {
    "canvas": {
     "comments": [],
     "componentType": "CodeCell",
     "copiedOriginId": null,
     "diskcache": false,
     "headerColor": "transparent",
     "id": "333402f2-aff3-40df-a760-df4eaea2ac72",
     "isComponent": false,
     "name": "",
     "parents": []
    }
   },
   "source": [
    "## Tokenizer"
   ]
  },
  {
   "cell_type": "markdown",
   "metadata": {
    "canvas": {
     "comments": [],
     "componentType": "CodeCell",
     "copiedOriginId": null,
     "diskcache": false,
     "headerColor": "transparent",
     "id": "40adb757-7599-4416-b922-7da1860b29e8",
     "isComponent": false,
     "name": "",
     "parents": []
    }
   },
   "source": [
    "- Tokenization is the process of breaking down text into smaller **units** called **tokens**.\n",
    "\n",
    "- Tokens are the basic building blocks used by Transformers models to understand and process text.\n",
    "\n",
    "- Tokens can represent **words, subwords, or even individual characters**, depending on the model's vocabulary."
   ]
  },
  {
   "cell_type": "markdown",
   "metadata": {
    "canvas": {
     "comments": [],
     "componentType": "CodeCell",
     "copiedOriginId": null,
     "diskcache": false,
     "headerColor": "transparent",
     "id": "97cdbe58-cc6e-4e85-b169-8477fd18749a",
     "isComponent": false,
     "name": "",
     "parents": []
    }
   },
   "source": [
    "![Pipeline](https://huggingface.co/datasets/huggingface-course/documentation-images/resolve/main/en/chapter2/full_nlp_pipeline.svg)"
   ]
  },
  {
   "cell_type": "markdown",
   "metadata": {
    "canvas": {
     "comments": [],
     "componentType": "CodeCell",
     "copiedOriginId": null,
     "diskcache": false,
     "headerColor": "transparent",
     "id": "2ea1022b-9c16-43eb-939c-d8efd48b1706",
     "isComponent": false,
     "name": "",
     "parents": []
    }
   },
   "source": [
    "Source [image](https://huggingface.co/learn/nlp-course/chapter2/2?fw=pt)"
   ]
  },
  {
   "cell_type": "code",
   "execution_count": 8,
   "metadata": {
    "canvas": {
     "comments": [],
     "componentType": "CodeCell",
     "copiedOriginId": null,
     "diskcache": false,
     "headerColor": "transparent",
     "id": "d00291e1-ef59-42eb-b172-698f5418283a",
     "isComponent": false,
     "name": "",
     "parents": []
    }
   },
   "outputs": [],
   "source": [
    "from transformers import AutoTokenizer, AutoModelForSequenceClassification"
   ]
  },
  {
   "cell_type": "markdown",
   "metadata": {
    "canvas": {
     "comments": [],
     "componentType": "CodeCell",
     "copiedOriginId": null,
     "diskcache": false,
     "headerColor": "transparent",
     "id": "1e0f161e-8445-4034-84bc-de5ea149314a",
     "isComponent": false,
     "name": "",
     "parents": []
    }
   },
   "source": [
    "\"AutoModelForSequenceClassification\" adapts to various model architectures automatically."
   ]
  },
  {
   "cell_type": "code",
   "execution_count": 9,
   "metadata": {
    "canvas": {
     "comments": [],
     "componentType": "CodeCell",
     "copiedOriginId": null,
     "diskcache": false,
     "headerColor": "transparent",
     "id": "35a540c1-e743-441b-890f-0df2bf11ffef",
     "isComponent": false,
     "name": "",
     "parents": []
    }
   },
   "outputs": [],
   "source": [
    "model = AutoModelForSequenceClassification.from_pretrained(model_name)\n",
    "tokenizer = AutoTokenizer.from_pretrained(model_name)"
   ]
  },
  {
   "cell_type": "markdown",
   "metadata": {
    "canvas": {
     "comments": [],
     "componentType": "CodeCell",
     "copiedOriginId": null,
     "diskcache": false,
     "headerColor": "transparent",
     "id": "b9ef988f-bdfe-4e6f-94c6-2633114b841f",
     "isComponent": false,
     "name": "",
     "parents": []
    }
   },
   "source": [
    "When using from_pretrained, we are loading a pre-trained model and tokenizer specified by the model_name."
   ]
  },
  {
   "cell_type": "code",
   "execution_count": 10,
   "metadata": {
    "canvas": {
     "comments": [],
     "componentType": "CodeCell",
     "copiedOriginId": null,
     "diskcache": false,
     "headerColor": "transparent",
     "id": "c05116ad-ab33-4653-8356-70c120165492",
     "isComponent": false,
     "name": "",
     "parents": []
    }
   },
   "outputs": [],
   "source": [
    "classifier = pipeline(\"sentiment-analysis\", model=model, tokenizer=tokenizer)"
   ]
  },
  {
   "cell_type": "markdown",
   "metadata": {
    "canvas": {
     "comments": [],
     "componentType": "CodeCell",
     "copiedOriginId": null,
     "diskcache": false,
     "headerColor": "transparent",
     "id": "15188336-ee64-426c-bcb3-5c701eea1ffb",
     "isComponent": false,
     "name": "",
     "parents": []
    }
   },
   "source": [
    "We create our sentiment analysis classifier."
   ]
  },
  {
   "cell_type": "markdown",
   "metadata": {
    "canvas": {
     "comments": [],
     "componentType": "CodeCell",
     "copiedOriginId": null,
     "diskcache": false,
     "headerColor": "transparent",
     "id": "bd6f3686-1273-4f27-b309-3c0ff8b08b99",
     "isComponent": false,
     "name": "",
     "parents": []
    }
   },
   "source": [
    "## Tokens to inputs IDs"
   ]
  },
  {
   "cell_type": "code",
   "execution_count": 11,
   "metadata": {
    "canvas": {
     "comments": [],
     "componentType": "CodeCell",
     "copiedOriginId": null,
     "diskcache": false,
     "headerColor": "transparent",
     "id": "96a87e2d-e978-492d-8a77-d9bb24ad7504",
     "isComponent": false,
     "name": "",
     "parents": []
    }
   },
   "outputs": [],
   "source": [
    "tokens = tokenizer.tokenize(\"Another cool sentence to demonstrate something.\")\n",
    "token_ids = tokenizer.convert_tokens_to_ids(tokens)\n",
    "input_ids = tokenizer(\"Another cool sentence to demonstrate something.\")"
   ]
  },
  {
   "cell_type": "code",
   "execution_count": 12,
   "metadata": {
    "canvas": {
     "comments": [],
     "componentType": "CodeCell",
     "copiedOriginId": null,
     "diskcache": false,
     "headerColor": "transparent",
     "id": "04686956-2efb-435b-b313-b64cd0744914",
     "isComponent": false,
     "name": "",
     "parents": []
    }
   },
   "outputs": [
    {
     "name": "stdout",
     "output_type": "stream",
     "text": [
      " Tokens:['another', 'cool', 'sentence', 'to', 'demonstrate', 'something', '.']\n",
      " Token IDs: [2178, 4658, 6251, 2000, 10580, 2242, 1012]\n",
      " input_ids:{'input_ids': [101, 2178, 4658, 6251, 2000, 10580, 2242, 1012, 102], 'attention_mask': [1, 1, 1, 1, 1, 1, 1, 1, 1]}\n"
     ]
    }
   ],
   "source": [
    "print(f' Tokens:{tokens}')\n",
    "print(f' Token IDs: {token_ids}')\n",
    "print(f' input_ids:{input_ids}')"
   ]
  },
  {
   "cell_type": "markdown",
   "metadata": {
    "canvas": {
     "comments": [],
     "componentType": "CodeCell",
     "copiedOriginId": null,
     "diskcache": false,
     "headerColor": "transparent",
     "id": "932fcaca-0a9d-4e61-8d6e-5860b59b389e",
     "isComponent": false,
     "name": "",
     "parents": []
    }
   },
   "source": [
    "### Exercise: \n",
    "Test different tokenizers, select models from the hub."
   ]
  },
  {
   "cell_type": "code",
   "execution_count": 13,
   "metadata": {
    "canvas": {
     "comments": [],
     "componentType": "CodeCell",
     "copiedOriginId": null,
     "diskcache": false,
     "headerColor": "transparent",
     "id": "5f494744-55c6-439c-8b52-76312df4ce85",
     "isComponent": false,
     "name": "",
     "parents": []
    }
   },
   "outputs": [],
   "source": [
    "#you can use this code\n",
    "#tokenizer = AutoTokenizer.from_pretrained(\"[model]\")\n",
    "#tokens = tokenizer.tokenize(\"Woaou another sentence!\")\n",
    "#token_ids = tokenizer.convert_tokens_to_ids(tokens)\n",
    "#input_ids = tokenizer(\"Another cool sentence to demonstrate something.\")"
   ]
  },
  {
   "cell_type": "code",
   "execution_count": 14,
   "metadata": {
    "canvas": {
     "comments": [],
     "componentType": "CodeCell",
     "copiedOriginId": null,
     "diskcache": false,
     "headerColor": "transparent",
     "id": "8c8f9925-1229-4eef-9582-a510ef1bf764",
     "isComponent": false,
     "name": "",
     "parents": []
    }
   },
   "outputs": [
    {
     "name": "stdout",
     "output_type": "stream",
     "text": [
      " Tokens:['another', 'cool', 'sentence', 'to', 'demonstrate', 'something', '.']\n",
      " Token IDs: [2178, 4658, 6251, 2000, 10580, 2242, 1012]\n",
      " input_ids:{'input_ids': [101, 2178, 4658, 6251, 2000, 10580, 2242, 1012, 102], 'attention_mask': [1, 1, 1, 1, 1, 1, 1, 1, 1]}\n"
     ]
    }
   ],
   "source": [
    "print(f' Tokens:{tokens}')\n",
    "print(f' Token IDs: {token_ids}')\n",
    "print(f' input_ids:{input_ids}')"
   ]
  },
  {
   "cell_type": "markdown",
   "metadata": {
    "canvas": {
     "comments": [],
     "componentType": "CodeCell",
     "copiedOriginId": null,
     "diskcache": false,
     "headerColor": "transparent",
     "id": "f5239f25-7e4b-4c33-8873-7b5ff3750f17",
     "isComponent": false,
     "name": "",
     "parents": []
    }
   },
   "source": [
    "## Batching"
   ]
  },
  {
   "cell_type": "code",
   "execution_count": 15,
   "metadata": {
    "canvas": {
     "comments": [],
     "componentType": "CodeCell",
     "copiedOriginId": null,
     "diskcache": false,
     "headerColor": "transparent",
     "id": "615c6993-728e-4c6e-a8e6-c1604413bcbc",
     "isComponent": false,
     "name": "",
     "parents": []
    }
   },
   "outputs": [],
   "source": [
    "sentences = [\"Another cool sentence to demonstrate something.\",\n",
    "           \"All I need is two sentences.\"]\n",
    "batch = tokenizer(sentences, padding=True, truncation=True, max_length=512, return_tensors=\"pt\") #pt for pyTorch"
   ]
  },
  {
   "cell_type": "markdown",
   "metadata": {
    "canvas": {
     "comments": [],
     "componentType": "CodeCell",
     "copiedOriginId": null,
     "diskcache": false,
     "headerColor": "transparent",
     "id": "57df910e-25d8-4c2a-a877-5245ed2f1e92",
     "isComponent": false,
     "name": "",
     "parents": []
    }
   },
   "source": [
    "### Note:\n",
    "All our sample will have the same length (necessity for the model) - tensors must have the same shape.\n",
    "```\n",
    "padding=True and truncation=True\n",
    "```"
   ]
  },
  {
   "cell_type": "code",
   "execution_count": 16,
   "metadata": {
    "canvas": {
     "comments": [],
     "componentType": "CodeCell",
     "copiedOriginId": null,
     "diskcache": false,
     "headerColor": "transparent",
     "id": "5d671874-86ad-4b2e-8e50-e8ac56e6c1d5",
     "isComponent": false,
     "name": "",
     "parents": []
    }
   },
   "outputs": [
    {
     "name": "stdout",
     "output_type": "stream",
     "text": [
      "{'attention_mask': tensor([[1, 1, 1, 1, 1, 1, 1, 1, 1],\n",
      "        [1, 1, 1, 1, 1, 1, 1, 1, 1]]),\n",
      " 'input_ids': tensor([[  101,  2178,  4658,  6251,  2000, 10580,  2242,  1012,   102],\n",
      "        [  101,  2035,  1045,  2342,  2003,  2048, 11746,  1012,   102]])}\n"
     ]
    }
   ],
   "source": [
    "pprint(batch)"
   ]
  },
  {
   "cell_type": "markdown",
   "metadata": {
    "canvas": {
     "comments": [],
     "componentType": "CodeCell",
     "copiedOriginId": null,
     "diskcache": false,
     "headerColor": "transparent",
     "id": "f2626663-72ec-473b-81be-0ff012acc676",
     "isComponent": false,
     "name": "",
     "parents": []
    }
   },
   "source": [
    "Returns a dictionary with keys 'input_ids' and 'attention_mask', with two tensors the 'input ids' tensor and the 'attention_mask' tensor.\n",
    "input_ids are unique ids."
   ]
  },
  {
   "cell_type": "markdown",
   "metadata": {
    "canvas": {
     "comments": [],
     "componentType": "CodeCell",
     "copiedOriginId": null,
     "diskcache": false,
     "headerColor": "transparent",
     "id": "01493333-1be7-415e-b4fb-896ce6e37cfd",
     "isComponent": false,
     "name": "",
     "parents": []
    }
   },
   "source": [
    "## Predictions"
   ]
  },
  {
   "cell_type": "code",
   "execution_count": 17,
   "metadata": {
    "canvas": {
     "comments": [],
     "componentType": "CodeCell",
     "copiedOriginId": null,
     "diskcache": false,
     "headerColor": "transparent",
     "id": "fa3281ae-5d66-4732-80da-cf7840ff81ee",
     "isComponent": false,
     "name": "",
     "parents": []
    }
   },
   "outputs": [
    {
     "name": "stdout",
     "output_type": "stream",
     "text": [
      "SequenceClassifierOutput(loss=None,\n",
      "                         logits=tensor([[-3.9261,  4.2183],\n",
      "        [ 2.8756, -2.4102]]),\n",
      "                         hidden_states=None,\n",
      "                         attentions=None)\n",
      "tensor([[2.9026e-04, 9.9971e-01],\n",
      "        [9.9496e-01, 5.0377e-03]])\n",
      "['POSITIVE', 'NEGATIVE']\n"
     ]
    }
   ],
   "source": [
    "# Prevent gradient computation\n",
    "\n",
    "with torch.no_grad():\n",
    "    outputs = model(**batch) \n",
    "    predictions = torch.softmax(outputs.logits, dim=1)      # Apply softmax to convert model logits to probabilities\n",
    "    labels = torch.argmax(predictions, dim=1)              # Find the index of the class with the highest probability for each example\n",
    "    labels = [model.config.id2label[label_id] for label_id in labels.tolist()]\n",
    "    pprint(outputs)\n",
    "    pprint(predictions)\n",
    "    pprint(labels)"
   ]
  },
  {
   "cell_type": "code",
   "execution_count": 18,
   "metadata": {
    "canvas": {
     "comments": [],
     "componentType": "CodeCell",
     "copiedOriginId": null,
     "diskcache": false,
     "headerColor": "transparent",
     "id": "b847078f-eb90-458b-b936-c8e705615492",
     "isComponent": false,
     "name": "",
     "parents": []
    }
   },
   "outputs": [
    {
     "name": "stdout",
     "output_type": "stream",
     "text": [
      "tensor([[0.0000, 1.0000],\n",
      "        [0.9900, 0.0100]])\n"
     ]
    }
   ],
   "source": [
    "# Define the number of decimal places to round to\n",
    "decimal_places = 2\n",
    "# Round the probabilities\n",
    "rounded_probabilities = torch.round(predictions * 10**decimal_places) / (10**decimal_places)\n",
    "# Print the rounded probabilities\n",
    "print(rounded_probabilities)"
   ]
  },
  {
   "cell_type": "markdown",
   "metadata": {
    "canvas": {
     "comments": [],
     "componentType": "CodeCell",
     "copiedOriginId": null,
     "diskcache": false,
     "headerColor": "transparent",
     "id": "d5212a0a-c5e4-42c0-a149-fcc995936d35",
     "isComponent": false,
     "name": "",
     "parents": []
    }
   },
   "source": [
    "### Saving"
   ]
  },
  {
   "cell_type": "code",
   "execution_count": 19,
   "metadata": {
    "canvas": {
     "comments": [],
     "componentType": "CodeCell",
     "copiedOriginId": null,
     "diskcache": false,
     "headerColor": "transparent",
     "id": "06748684-cb6b-4ebc-a6f3-c2f040f1b37f",
     "isComponent": false,
     "name": "",
     "parents": []
    },
    "tags": []
   },
   "outputs": [],
   "source": [
    "save_directory = \"your_dir\"\n",
    "tokenizer.save_pretrained(save_directory)\n",
    "model. save_pretrained(save_directory)\n",
    "\n",
    "tokenizer = AutoTokenizer.from_pretrained(save_directory)\n",
    "model = AutoModelForSequenceClassification.from_pretrained(save_directory)\n"
   ]
  }
 ],
 "metadata": {
  "canvas": {
   "colorPalette": [
    "inherit",
    "inherit",
    "inherit",
    "inherit",
    "inherit",
    "inherit",
    "inherit",
    "inherit",
    "inherit",
    "inherit"
   ],
   "parameters": [],
   "version": "1.0"
  },
  "kernelspec": {
   "display_name": "Python 3 (ipykernel)",
   "language": "python",
   "name": "python3"
  },
  "language_info": {
   "codemirror_mode": {
    "name": "ipython",
    "version": 3
   },
   "file_extension": ".py",
   "mimetype": "text/x-python",
   "name": "python",
   "nbconvert_exporter": "python",
   "pygments_lexer": "ipython3",
   "version": "3.10.12"
  }
 },
 "nbformat": 4,
 "nbformat_minor": 4
}
