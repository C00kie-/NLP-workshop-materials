{
  "cells": [
    {
      "cell_type": "markdown",
      "metadata": {
        "colab_type": "text",
        "id": "view-in-github"
      },
      "source": [
        "<a href=\"https://colab.research.google.com/github/C00kie-/nlp/blob/main/keras_NN_create_layers.ipynb\" target=\"_parent\"><img src=\"https://colab.research.google.com/assets/colab-badge.svg\" alt=\"Open In Colab\"/></a>"
      ]
    },
    {
      "cell_type": "code",
      "execution_count": null,
      "metadata": {
        "colab": {
          "base_uri": "https://localhost:8080/"
        },
        "id": "F4yYVFo0i9-r",
        "outputId": "0eec735c-2da2-476b-b3cf-52b15918f4ef"
      },
      "outputs": [],
      "source": [
        "import numpy as np\n",
        "from keras.models import Sequential\n",
        "from keras.layers import Dense, Activation\n",
        "from keras.optimizers import SGD\n",
        "\n",
        "# Our examples for an exclusive OR.\n",
        "x_train = np.array([[0, 0],\n",
        "                    [0, 1],\n",
        "                    [1, 0],\n",
        "                    [1, 1]])\n",
        "y_train = np.array([[0],\n",
        "                    [1],\n",
        "                    [1],\n",
        "                    [0]])\n",
        "\n",
        "model = Sequential()\n",
        "num_neurons = 10\n",
        "model.add(Dense(num_neurons, input_dim=2))\n",
        "model.add(Activation('tanh'))\n",
        "model.add(Dense(1))\n",
        "model.add(Activation('sigmoid'))\n",
        "model.summary()\n",
        "\n",
        "if __name__ == \"__main__\":\n",
        "    # Additional code to train or test the model can be added here.\n",
        "    pass\n"
      ]
    },
    {
      "cell_type": "code",
      "execution_count": null,
      "metadata": {
        "colab": {
          "base_uri": "https://localhost:8080/"
        },
        "id": "3yuFv-1wjjyd",
        "outputId": "1519854f-df61-44a6-e728-7230cfece9b5"
      },
      "outputs": [],
      "source": [
        "model.summary()"
      ]
    },
    {
      "cell_type": "code",
      "execution_count": null,
      "metadata": {
        "colab": {
          "base_uri": "https://localhost:8080/"
        },
        "id": "Gq541s43jk0O",
        "outputId": "fc8b86e5-711b-48da-e5ca-062e2e4b04b0"
      },
      "outputs": [],
      "source": [
        "model.predict(x_train)"
      ]
    },
    {
      "cell_type": "code",
      "execution_count": null,
      "metadata": {
        "colab": {
          "base_uri": "https://localhost:8080/"
        },
        "id": "ZX58VfqzkVMS",
        "outputId": "7c2ceb7e-7275-413c-c2d2-700d30291489"
      },
      "outputs": [],
      "source": [
        "sgd = SGD(lr=0.1)\n",
        "model.compile(loss='binary_crossentropy', optimizer=sgd,\n",
        "metrics=['accuracy'])"
      ]
    },
    {
      "cell_type": "code",
      "execution_count": null,
      "metadata": {
        "colab": {
          "base_uri": "https://localhost:8080/"
        },
        "id": "GAO_sjUukC8U",
        "outputId": "f80a1f4e-0ae3-4297-9141-2fb8016ecc06"
      },
      "outputs": [],
      "source": [
        "model.fit(x_train, y_train, epochs=100)"
      ]
    },
    {
      "cell_type": "code",
      "execution_count": null,
      "metadata": {
        "id": "zqmNO6snpJ8o"
      },
      "outputs": [],
      "source": [
        "import h5py\n",
        "model_structure = model.to_json()\n",
        "\n",
        "with open('basic_model.json', 'w') as json_file:\n",
        "  json_file.write(model_structure)\n",
        "\n",
        "model.save_weights(\"basic_weights.h5\")"
      ]
    }
  ],
  "metadata": {
    "colab": {
      "authorship_tag": "ABX9TyOuZEXl1yGTV50vaRekjS2r",
      "include_colab_link": true,
      "provenance": []
    },
    "kernelspec": {
      "display_name": "Python 3",
      "name": "python3"
    },
    "language_info": {
      "codemirror_mode": {
        "name": "ipython",
        "version": 3
      },
      "file_extension": ".py",
      "mimetype": "text/x-python",
      "name": "python",
      "nbconvert_exporter": "python",
      "pygments_lexer": "ipython3",
      "version": "3.11.5"
    }
  },
  "nbformat": 4,
  "nbformat_minor": 0
}
